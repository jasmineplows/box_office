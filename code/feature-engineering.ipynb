{
 "cells": [
  {
   "cell_type": "markdown",
   "metadata": {},
   "source": [
    "# Data Exploration and Feature Engineering"
   ]
  },
  {
   "cell_type": "code",
   "execution_count": 100,
   "metadata": {},
   "outputs": [],
   "source": [
    "import pandas as pd\n",
    "import json\n",
    "import re\n",
    "import numpy as np"
   ]
  },
  {
   "cell_type": "code",
   "execution_count": 101,
   "metadata": {},
   "outputs": [
    {
     "name": "stdout",
     "output_type": "stream",
     "text": [
      "Dataset shape (after removing adult films and zero revenue/budget movies): (4767, 14)\n"
     ]
    },
    {
     "data": {
      "text/html": [
       "<div>\n",
       "<style scoped>\n",
       "    .dataframe tbody tr th:only-of-type {\n",
       "        vertical-align: middle;\n",
       "    }\n",
       "\n",
       "    .dataframe tbody tr th {\n",
       "        vertical-align: top;\n",
       "    }\n",
       "\n",
       "    .dataframe thead th {\n",
       "        text-align: right;\n",
       "    }\n",
       "</style>\n",
       "<table border=\"1\" class=\"dataframe\">\n",
       "  <thead>\n",
       "    <tr style=\"text-align: right;\">\n",
       "      <th></th>\n",
       "      <th>id</th>\n",
       "      <th>imdb_id</th>\n",
       "      <th>title</th>\n",
       "      <th>release_date</th>\n",
       "      <th>runtime</th>\n",
       "      <th>budget</th>\n",
       "      <th>revenue</th>\n",
       "      <th>adult</th>\n",
       "      <th>spoken_languages</th>\n",
       "      <th>genres</th>\n",
       "      <th>production_companies</th>\n",
       "      <th>production_countries</th>\n",
       "      <th>keywords</th>\n",
       "      <th>release_year</th>\n",
       "    </tr>\n",
       "  </thead>\n",
       "  <tbody>\n",
       "    <tr>\n",
       "      <th>0</th>\n",
       "      <td>293660</td>\n",
       "      <td>tt1431045</td>\n",
       "      <td>Deadpool</td>\n",
       "      <td>2016-02-09</td>\n",
       "      <td>108</td>\n",
       "      <td>58000000</td>\n",
       "      <td>783100000</td>\n",
       "      <td>False</td>\n",
       "      <td>English</td>\n",
       "      <td>Action, Adventure, Comedy</td>\n",
       "      <td>20th Century Fox, The Donners' Company, Genre ...</td>\n",
       "      <td>United States of America</td>\n",
       "      <td>superhero, anti hero, mercenary, based on comi...</td>\n",
       "      <td>2016</td>\n",
       "    </tr>\n",
       "    <tr>\n",
       "      <th>1</th>\n",
       "      <td>299536</td>\n",
       "      <td>tt4154756</td>\n",
       "      <td>Avengers: Infinity War</td>\n",
       "      <td>2018-04-25</td>\n",
       "      <td>149</td>\n",
       "      <td>300000000</td>\n",
       "      <td>2052415039</td>\n",
       "      <td>False</td>\n",
       "      <td>English, Xhosa</td>\n",
       "      <td>Adventure, Action, Science Fiction</td>\n",
       "      <td>Marvel Studios</td>\n",
       "      <td>United States of America</td>\n",
       "      <td>sacrifice, magic, superhero, based on comic, s...</td>\n",
       "      <td>2018</td>\n",
       "    </tr>\n",
       "    <tr>\n",
       "      <th>2</th>\n",
       "      <td>299534</td>\n",
       "      <td>tt4154796</td>\n",
       "      <td>Avengers: Endgame</td>\n",
       "      <td>2019-04-24</td>\n",
       "      <td>181</td>\n",
       "      <td>356000000</td>\n",
       "      <td>2800000000</td>\n",
       "      <td>False</td>\n",
       "      <td>English, Japanese, Xhosa</td>\n",
       "      <td>Adventure, Science Fiction, Action</td>\n",
       "      <td>Marvel Studios</td>\n",
       "      <td>United States of America</td>\n",
       "      <td>superhero, time travel, space travel, time mac...</td>\n",
       "      <td>2019</td>\n",
       "    </tr>\n",
       "    <tr>\n",
       "      <th>3</th>\n",
       "      <td>475557</td>\n",
       "      <td>tt7286456</td>\n",
       "      <td>Joker</td>\n",
       "      <td>2019-10-01</td>\n",
       "      <td>122</td>\n",
       "      <td>55000000</td>\n",
       "      <td>1074458282</td>\n",
       "      <td>False</td>\n",
       "      <td>English</td>\n",
       "      <td>Crime, Thriller, Drama</td>\n",
       "      <td>Warner Bros. Pictures, Joint Effort, Village R...</td>\n",
       "      <td>Canada, United States of America</td>\n",
       "      <td>dream, street gang, society, psychopath, clown...</td>\n",
       "      <td>2019</td>\n",
       "    </tr>\n",
       "    <tr>\n",
       "      <th>4</th>\n",
       "      <td>99861</td>\n",
       "      <td>tt2395427</td>\n",
       "      <td>Avengers: Age of Ultron</td>\n",
       "      <td>2015-04-22</td>\n",
       "      <td>141</td>\n",
       "      <td>365000000</td>\n",
       "      <td>1405403694</td>\n",
       "      <td>False</td>\n",
       "      <td>English</td>\n",
       "      <td>Action, Adventure, Science Fiction</td>\n",
       "      <td>Marvel Studios</td>\n",
       "      <td>United States of America</td>\n",
       "      <td>artificial intelligence (a.i.), superhero, bas...</td>\n",
       "      <td>2015</td>\n",
       "    </tr>\n",
       "  </tbody>\n",
       "</table>\n",
       "</div>"
      ],
      "text/plain": [
       "       id    imdb_id                    title release_date  runtime  \\\n",
       "0  293660  tt1431045                 Deadpool   2016-02-09      108   \n",
       "1  299536  tt4154756   Avengers: Infinity War   2018-04-25      149   \n",
       "2  299534  tt4154796        Avengers: Endgame   2019-04-24      181   \n",
       "3  475557  tt7286456                    Joker   2019-10-01      122   \n",
       "4   99861  tt2395427  Avengers: Age of Ultron   2015-04-22      141   \n",
       "\n",
       "      budget     revenue  adult          spoken_languages  \\\n",
       "0   58000000   783100000  False                   English   \n",
       "1  300000000  2052415039  False            English, Xhosa   \n",
       "2  356000000  2800000000  False  English, Japanese, Xhosa   \n",
       "3   55000000  1074458282  False                   English   \n",
       "4  365000000  1405403694  False                   English   \n",
       "\n",
       "                               genres  \\\n",
       "0           Action, Adventure, Comedy   \n",
       "1  Adventure, Action, Science Fiction   \n",
       "2  Adventure, Science Fiction, Action   \n",
       "3              Crime, Thriller, Drama   \n",
       "4  Action, Adventure, Science Fiction   \n",
       "\n",
       "                                production_companies  \\\n",
       "0  20th Century Fox, The Donners' Company, Genre ...   \n",
       "1                                     Marvel Studios   \n",
       "2                                     Marvel Studios   \n",
       "3  Warner Bros. Pictures, Joint Effort, Village R...   \n",
       "4                                     Marvel Studios   \n",
       "\n",
       "               production_countries  \\\n",
       "0          United States of America   \n",
       "1          United States of America   \n",
       "2          United States of America   \n",
       "3  Canada, United States of America   \n",
       "4          United States of America   \n",
       "\n",
       "                                            keywords  release_year  \n",
       "0  superhero, anti hero, mercenary, based on comi...          2016  \n",
       "1  sacrifice, magic, superhero, based on comic, s...          2018  \n",
       "2  superhero, time travel, space travel, time mac...          2019  \n",
       "3  dream, street gang, society, psychopath, clown...          2019  \n",
       "4  artificial intelligence (a.i.), superhero, bas...          2015  "
      ]
     },
     "execution_count": 101,
     "metadata": {},
     "output_type": "execute_result"
    }
   ],
   "source": [
    "df = pd.read_csv(\"../data/dataset.csv\")\n",
    "\n",
    "# Filter out adult films\n",
    "df = df[df['adult'] == False]\n",
    "\n",
    "# Remove movies with zero revenue OR zero budget\n",
    "df = df[(df['revenue'] > 0) & (df['budget'] > 0)]\n",
    "\n",
    "print(f\"Dataset shape (after removing adult films and zero revenue/budget movies): {df.shape}\")\n",
    "df.head()"
   ]
  },
  {
   "cell_type": "markdown",
   "metadata": {},
   "source": [
    "## Basic Data Info"
   ]
  },
  {
   "cell_type": "code",
   "execution_count": 102,
   "metadata": {},
   "outputs": [
    {
     "name": "stdout",
     "output_type": "stream",
     "text": [
      "<class 'pandas.core.frame.DataFrame'>\n",
      "Index: 4767 entries, 0 to 426698\n",
      "Data columns (total 14 columns):\n",
      " #   Column                Non-Null Count  Dtype \n",
      "---  ------                --------------  ----- \n",
      " 0   id                    4767 non-null   int64 \n",
      " 1   imdb_id               2719 non-null   object\n",
      " 2   title                 4767 non-null   object\n",
      " 3   release_date          4767 non-null   object\n",
      " 4   runtime               4767 non-null   int64 \n",
      " 5   budget                4767 non-null   int64 \n",
      " 6   revenue               4767 non-null   int64 \n",
      " 7   adult                 4767 non-null   bool  \n",
      " 8   spoken_languages      3803 non-null   object\n",
      " 9   genres                4472 non-null   object\n",
      " 10  production_companies  3702 non-null   object\n",
      " 11  production_countries  3644 non-null   object\n",
      " 12  keywords              3268 non-null   object\n",
      " 13  release_year          4767 non-null   int64 \n",
      "dtypes: bool(1), int64(5), object(8)\n",
      "memory usage: 526.0+ KB\n",
      "\n",
      "Missing values:\n"
     ]
    },
    {
     "data": {
      "text/plain": [
       "imdb_id                 2048\n",
       "spoken_languages         964\n",
       "genres                   295\n",
       "production_companies    1065\n",
       "production_countries    1123\n",
       "keywords                1499\n",
       "dtype: int64"
      ]
     },
     "execution_count": 102,
     "metadata": {},
     "output_type": "execute_result"
    }
   ],
   "source": [
    "df.info()\n",
    "\n",
    "print(\"\\nMissing values:\")\n",
    "missing = df.isnull().sum()\n",
    "missing[missing > 0]"
   ]
  },
  {
   "cell_type": "markdown",
   "metadata": {},
   "source": [
    "## Production Companies Analysis"
   ]
  },
  {
   "cell_type": "code",
   "execution_count": 103,
   "metadata": {},
   "outputs": [
    {
     "data": {
      "text/plain": [
       "0    20th Century Fox, The Donners' Company, Genre ...\n",
       "1                                       Marvel Studios\n",
       "2                                       Marvel Studios\n",
       "3    Warner Bros. Pictures, Joint Effort, Village R...\n",
       "4                                       Marvel Studios\n",
       "5                                       Marvel Studios\n",
       "6                                       Marvel Studios\n",
       "7                                       Marvel Studios\n",
       "8    Kennedy Miller Productions, Warner Bros. Pictu...\n",
       "9    Marvel Studios, Pascal Pictures, LStar Capital...\n",
       "Name: production_companies, dtype: object"
      ]
     },
     "execution_count": 103,
     "metadata": {},
     "output_type": "execute_result"
    }
   ],
   "source": [
    "# Check production companies format\n",
    "df['production_companies'].head(10)"
   ]
  },
  {
   "cell_type": "code",
   "execution_count": 104,
   "metadata": {},
   "outputs": [
    {
     "name": "stdout",
     "output_type": "stream",
     "text": [
      "Top studios:\n",
      "primary_studio\n",
      "Unknown             1065\n",
      "Universal            164\n",
      "Warner Bros          137\n",
      "Sony                 117\n",
      "Lionsgate             87\n",
      "Disney                80\n",
      "Paramount             76\n",
      "Fox                   69\n",
      "Queens Of Combat      25\n",
      "Austmon               14\n",
      "Name: count, dtype: int64\n"
     ]
    }
   ],
   "source": [
    "# Define major studios and subsidiaries\n",
    "major_studios = {\n",
    "    'Disney': ['Disney', 'Marvel Studios', 'Lucasfilm', 'Pixar', 'Touchstone'],\n",
    "    'Warner Bros': ['Warner Bros', 'New Line Cinema', 'DC Films'],\n",
    "    'Universal': ['Universal', 'Focus Features', 'Illumination'],\n",
    "    'Sony': ['Sony', 'Columbia', 'Screen Gems', 'TriStar'],\n",
    "    'Paramount': ['Paramount', 'MTV Films'],\n",
    "    'Fox': ['20th Century Fox', 'Fox Searchlight', 'Blue Sky'],\n",
    "    'MGM': ['MGM', 'United Artists'],\n",
    "    'Lionsgate': ['Lionsgate', 'Summit Entertainment']\n",
    "}\n",
    "\n",
    "def get_primary_studio(companies):\n",
    "    if pd.isna(companies):\n",
    "        return 'Unknown'\n",
    "    \n",
    "    companies_lower = companies.lower()\n",
    "    for studio, keywords in major_studios.items():\n",
    "        for keyword in keywords:\n",
    "            if keyword.lower() in companies_lower:\n",
    "                return studio\n",
    "    \n",
    "    first_company = companies.split(',')[0].strip()\n",
    "    return first_company if first_company else 'Unknown'\n",
    "\n",
    "df['primary_studio'] = df['production_companies'].apply(get_primary_studio)\n",
    "\n",
    "print(\"Top studios:\")\n",
    "print(df['primary_studio'].value_counts().head(10))"
   ]
  },
  {
   "cell_type": "code",
   "execution_count": 105,
   "metadata": {},
   "outputs": [
    {
     "name": "stdout",
     "output_type": "stream",
     "text": [
      "Studio counts:\n",
      "Disney: 80\n",
      "Warner Bros: 137\n",
      "Universal: 167\n",
      "Sony: 122\n",
      "Paramount: 78\n",
      "Fox: 71\n",
      "MGM: 1\n",
      "Lionsgate: 91\n",
      "Major studio total: 730 (15.3%)\n"
     ]
    }
   ],
   "source": [
    "# Studio boolean flags\n",
    "df['is_disney'] = df['production_companies'].str.contains('Disney|Marvel Studios|Lucasfilm|Pixar|Touchstone', case=False, na=False).astype(int)\n",
    "df['is_warner_bros'] = df['production_companies'].str.contains('Warner Bros|New Line Cinema|DC Films', case=False, na=False).astype(int)\n",
    "df['is_universal'] = df['production_companies'].str.contains('Universal|Focus Features|Illumination', case=False, na=False).astype(int)\n",
    "df['is_sony'] = df['production_companies'].str.contains('Sony|Columbia|Screen Gems|TriStar', case=False, na=False).astype(int)\n",
    "df['is_paramount'] = df['production_companies'].str.contains('Paramount|MTV Films', case=False, na=False).astype(int)\n",
    "df['is_fox'] = df['production_companies'].str.contains('20th Century Fox|Fox Searchlight|Blue Sky', case=False, na=False).astype(int)\n",
    "df['is_mgm'] = df['production_companies'].str.contains('MGM|United Artists', case=False, na=False).astype(int)\n",
    "df['is_lionsgate'] = df['production_companies'].str.contains('Lionsgate|Summit Entertainment', case=False, na=False).astype(int)\n",
    "\n",
    "df['is_major_studio'] = (df['is_disney'] | df['is_warner_bros'] | df['is_universal'] | \n",
    "                         df['is_sony'] | df['is_paramount'] | df['is_fox'] | \n",
    "                         df['is_mgm'] | df['is_lionsgate']).astype(int)\n",
    "\n",
    "print(\"Studio counts:\")\n",
    "print(f\"Disney: {df['is_disney'].sum()}\")\n",
    "print(f\"Warner Bros: {df['is_warner_bros'].sum()}\")\n",
    "print(f\"Universal: {df['is_universal'].sum()}\")\n",
    "print(f\"Sony: {df['is_sony'].sum()}\")\n",
    "print(f\"Paramount: {df['is_paramount'].sum()}\")\n",
    "print(f\"Fox: {df['is_fox'].sum()}\")\n",
    "print(f\"MGM: {df['is_mgm'].sum()}\")\n",
    "print(f\"Lionsgate: {df['is_lionsgate'].sum()}\")\n",
    "print(f\"Major studio total: {df['is_major_studio'].sum()} ({df['is_major_studio'].mean()*100:.1f}%)\")"
   ]
  },
  {
   "cell_type": "markdown",
   "metadata": {},
   "source": [
    "## Genre Analysis"
   ]
  },
  {
   "cell_type": "code",
   "execution_count": 106,
   "metadata": {},
   "outputs": [
    {
     "name": "stdout",
     "output_type": "stream",
     "text": [
      "Exploring all unique genres in the dataset:\n",
      "Total unique genres: 19\n",
      "Total genre entries (including duplicates): 10159\n",
      "\n",
      "All genres sorted by frequency:\n",
      "genres\n",
      "Drama              1883\n",
      "Comedy             1388\n",
      "Action             1004\n",
      "Thriller            891\n",
      "Horror              644\n",
      "Adventure           621\n",
      "Crime               451\n",
      "Romance             441\n",
      "Documentary         416\n",
      "Mystery             400\n",
      "Family              374\n",
      "Fantasy             373\n",
      "Science Fiction     361\n",
      "Animation           268\n",
      "History             215\n",
      "Music               212\n",
      "War                 138\n",
      "Western              43\n",
      "TV Movie             36\n",
      "Name: count, dtype: int64\n"
     ]
    }
   ],
   "source": [
    "# Examine all unique genres\n",
    "print(\"Exploring all unique genres in the dataset:\")\n",
    "\n",
    "# Split and explode genres to get individual genre counts\n",
    "genres_exploded = df['genres'].dropna().str.split(',').explode().str.strip()\n",
    "unique_genres = genres_exploded.value_counts()\n",
    "\n",
    "print(f\"Total unique genres: {len(unique_genres)}\")\n",
    "print(f\"Total genre entries (including duplicates): {len(genres_exploded)}\")\n",
    "print(\"\\nAll genres sorted by frequency:\")\n",
    "print(unique_genres)"
   ]
  },
  {
   "cell_type": "code",
   "execution_count": 107,
   "metadata": {},
   "outputs": [
    {
     "name": "stdout",
     "output_type": "stream",
     "text": [
      "Creating one-hot encoded features for all genres:\n",
      "Created 19 genre features:\n",
      "\n",
      "Genre feature counts:\n",
      "Drama: 1882\n",
      "Comedy: 1388\n",
      "Action: 1004\n",
      "Thriller: 891\n",
      "Horror: 644\n",
      "Adventure: 621\n",
      "Crime: 451\n",
      "Romance: 441\n",
      "Documentary: 416\n",
      "Mystery: 400\n",
      "Family: 374\n",
      "Fantasy: 373\n",
      "Science Fiction: 361\n",
      "Animation: 268\n",
      "History: 215\n",
      "Music: 212\n",
      "War: 138\n",
      "Western: 43\n",
      "TV Movie: 36\n",
      "\n",
      "Genre columns created: ['genre_drama', 'genre_comedy', 'genre_action', 'genre_thriller', 'genre_horror', 'genre_adventure', 'genre_crime', 'genre_romance', 'genre_documentary', 'genre_mystery']...\n"
     ]
    }
   ],
   "source": [
    "# One-hot encode all genres\n",
    "print(\"Creating one-hot encoded features for all genres:\")\n",
    "\n",
    "# Get all unique genres\n",
    "genres_exploded = df['genres'].dropna().str.split(',').explode().str.strip()\n",
    "all_genres = genres_exploded.value_counts().index.tolist()\n",
    "\n",
    "# Create boolean flag for each genre\n",
    "genre_columns = []\n",
    "for genre in all_genres:\n",
    "    col_name = f'genre_{genre.lower().replace(\" \", \"_\").replace(\"-\", \"_\")}'\n",
    "    df[col_name] = df['genres'].str.contains(genre, case=False, na=False).astype(int)\n",
    "    genre_columns.append(col_name)\n",
    "\n",
    "print(f\"Created {len(genre_columns)} genre features:\")\n",
    "print(\"\\nGenre feature counts:\")\n",
    "for i, col in enumerate(genre_columns):\n",
    "    count = df[col].sum()\n",
    "    original_genre = all_genres[i]\n",
    "    print(f\"{original_genre}: {count}\")\n",
    "    \n",
    "print(f\"\\nGenre columns created: {genre_columns[:10]}...\" if len(genre_columns) > 10 else f\"\\nGenre columns created: {genre_columns}\")"
   ]
  },
  {
   "cell_type": "code",
   "execution_count": 108,
   "metadata": {},
   "outputs": [
    {
     "name": "stdout",
     "output_type": "stream",
     "text": [
      "Popular genre combinations:\n",
      "Action + Adventure: 303\n",
      "Action + Sci-Fi: 182\n",
      "Comedy + Romance: 180\n",
      "Family + Animation: 140\n"
     ]
    }
   ],
   "source": [
    "# Genre combinations using new one-hot encoded features\n",
    "df['is_action_adventure'] = (df['genre_action'] & df['genre_adventure']).astype(int)\n",
    "df['is_action_sci_fi'] = (df['genre_action'] & df['genre_science_fiction']).astype(int)\n",
    "df['is_comedy_romance'] = (df['genre_comedy'] & df['genre_romance']).astype(int)\n",
    "df['is_family_animation'] = (df['genre_family'] & df['genre_animation']).astype(int)\n",
    "\n",
    "print(\"Popular genre combinations:\")\n",
    "print(f\"Action + Adventure: {df['is_action_adventure'].sum()}\")\n",
    "print(f\"Action + Sci-Fi: {df['is_action_sci_fi'].sum()}\")\n",
    "print(f\"Comedy + Romance: {df['is_comedy_romance'].sum()}\")\n",
    "print(f\"Family + Animation: {df['is_family_animation'].sum()}\")"
   ]
  },
  {
   "cell_type": "code",
   "execution_count": 109,
   "metadata": {},
   "outputs": [
    {
     "name": "stdout",
     "output_type": "stream",
     "text": [
      "Top genres:\n",
      "primary_genre\n",
      "Drama          989\n",
      "Comedy         744\n",
      "Action         607\n",
      "Horror         400\n",
      "Documentary    333\n",
      "Unknown        295\n",
      "Thriller       241\n",
      "Animation      162\n",
      "Adventure      160\n",
      "Romance        139\n",
      "Name: count, dtype: int64\n",
      "\n",
      "Average genres per movie: 2.13\n",
      "Max genres in one movie: 11.0\n"
     ]
    }
   ],
   "source": [
    "# Primary genre and genre count\n",
    "df['primary_genre'] = df['genres'].str.split(',').str[0].fillna('Unknown')\n",
    "df['genre_count'] = df['genres'].str.count(',').fillna(-1) + 1\n",
    "\n",
    "print(\"Top genres:\")\n",
    "print(df['primary_genre'].value_counts().head(10))\n",
    "print(f\"\\nAverage genres per movie: {df['genre_count'].mean():.2f}\")\n",
    "print(f\"Max genres in one movie: {df['genre_count'].max()}\")"
   ]
  },
  {
   "cell_type": "markdown",
   "metadata": {},
   "source": [
    "## Country Analysis"
   ]
  },
  {
   "cell_type": "code",
   "execution_count": 110,
   "metadata": {},
   "outputs": [
    {
     "name": "stdout",
     "output_type": "stream",
     "text": [
      "Top countries:\n",
      "primary_country\n",
      "United States of America    1214\n",
      "Unknown                     1123\n",
      "India                        294\n",
      "United Kingdom               253\n",
      "Brazil                       187\n",
      "Canada                       166\n",
      "France                       149\n",
      "China                         97\n",
      "Spain                         87\n",
      "Australia                     80\n",
      "Name: count, dtype: int64\n",
      "\n",
      "Country flags:\n",
      "US movies: 1688 (35.4%)\n",
      "UK movies: 415 (8.7%)\n",
      "US/UK movies: 1899 (39.8%)\n"
     ]
    }
   ],
   "source": [
    "# Primary country and country flags\n",
    "df['primary_country'] = df['production_countries'].str.split(',').str[0].fillna('Unknown')\n",
    "df['is_usa'] = df['production_countries'].str.contains('United States', case=False, na=False).astype(int)\n",
    "df['is_uk'] = df['production_countries'].str.contains('United Kingdom|UK', case=False, na=False).astype(int)\n",
    "df['is_us_uk'] = (df['is_usa'] | df['is_uk']).astype(int)\n",
    "\n",
    "print(\"Top countries:\")\n",
    "print(df['primary_country'].value_counts().head(10))\n",
    "print(f\"\\nCountry flags:\")\n",
    "print(f\"US movies: {df['is_usa'].sum()} ({df['is_usa'].mean()*100:.1f}%)\")\n",
    "print(f\"UK movies: {df['is_uk'].sum()} ({df['is_uk'].mean()*100:.1f}%)\")\n",
    "print(f\"US/UK movies: {df['is_us_uk'].sum()} ({df['is_us_uk'].mean()*100:.1f}%)\")"
   ]
  },
  {
   "cell_type": "code",
   "execution_count": 111,
   "metadata": {},
   "outputs": [
    {
     "name": "stdout",
     "output_type": "stream",
     "text": [
      "Language distribution:\n",
      "English movies: 2352 (49.3%)\n",
      "Multilingual movies: 825 (17.3%)\n",
      "Average languages per movie: 1.08\n"
     ]
    }
   ],
   "source": [
    "# Language analysis\n",
    "df['is_english'] = df['spoken_languages'].str.contains('English', case=False, na=False).astype(int)\n",
    "df['language_count'] = df['spoken_languages'].str.count(',').fillna(-1) + 1\n",
    "df['is_multilingual'] = (df['language_count'] > 1).astype(int)\n",
    "\n",
    "print(\"Language distribution:\")\n",
    "print(f\"English movies: {df['is_english'].sum()} ({df['is_english'].mean()*100:.1f}%)\")\n",
    "print(f\"Multilingual movies: {df['is_multilingual'].sum()} ({df['is_multilingual'].mean()*100:.1f}%)\")\n",
    "print(f\"Average languages per movie: {df['language_count'].mean():.2f}\")"
   ]
  },
  {
   "cell_type": "markdown",
   "metadata": {},
   "source": [
    "## Sequel and IP Detection"
   ]
  },
  {
   "cell_type": "code",
   "execution_count": 112,
   "metadata": {},
   "outputs": [
    {
     "name": "stdout",
     "output_type": "stream",
     "text": [
      "Sequel analysis (US/UK movies only, excluding documentaries):\n",
      "Title sequel indicators: 662\n",
      "Marvel movies: 22\n",
      "DC movies: 12\n",
      "Star Wars movies: 2\n",
      "Fast & Furious movies: 5\n",
      "Harry Potter movies: 4\n",
      "Total sequels/franchise: 685 (14.4%)\n"
     ]
    }
   ],
   "source": [
    "# Sequel detection (US/UK movies only, excluding documentaries)\n",
    "sequel_patterns = r'\\b(?:2|3|4|5|II|III|IV|V|Part|Chapter|Episode|Returns|Rises|Begins)\\b|:'\n",
    "df['is_sequel_title'] = df['title'].str.contains(sequel_patterns, case=False, na=False).astype(int)\n",
    "\n",
    "# Only count franchise movies if they are US/UK productions and NOT documentaries\n",
    "us_uk_mask = df['is_us_uk'] == 1\n",
    "not_documentary_mask = ~df['genres'].str.contains('Documentary', case=False, na=False)\n",
    "franchise_mask = us_uk_mask & not_documentary_mask\n",
    "\n",
    "# Exact list of legitimate Marvel films\n",
    "marvel_movies = [\n",
    "    # Phase One\n",
    "    \"Iron Man\",\n",
    "    \"The Incredible Hulk\", \n",
    "    \"Iron Man 2\",\n",
    "    \"Thor\",\n",
    "    \"Captain America: The First Avenger\",\n",
    "    \"The Avengers\",\n",
    "    \n",
    "    # Phase Two\n",
    "    \"Iron Man 3\",\n",
    "    \"Thor: The Dark World\",\n",
    "    \"Captain America: The Winter Soldier\",\n",
    "    \"Guardians of the Galaxy\",\n",
    "    \"Avengers: Age of Ultron\",\n",
    "    \"Ant-Man\",\n",
    "    \n",
    "    # Phase Three\n",
    "    \"Captain America: Civil War\",\n",
    "    \"Doctor Strange\",\n",
    "    \"Guardians of the Galaxy Vol. 2\",\n",
    "    \"Spider-Man: Homecoming\",\n",
    "    \"Thor: Ragnarok\",\n",
    "    \"Black Panther\",\n",
    "    \"Avengers: Infinity War\",\n",
    "    \"Ant-Man and the Wasp\",\n",
    "    \"Captain Marvel\",\n",
    "    \"Avengers: Endgame\",\n",
    "    \"Spider-Man: Far From Home\",\n",
    "    \n",
    "    # Phase Four\n",
    "    \"Black Widow\",\n",
    "    \"Shang-Chi and the Legend of the Ten Rings\",\n",
    "    \"Eternals\",\n",
    "    \"Spider-Man: No Way Home\",\n",
    "    \"Doctor Strange in the Multiverse of Madness\",\n",
    "    \"Thor: Love and Thunder\",\n",
    "    \"Black Panther: Wakanda Forever\",\n",
    "    \n",
    "    # Phase Five\n",
    "    \"Ant-Man and the Wasp: Quantumania\",\n",
    "    \"Guardians of the Galaxy Vol. 3\",\n",
    "    \"The Marvels\",\n",
    "    \"Deadpool & Wolverine\",\n",
    "    \"Captain America: Brave New World\",\n",
    "    \"Thunderbolts*\",\n",
    "    \"The Fantastic Four: First Steps\",\n",
    "    \n",
    "    # Phase Six and Beyond\n",
    "    \"Spider-Man: Brand New Day\",\n",
    "    \"Avengers: Doomsday\",\n",
    "    \"Avengers: Secret Wars\",\n",
    "\n",
    "]\n",
    "\n",
    "df['is_marvel'] = (df['title'].isin(marvel_movies) & franchise_mask).astype(int)\n",
    "df['is_dc'] = (df['title'].str.contains('Batman|Superman|Wonder Woman|Aquaman|Justice League', case=False, na=False) & franchise_mask).astype(int)\n",
    "\n",
    "# Exact list of legitimate Star Wars films\n",
    "star_wars_titles = [\n",
    "    \"Star Wars: Episode IV - A New Hope\",\n",
    "    \"Star Wars: Episode V - The Empire Strikes Back\", \n",
    "    \"Star Wars: Episode VI - Return of the Jedi\",\n",
    "    \"Star Wars: Episode I - The Phantom Menace\",\n",
    "    \"Star Wars: Episode II - Attack of the Clones\",\n",
    "    \"Star Wars: Episode III - Revenge of the Sith\",\n",
    "    \"Star Wars: Episode VII - The Force Awakens\",\n",
    "    \"Star Wars: Episode VIII - The Last Jedi\",\n",
    "    \"Star Wars: Episode IX - The Rise of Skywalker\",\n",
    "    \"Rogue One: A Star Wars Story\",\n",
    "    \"Solo: A Star Wars Story\",\n",
    "    \"The Mandalorian & Grogu\",\n",
    "    \"Star Wars: Starfighter\",\n",
    "    \"Star Wars: New Jedi Order\",\n",
    "    \"Dave Filoni's New Republic Film\",\n",
    "    \"Simon Kinberg's New Trilogy\"\n",
    "]\n",
    "\n",
    "df['is_star_wars'] = (df['title'].isin(star_wars_titles) & franchise_mask).astype(int)\n",
    "\n",
    "df['is_fast_furious'] = (df['title'].str.contains('Fast|Furious', case=False, na=False) & franchise_mask).astype(int)\n",
    "df['is_harry_potter'] = (df['title'].str.contains('Harry Potter|Hogwarts|Fantastic Beasts', case=False, na=False) & franchise_mask).astype(int)\n",
    "\n",
    "df['is_sequel'] = (df['is_sequel_title'] | df['is_marvel'] | df['is_dc'] | df['is_star_wars'] | df['is_fast_furious'] | df['is_harry_potter']).astype(int)\n",
    "\n",
    "print(\"Sequel analysis (US/UK movies only, excluding documentaries):\")\n",
    "print(f\"Title sequel indicators: {df['is_sequel_title'].sum()}\")\n",
    "print(f\"Marvel movies: {df['is_marvel'].sum()}\")\n",
    "print(f\"DC movies: {df['is_dc'].sum()}\")\n",
    "print(f\"Star Wars movies: {df['is_star_wars'].sum()}\")\n",
    "print(f\"Fast & Furious movies: {df['is_fast_furious'].sum()}\")\n",
    "print(f\"Harry Potter movies: {df['is_harry_potter'].sum()}\")\n",
    "print(f\"Total sequels/franchise: {df['is_sequel'].sum()} ({df['is_sequel'].mean()*100:.1f}%)\")"
   ]
  },
  {
   "cell_type": "code",
   "execution_count": 113,
   "metadata": {},
   "outputs": [
    {
     "name": "stdout",
     "output_type": "stream",
     "text": [
      "All 22 movies marked as Marvel:\n",
      "                                      title release_date          primary_country    revenue    budget\n",
      "                    Avengers: Age of Ultron   2015-04-22 United States of America 1405403694 365000000\n",
      "                                    Ant-Man   2015-07-14 United States of America  519311965 130000000\n",
      "                 Captain America: Civil War   2016-04-27 United States of America 1155046416 250000000\n",
      "                             Doctor Strange   2016-10-25 United States of America  676343174 180000000\n",
      "             Guardians of the Galaxy Vol. 2   2017-04-19 United States of America  863756051 200000000\n",
      "                     Spider-Man: Homecoming   2017-07-05 United States of America  880166924 175000000\n",
      "                             Thor: Ragnarok   2017-10-02 United States of America  855301806 180000000\n",
      "                              Black Panther   2018-02-13 United States of America 1349926083 200000000\n",
      "                     Avengers: Infinity War   2018-04-25 United States of America 2052415039 300000000\n",
      "                       Ant-Man and the Wasp   2018-07-04 United States of America  622674139 140000000\n",
      "                             Captain Marvel   2019-03-06 United States of America 1131416446 152000000\n",
      "                          Avengers: Endgame   2019-04-24 United States of America 2800000000 356000000\n",
      "                  Spider-Man: Far From Home   2019-06-28 United States of America 1131927996 160000000\n",
      "                                Black Widow   2021-07-07 United States of America  379751131 200000000\n",
      "  Shang-Chi and the Legend of the Ten Rings   2021-09-01 United States of America  432243292 150000000\n",
      "                                   Eternals   2021-11-03                   Canada  402064899 200000000\n",
      "                    Spider-Man: No Way Home   2021-12-15 United States of America 1921847111 200000000\n",
      "Doctor Strange in the Multiverse of Madness   2022-05-04 United States of America  955775804 200000000\n",
      "                     Thor: Love and Thunder   2022-07-06 United States of America  760928081 250000000\n",
      "             Black Panther: Wakanda Forever   2022-11-09 United States of America  859102154 250000000\n",
      "          Ant-Man and the Wasp: Quantumania   2023-02-15 United States of America  476071180 200000000\n",
      "             Guardians of the Galaxy Vol. 3   2023-05-03 United States of America  845430302 250000000\n"
     ]
    }
   ],
   "source": [
    "# Show all movies marked as marvel\n",
    "marvel_movies = df[df['is_marvel'] == 1][['title', 'release_date', 'primary_country', 'revenue', 'budget']].sort_values('release_date')\n",
    "\n",
    "print(f\"All {len(marvel_movies)} movies marked as Marvel:\")\n",
    "print(marvel_movies.to_string(index=False))"
   ]
  },
  {
   "cell_type": "code",
   "execution_count": 114,
   "metadata": {},
   "outputs": [
    {
     "name": "stdout",
     "output_type": "stream",
     "text": [
      "Movies with revenue data: 4767 out of 4767 (100.0%)\n",
      "\n",
      "Top 10 highest grossing movies:\n",
      "                               title     revenue     budget        primary_studio\n",
      "99038              TikTok Rizz Party  3000000000  250000000           Warner Bros\n",
      "123154       Adventures in Bora Bora  3000000000  800000000               Unknown\n",
      "2                  Avengers: Endgame  2800000000  356000000                Disney\n",
      "77          Avatar: The Way of Water  2320250281  460000000  20th Century Studios\n",
      "18      Star Wars: The Force Awakens  2068223624  245000000                Disney\n",
      "1             Avengers: Infinity War  2052415039  300000000                Disney\n",
      "229307                      IPL 2025  2000000000  312000000           TATA Studio\n",
      "238517                   Best Of Joy  2000000000       1000            Siba Media\n",
      "19           Spider-Man: No Way Home  1921847111  200000000                Disney\n",
      "14                    Jurassic World  1671537444  150000000             Universal\n",
      "\n",
      "Revenue by major studios:\n",
      "                        mean  count\n",
      "primary_studio                     \n",
      "Disney          6.266570e+08     80\n",
      "Warner Bros     2.233986e+08    137\n",
      "Fox             1.973627e+08     69\n",
      "Universal       1.879227e+08    164\n",
      "Paramount       1.756343e+08     76\n",
      "Sony            1.454580e+08    117\n",
      "Lionsgate       7.864716e+07     87\n"
     ]
    }
   ],
   "source": [
    "# Revenue analysis\n",
    "has_revenue = df['revenue'] > 0\n",
    "print(f\"Movies with revenue data: {has_revenue.sum()} out of {len(df)} ({has_revenue.mean()*100:.1f}%)\")\n",
    "\n",
    "print(\"\\nTop 10 highest grossing movies:\")\n",
    "top_movies = df[has_revenue].nlargest(10, 'revenue')[['title', 'revenue', 'budget', 'primary_studio']]\n",
    "print(top_movies.to_string())\n",
    "\n",
    "print(\"\\nRevenue by major studios:\")\n",
    "major_studio_names = ['Disney', 'Warner Bros', 'Universal', 'Sony', 'Paramount', 'Fox', 'MGM', 'Lionsgate']\n",
    "major_studio_movies = df[(df['revenue'] > 0) & (df['primary_studio'].isin(major_studio_names))]\n",
    "\n",
    "if len(major_studio_movies) > 0:\n",
    "    revenue_by_studio = major_studio_movies.groupby('primary_studio')['revenue'].agg(['mean', 'count']).sort_values('mean', ascending=False)\n",
    "    print(revenue_by_studio)\n",
    "else:\n",
    "    print(\"No major studio movies with revenue data found\")"
   ]
  },
  {
   "cell_type": "markdown",
   "metadata": {},
   "source": [
    "## Final Dataset Summary"
   ]
  },
  {
   "cell_type": "code",
   "execution_count": null,
   "metadata": {},
   "outputs": [],
   "source": [
    "# Feature summary\n",
    "binary_features = [col for col in df.columns if col.startswith('is_')]\n",
    "print(f\"Dataset shape: {df.shape}\")\n",
    "print(f\"Binary features created: {len(binary_features)}\")\n",
    "\n",
    "print(\"\\nFeature summary:\")\n",
    "for feature in binary_features:\n",
    "    count = df[feature].sum()\n",
    "    if count > 50:\n",
    "        print(f\"{feature}: {count} ({count/len(df)*100:.1f}%)\")\n",
    "\n",
    "# Save processed dataset\n",
    "df.to_csv(\"../data/dataset_processed.csv\", index=False)\n",
    "print(f\"\\nProcessed dataset saved with {df.shape[1]} features\")"
   ]
  }
 ],
 "metadata": {
  "kernelspec": {
   "display_name": "Python 3",
   "language": "python",
   "name": "python3"
  },
  "language_info": {
   "codemirror_mode": {
    "name": "ipython",
    "version": 3
   },
   "file_extension": ".py",
   "mimetype": "text/x-python",
   "name": "python",
   "nbconvert_exporter": "python",
   "pygments_lexer": "ipython3",
   "version": "3.8.5"
  }
 },
 "nbformat": 4,
 "nbformat_minor": 4
}
