{
 "cells": [
  {
   "cell_type": "markdown",
   "metadata": {},
   "source": [
    "# Data Exploration and Feature Engineering"
   ]
  },
  {
   "cell_type": "code",
   "execution_count": 1,
   "metadata": {},
   "outputs": [
    {
     "name": "stdout",
     "output_type": "stream",
     "text": [
      "/Users/jasmineplows/Documents/California/Projects/box_office/code/movie_lists.py\n"
     ]
    }
   ],
   "source": [
    "import pandas as pd\n",
    "import json\n",
    "import re\n",
    "import numpy as np\n",
    "\n",
    "import sys, os\n",
    "from pathlib import Path\n",
    "\n",
    "# make sure the current folder (code/) is on sys.path\n",
    "sys.path.insert(0, str(Path.cwd()))\n",
    "\n",
    "import importlib, movie_lists\n",
    "print(movie_lists.__file__)          # sanity check\n",
    "importlib.reload(movie_lists)        # reload if you edited the file\n",
    "\n",
    "from movie_lists import (\n",
    "    MARVEL_MCU_FILMS, DC_FILMS, STAR_WARS_FILMS, FAST_FURIOUS_FILMS, \n",
    "    WIZARDING_WORLD_FILMS, ALL_LIVE_ACTION_REMAKES,\n",
    "    MEDIA_ADAPTATIONS, ALL_SUPERHERO_FILMS,\n",
    "    REMAKE_PATTERNS, REMAKE_TITLE_INDICATORS,\n",
    "    FRANCHISE_SEQUELS\n",
    ")\n"
   ]
  },
  {
   "cell_type": "code",
   "execution_count": 2,
   "metadata": {},
   "outputs": [],
   "source": [
    "df = pd.read_csv(\"../data/dataset_domestic_lifetime_merged.csv\")"
   ]
  },
  {
   "cell_type": "markdown",
   "metadata": {},
   "source": [
    "## Top 10 Highest Grossing Movies (US Domestic)"
   ]
  },
  {
   "cell_type": "code",
   "execution_count": 3,
   "metadata": {},
   "outputs": [
    {
     "data": {
      "application/vnd.microsoft.datawrangler.viewer.v0+json": {
       "columns": [
        {
         "name": "index",
         "rawType": "int64",
         "type": "integer"
        },
        {
         "name": "title",
         "rawType": "object",
         "type": "string"
        },
        {
         "name": "release_year",
         "rawType": "int64",
         "type": "integer"
        },
        {
         "name": "lifetime_domestic",
         "rawType": "float64",
         "type": "float"
        }
       ],
       "ref": "b14d5ce0-39e9-43eb-91df-2cf71d5c5d89",
       "rows": [
        [
         "0",
         "Star Wars: The Force Awakens",
         "2015",
         "936662225.0"
        ],
        [
         "1",
         "Avengers: Endgame",
         "2019",
         "858373000.0"
        ],
        [
         "2",
         "Spider-Man: No Way Home",
         "2021",
         "814866759.0"
        ],
        [
         "3",
         "Top Gun: Maverick",
         "2022",
         "718732821.0"
        ],
        [
         "4",
         "Black Panther",
         "2018",
         "700426566.0"
        ],
        [
         "5",
         "Avatar: The Way of Water",
         "2022",
         "684075767.0"
        ],
        [
         "6",
         "Avengers: Infinity War",
         "2018",
         "678815482.0"
        ],
        [
         "7",
         "Jurassic World",
         "2015",
         "653406625.0"
        ],
        [
         "8",
         "Inside Out 2",
         "2024",
         "652980194.0"
        ],
        [
         "9",
         "Deadpool & Wolverine",
         "2024",
         "636745858.0"
        ]
       ],
       "shape": {
        "columns": 3,
        "rows": 10
       }
      },
      "text/html": [
       "<div>\n",
       "<style scoped>\n",
       "    .dataframe tbody tr th:only-of-type {\n",
       "        vertical-align: middle;\n",
       "    }\n",
       "\n",
       "    .dataframe tbody tr th {\n",
       "        vertical-align: top;\n",
       "    }\n",
       "\n",
       "    .dataframe thead th {\n",
       "        text-align: right;\n",
       "    }\n",
       "</style>\n",
       "<table border=\"1\" class=\"dataframe\">\n",
       "  <thead>\n",
       "    <tr style=\"text-align: right;\">\n",
       "      <th></th>\n",
       "      <th>title</th>\n",
       "      <th>release_year</th>\n",
       "      <th>lifetime_domestic</th>\n",
       "    </tr>\n",
       "  </thead>\n",
       "  <tbody>\n",
       "    <tr>\n",
       "      <th>0</th>\n",
       "      <td>Star Wars: The Force Awakens</td>\n",
       "      <td>2015</td>\n",
       "      <td>936662225.0</td>\n",
       "    </tr>\n",
       "    <tr>\n",
       "      <th>1</th>\n",
       "      <td>Avengers: Endgame</td>\n",
       "      <td>2019</td>\n",
       "      <td>858373000.0</td>\n",
       "    </tr>\n",
       "    <tr>\n",
       "      <th>2</th>\n",
       "      <td>Spider-Man: No Way Home</td>\n",
       "      <td>2021</td>\n",
       "      <td>814866759.0</td>\n",
       "    </tr>\n",
       "    <tr>\n",
       "      <th>3</th>\n",
       "      <td>Top Gun: Maverick</td>\n",
       "      <td>2022</td>\n",
       "      <td>718732821.0</td>\n",
       "    </tr>\n",
       "    <tr>\n",
       "      <th>4</th>\n",
       "      <td>Black Panther</td>\n",
       "      <td>2018</td>\n",
       "      <td>700426566.0</td>\n",
       "    </tr>\n",
       "    <tr>\n",
       "      <th>5</th>\n",
       "      <td>Avatar: The Way of Water</td>\n",
       "      <td>2022</td>\n",
       "      <td>684075767.0</td>\n",
       "    </tr>\n",
       "    <tr>\n",
       "      <th>6</th>\n",
       "      <td>Avengers: Infinity War</td>\n",
       "      <td>2018</td>\n",
       "      <td>678815482.0</td>\n",
       "    </tr>\n",
       "    <tr>\n",
       "      <th>7</th>\n",
       "      <td>Jurassic World</td>\n",
       "      <td>2015</td>\n",
       "      <td>653406625.0</td>\n",
       "    </tr>\n",
       "    <tr>\n",
       "      <th>8</th>\n",
       "      <td>Inside Out 2</td>\n",
       "      <td>2024</td>\n",
       "      <td>652980194.0</td>\n",
       "    </tr>\n",
       "    <tr>\n",
       "      <th>9</th>\n",
       "      <td>Deadpool &amp; Wolverine</td>\n",
       "      <td>2024</td>\n",
       "      <td>636745858.0</td>\n",
       "    </tr>\n",
       "  </tbody>\n",
       "</table>\n",
       "</div>"
      ],
      "text/plain": [
       "                          title  release_year  lifetime_domestic\n",
       "0  Star Wars: The Force Awakens          2015        936662225.0\n",
       "1             Avengers: Endgame          2019        858373000.0\n",
       "2       Spider-Man: No Way Home          2021        814866759.0\n",
       "3             Top Gun: Maverick          2022        718732821.0\n",
       "4                 Black Panther          2018        700426566.0\n",
       "5      Avatar: The Way of Water          2022        684075767.0\n",
       "6        Avengers: Infinity War          2018        678815482.0\n",
       "7                Jurassic World          2015        653406625.0\n",
       "8                  Inside Out 2          2024        652980194.0\n",
       "9          Deadpool & Wolverine          2024        636745858.0"
      ]
     },
     "execution_count": 3,
     "metadata": {},
     "output_type": "execute_result"
    }
   ],
   "source": [
    "df.nlargest(10, \"revenue_domestic\")[[\"title\",\"release_year\",\"revenue_domestic\"]].rename(columns={\"revenue_domestic\":\"lifetime_domestic\"}).reset_index(drop=True)"
   ]
  },
  {
   "cell_type": "code",
   "execution_count": 4,
   "metadata": {},
   "outputs": [
    {
     "data": {
      "text/plain": [
       "Index(['adult', 'backdrop_path', 'genre_ids', 'id', 'original_language',\n",
       "       'original_title', 'overview', 'popularity', 'poster_path',\n",
       "       'release_date', 'title', 'video', 'vote_average', 'vote_count',\n",
       "       'release_year', 'genres', 'title_normalized', 'domestic_revenue',\n",
       "       'rank', 'distributor', 'revenue_domestic', 'revenue'],\n",
       "      dtype='object')"
      ]
     },
     "execution_count": 4,
     "metadata": {},
     "output_type": "execute_result"
    }
   ],
   "source": [
    "df.columns"
   ]
  },
  {
   "cell_type": "markdown",
   "metadata": {},
   "source": [
    "## Production Companies Analysis"
   ]
  },
  {
   "cell_type": "code",
   "execution_count": 5,
   "metadata": {},
   "outputs": [
    {
     "data": {
      "application/vnd.microsoft.datawrangler.viewer.v0+json": {
       "columns": [
        {
         "name": "index",
         "rawType": "int64",
         "type": "integer"
        },
        {
         "name": "distributor",
         "rawType": "object",
         "type": "unknown"
        }
       ],
       "ref": "bd441526-7aec-4045-a631-8565aa487dcc",
       "rows": [
        [
         "0",
         "Walt Disney Studios Motion Pictures"
        ],
        [
         "1",
         "Warner Bros."
        ],
        [
         "2",
         "Walt Disney Studios Motion Pictures"
        ],
        [
         "3",
         "Universal Pictures"
        ],
        [
         "4",
         "Twentieth Century Fox"
        ],
        [
         "5",
         "Walt Disney Studios Motion Pictures"
        ],
        [
         "6",
         "Walt Disney Studios Motion Pictures"
        ],
        [
         "7",
         null
        ],
        [
         "8",
         "Twentieth Century Fox"
        ],
        [
         "9",
         "The Weinstein Company"
        ]
       ],
       "shape": {
        "columns": 1,
        "rows": 10
       }
      },
      "text/plain": [
       "0    Walt Disney Studios Motion Pictures\n",
       "1                           Warner Bros.\n",
       "2    Walt Disney Studios Motion Pictures\n",
       "3                     Universal Pictures\n",
       "4                  Twentieth Century Fox\n",
       "5    Walt Disney Studios Motion Pictures\n",
       "6    Walt Disney Studios Motion Pictures\n",
       "7                                    NaN\n",
       "8                  Twentieth Century Fox\n",
       "9                  The Weinstein Company\n",
       "Name: distributor, dtype: object"
      ]
     },
     "execution_count": 5,
     "metadata": {},
     "output_type": "execute_result"
    }
   ],
   "source": [
    "# Check distributor format (our main studio information)\n",
    "df['distributor'].head(10)"
   ]
  },
  {
   "cell_type": "code",
   "execution_count": 6,
   "metadata": {},
   "outputs": [
    {
     "name": "stdout",
     "output_type": "stream",
     "text": [
      "Studio counts:\n",
      "Disney: 86\n",
      "Warner Bros: 145\n",
      "Universal: 167\n",
      "Sony: 150\n",
      "Paramount: 88\n",
      "Fox: 99\n",
      "MGM: 39\n",
      "Lionsgate: 116\n",
      "Major studio total: 890 (58.1%)\n"
     ]
    }
   ],
   "source": [
    "# Studio boolean flags based on distributor\n",
    "df['is_disney'] = df['distributor'].str.contains('Disney|Walt Disney', case=False, na=False).astype(int)\n",
    "df['is_warner_bros'] = df['distributor'].str.contains('Warner Bros', case=False, na=False).astype(int)\n",
    "df['is_universal'] = df['distributor'].str.contains('Universal', case=False, na=False).astype(int)\n",
    "df['is_sony'] = df['distributor'].str.contains('Sony|Columbia|Screen Gems|TriStar', case=False, na=False).astype(int)\n",
    "df['is_paramount'] = df['distributor'].str.contains('Paramount', case=False, na=False).astype(int)\n",
    "df['is_fox'] = df['distributor'].str.contains('Fox|20th Century', case=False, na=False).astype(int)\n",
    "df['is_mgm'] = df['distributor'].str.contains('MGM|United Artists', case=False, na=False).astype(int)\n",
    "df['is_lionsgate'] = df['distributor'].str.contains('Lionsgate', case=False, na=False).astype(int)\n",
    "\n",
    "df['is_major_studio'] = (df['is_disney'] | df['is_warner_bros'] | df['is_universal'] |\n",
    "                         df['is_sony'] | df['is_paramount'] | df['is_fox'] |\n",
    "                         df['is_mgm'] | df['is_lionsgate']).astype(int)\n",
    "\n",
    "print(\"Studio counts:\")\n",
    "print(f\"Disney: {df['is_disney'].sum()}\")\n",
    "print(f\"Warner Bros: {df['is_warner_bros'].sum()}\")\n",
    "print(f\"Universal: {df['is_universal'].sum()}\")\n",
    "print(f\"Sony: {df['is_sony'].sum()}\")\n",
    "print(f\"Paramount: {df['is_paramount'].sum()}\")\n",
    "print(f\"Fox: {df['is_fox'].sum()}\")\n",
    "print(f\"MGM: {df['is_mgm'].sum()}\")\n",
    "print(f\"Lionsgate: {df['is_lionsgate'].sum()}\")\n",
    "print(f\"Major studio total: {df['is_major_studio'].sum()} ({df['is_major_studio'].mean()*100:.1f}%)\")"
   ]
  },
  {
   "cell_type": "markdown",
   "metadata": {},
   "source": [
    "## Genre Analysis"
   ]
  },
  {
   "cell_type": "code",
   "execution_count": 7,
   "metadata": {},
   "outputs": [
    {
     "name": "stdout",
     "output_type": "stream",
     "text": [
      "Exploring genres in the dataset:\n",
      "Total unique genres: 18\n",
      "Total genre entries (including duplicates): 3991\n",
      "\n",
      "All genres sorted by frequency:\n",
      "genre_names\n",
      "Drama              652\n",
      "Comedy             463\n",
      "Thriller           407\n",
      "Action             399\n",
      "Adventure          340\n",
      "Horror             283\n",
      "Science Fiction    213\n",
      "Family             194\n",
      "Crime              192\n",
      "Fantasy            178\n",
      "Romance            161\n",
      "Mystery            131\n",
      "History            124\n",
      "Animation          124\n",
      "Music               53\n",
      "War                 43\n",
      "Western             19\n",
      "Unknown             15\n",
      "Name: count, dtype: int64\n"
     ]
    }
   ],
   "source": [
    "# Examine genre data (stored as list in genres column)\n",
    "print(\"Exploring genres in the dataset:\")\n",
    "\n",
    "# The genres column contains genre IDs, let's convert them to readable format\n",
    "# Common TMDb genre ID mappings\n",
    "genre_map = {\n",
    "    '28': 'Action',\n",
    "    '12': 'Adventure',\n",
    "    '16': 'Animation',\n",
    "    '35': 'Comedy',\n",
    "    '80': 'Crime',\n",
    "    '99': 'Documentary',\n",
    "    '18': 'Drama',\n",
    "    '10751': 'Family',\n",
    "    '14': 'Fantasy',\n",
    "    '36': 'History',\n",
    "    '27': 'Horror',\n",
    "    '10402': 'Music',\n",
    "    '9648': 'Mystery',\n",
    "    '10749': 'Romance',\n",
    "    '878': 'Science Fiction',\n",
    "    '10770': 'TV Movie',\n",
    "    '53': 'Thriller',\n",
    "    '10752': 'War',\n",
    "    '37': 'Western'\n",
    "}\n",
    "\n",
    "# Convert genre IDs to names\n",
    "def convert_genre_ids(genre_str):\n",
    "    if pd.isna(genre_str):\n",
    "        return 'Unknown'\n",
    "    genre_names = []\n",
    "    # Remove brackets and split by comma\n",
    "    genre_str = str(genre_str).strip('[]').replace(' ', '')\n",
    "    if genre_str:\n",
    "        genre_ids = genre_str.split(',')\n",
    "        for gid in genre_ids:\n",
    "            gid = gid.strip()\n",
    "            if gid in genre_map:\n",
    "                genre_names.append(genre_map[gid])\n",
    "    return ','.join(genre_names) if genre_names else 'Unknown'\n",
    "\n",
    "df['genre_names'] = df['genres'].apply(convert_genre_ids)\n",
    "\n",
    "# Split and explode genres to get individual genre counts\n",
    "genres_exploded = df['genre_names'].str.split(',').explode().str.strip()\n",
    "unique_genres = genres_exploded.value_counts()\n",
    "\n",
    "print(f\"Total unique genres: {len(unique_genres)}\")\n",
    "print(f\"Total genre entries (including duplicates): {len(genres_exploded)}\")\n",
    "print(\"\\nAll genres sorted by frequency:\")\n",
    "print(unique_genres)"
   ]
  },
  {
   "cell_type": "code",
   "execution_count": 8,
   "metadata": {},
   "outputs": [
    {
     "name": "stdout",
     "output_type": "stream",
     "text": [
      "Creating one-hot encoded features for all genres:\n",
      "Created 17 genre features:\n",
      "\n",
      "Genre feature counts:\n",
      "Drama: 652\n",
      "Comedy: 463\n",
      "Thriller: 407\n",
      "Action: 399\n",
      "Adventure: 340\n",
      "Horror: 283\n",
      "Science Fiction: 213\n",
      "Family: 194\n",
      "Crime: 192\n",
      "Fantasy: 178\n",
      "Romance: 161\n",
      "Mystery: 131\n",
      "History: 124\n",
      "Animation: 124\n",
      "Music: 53\n",
      "War: 43\n",
      "Western: 19\n",
      "\n",
      "Genre columns created: ['genre_drama', 'genre_comedy', 'genre_thriller', 'genre_action', 'genre_adventure', 'genre_horror', 'genre_science_fiction', 'genre_family', 'genre_crime', 'genre_fantasy']...\n"
     ]
    }
   ],
   "source": [
    "# One-hot encode all genres\n",
    "print(\"Creating one-hot encoded features for all genres:\")\n",
    "\n",
    "# Get all unique genres from converted names\n",
    "genres_exploded = df['genre_names'].str.split(',').explode().str.strip()\n",
    "all_genres = genres_exploded.value_counts().index.tolist()\n",
    "# Remove 'Unknown' if it exists\n",
    "all_genres = [g for g in all_genres if g != 'Unknown']\n",
    "\n",
    "# Create boolean flag for each genre\n",
    "genre_columns = []\n",
    "for genre in all_genres:\n",
    "    col_name = f'genre_{genre.lower().replace(\" \", \"_\").replace(\"-\", \"_\")}'\n",
    "    df[col_name] = df['genre_names'].str.contains(genre, case=False, na=False).astype(int)\n",
    "    genre_columns.append(col_name)\n",
    "\n",
    "print(f\"Created {len(genre_columns)} genre features:\")\n",
    "print(\"\\nGenre feature counts:\")\n",
    "for i, col in enumerate(genre_columns):\n",
    "    count = df[col].sum()\n",
    "    original_genre = all_genres[i]\n",
    "    print(f\"{original_genre}: {count}\")\n",
    "\n",
    "print(f\"\\nGenre columns created: {genre_columns[:10]}...\" if len(genre_columns) > 10 else f\"\\nGenre columns created: {genre_columns}\")"
   ]
  },
  {
   "cell_type": "code",
   "execution_count": 9,
   "metadata": {},
   "outputs": [
    {
     "name": "stdout",
     "output_type": "stream",
     "text": [
      "Popular genre combinations:\n",
      "Action + Adventure: 177\n",
      "Action + Sci-Fi: 123\n",
      "Comedy + Romance: 63\n",
      "Family + Animation: 111\n"
     ]
    }
   ],
   "source": [
    "# Genre combinations using new one-hot encoded features\n",
    "df['is_action_adventure'] = (df['genre_action'] & df['genre_adventure']).astype(int)\n",
    "df['is_action_sci_fi'] = (df['genre_action'] & df['genre_science_fiction']).astype(int)\n",
    "df['is_comedy_romance'] = (df['genre_comedy'] & df['genre_romance']).astype(int)\n",
    "df['is_family_animation'] = (df['genre_family'] & df['genre_animation']).astype(int)\n",
    "\n",
    "print(\"Popular genre combinations:\")\n",
    "print(f\"Action + Adventure: {df['is_action_adventure'].sum()}\")\n",
    "print(f\"Action + Sci-Fi: {df['is_action_sci_fi'].sum()}\")\n",
    "print(f\"Comedy + Romance: {df['is_comedy_romance'].sum()}\")\n",
    "print(f\"Family + Animation: {df['is_family_animation'].sum()}\")"
   ]
  },
  {
   "cell_type": "code",
   "execution_count": 10,
   "metadata": {},
   "outputs": [
    {
     "name": "stdout",
     "output_type": "stream",
     "text": [
      "Top genres:\n",
      "primary_genre\n",
      "Drama              313\n",
      "Action             248\n",
      "Horror             217\n",
      "Comedy             203\n",
      "Family              69\n",
      "Thriller            65\n",
      "Animation           63\n",
      "Adventure           60\n",
      "Science Fiction     56\n",
      "Crime               52\n",
      "Name: count, dtype: int64\n",
      "\n",
      "Average genres per movie: 2.61\n",
      "Max genres in one movie: 6\n"
     ]
    }
   ],
   "source": [
    "# Primary genre and genre count\n",
    "df['primary_genre'] = df['genre_names'].str.split(',').str[0].fillna('Unknown')\n",
    "df['genre_count'] = df['genre_names'].str.count(',').fillna(-1) + 1\n",
    "\n",
    "print(\"Top genres:\")\n",
    "print(df['primary_genre'].value_counts().head(10))\n",
    "print(f\"\\nAverage genres per movie: {df['genre_count'].mean():.2f}\")\n",
    "print(f\"Max genres in one movie: {df['genre_count'].max()}\")"
   ]
  },
  {
   "cell_type": "markdown",
   "metadata": {},
   "source": [
    "### Release Month/Season"
   ]
  },
  {
   "cell_type": "code",
   "execution_count": 11,
   "metadata": {},
   "outputs": [
    {
     "name": "stdout",
     "output_type": "stream",
     "text": [
      "Creating release date features...\n",
      "Release month distribution:\n",
      "release_month_name\n",
      "October      144\n",
      "December     141\n",
      "March        139\n",
      "August       139\n",
      "November     138\n",
      "June         136\n",
      "September    131\n",
      "April        129\n",
      "July         120\n",
      "May          120\n",
      "February     108\n",
      "January       86\n",
      "Name: count, dtype: int64\n",
      "\n",
      "Seasonal distribution:\n",
      "release_season\n",
      "Fall      413\n",
      "Summer    395\n",
      "Spring    388\n",
      "Winter    335\n",
      "Name: count, dtype: int64\n",
      "\n",
      "Special season flags:\n",
      "Summer blockbuster season: 515 (33.6%)\n",
      "Holiday releases: 279 (18.2%)\n",
      "Oscar season: 423 (27.6%)\n"
     ]
    }
   ],
   "source": [
    "# Release Date Features\n",
    "print(\"Creating release date features...\")\n",
    "\n",
    "# Convert release_date to datetime if it's not already\n",
    "df['release_date'] = pd.to_datetime(df['release_date'])\n",
    "\n",
    "# Extract release month\n",
    "df['release_month'] = df['release_date'].dt.month\n",
    "\n",
    "# Create month name for readability\n",
    "df['release_month_name'] = df['release_date'].dt.strftime('%B')\n",
    "\n",
    "# Create seasonal categories\n",
    "def get_season(month):\n",
    "    if month in [12, 1, 2]:\n",
    "        return 'Winter'\n",
    "    elif month in [3, 4, 5]:\n",
    "        return 'Spring'\n",
    "    elif month in [6, 7, 8]:\n",
    "        return 'Summer'\n",
    "    else:  # 9, 10, 11\n",
    "        return 'Fall'\n",
    "\n",
    "df['release_season'] = df['release_month'].apply(get_season)\n",
    "\n",
    "# Create holiday/blockbuster season flags\n",
    "df['is_summer_blockbuster'] = df['release_month'].isin([5, 6, 7, 8]).astype(int)  # May-August\n",
    "df['is_holiday_release'] = df['release_month'].isin([11, 12]).astype(int)  # November-December\n",
    "df['is_oscar_season'] = df['release_month'].isin([10, 11, 12]).astype(int)  # October-December\n",
    "\n",
    "print(f\"Release month distribution:\")\n",
    "month_counts = df['release_month_name'].value_counts()\n",
    "print(month_counts)\n",
    "\n",
    "print(f\"\\nSeasonal distribution:\")\n",
    "seasonal_counts = df['release_season'].value_counts()\n",
    "print(seasonal_counts)\n",
    "\n",
    "print(f\"\\nSpecial season flags:\")\n",
    "print(f\"Summer blockbuster season: {df['is_summer_blockbuster'].sum()} ({df['is_summer_blockbuster'].mean()*100:.1f}%)\")\n",
    "print(f\"Holiday releases: {df['is_holiday_release'].sum()} ({df['is_holiday_release'].mean()*100:.1f}%)\")\n",
    "print(f\"Oscar season: {df['is_oscar_season'].sum()} ({df['is_oscar_season'].mean()*100:.1f}%)\")"
   ]
  },
  {
   "cell_type": "markdown",
   "metadata": {},
   "source": [
    "### Holiday Proximity Indicator"
   ]
  },
  {
   "cell_type": "code",
   "execution_count": 12,
   "metadata": {},
   "outputs": [
    {
     "name": "stdout",
     "output_type": "stream",
     "text": [
      "Creating holiday proximity features...\n",
      "Holiday proximity analysis:\n",
      "Movies within 10 days of major holidays: 734 (47.9%)\n"
     ]
    }
   ],
   "source": [
    "# Holiday Proximity Features\n",
    "print(\"Creating holiday proximity features...\")\n",
    "\n",
    "# Define major US holidays by month/day (approximate, as some vary by year)\n",
    "MAJOR_HOLIDAYS = {\n",
    "    'New Year\\'s Day': (1, 1),\n",
    "    'Martin Luther King Jr. Day': (1, 15),  # 3rd Monday, approximated\n",
    "    'Presidents Day': (2, 15),  # 3rd Monday, approximated\n",
    "    'Memorial Day': (5, 25),  # Last Monday, approximated\n",
    "    'Independence Day': (7, 4),\n",
    "    'Labor Day': (9, 1),  # 1st Monday, approximated\n",
    "    'Columbus Day': (10, 10),  # 2nd Monday, approximated\n",
    "    'Veterans Day': (11, 11),\n",
    "    'Thanksgiving': (11, 25),  # 4th Thursday, approximated\n",
    "    'Christmas': (12, 25),\n",
    "    'New Year\\'s Eve': (12, 31),\n",
    "}\n",
    "\n",
    "# Calculate proximity to holidays\n",
    "def calculate_holiday_proximity(release_date, proximity_days=10):\n",
    "    \"\"\"Check if release date is within proximity_days of any major holiday\"\"\"\n",
    "    month = release_date.month\n",
    "    day = release_date.day\n",
    "    \n",
    "    for holiday_name, (holiday_month, holiday_day) in MAJOR_HOLIDAYS.items():\n",
    "        # Create holiday date for the same year\n",
    "        try:\n",
    "            holiday_date = pd.Timestamp(year=release_date.year, month=holiday_month, day=holiday_day)\n",
    "            \n",
    "            # Calculate days difference\n",
    "            days_diff = abs((release_date - holiday_date).days)\n",
    "            \n",
    "            # Check if within proximity\n",
    "            if days_diff <= proximity_days:\n",
    "                return True, holiday_name, days_diff\n",
    "            \n",
    "            # Also check holiday in previous/next year for year-end releases\n",
    "            if holiday_month in [1, 12]:  # New Year's and Christmas period\n",
    "                if holiday_month == 1:  # Holiday in January, check previous year\n",
    "                    prev_year_holiday = pd.Timestamp(year=release_date.year - 1, month=holiday_month, day=holiday_day)\n",
    "                    days_diff_prev = abs((release_date - prev_year_holiday).days)\n",
    "                    if days_diff_prev <= proximity_days:\n",
    "                        return True, holiday_name, days_diff_prev\n",
    "                \n",
    "                if holiday_month == 12:  # Holiday in December, check next year\n",
    "                    next_year_holiday = pd.Timestamp(year=release_date.year + 1, month=holiday_month, day=holiday_day)\n",
    "                    days_diff_next = abs((release_date - next_year_holiday).days)\n",
    "                    if days_diff_next <= proximity_days:\n",
    "                        return True, holiday_name, days_diff_next\n",
    "                        \n",
    "        except ValueError:\n",
    "            # Skip invalid dates (like Feb 29 in non-leap years)\n",
    "            continue\n",
    "    \n",
    "    return False, None, None\n",
    "\n",
    "# Apply holiday proximity calculation\n",
    "holiday_results = df['release_date'].apply(lambda x: calculate_holiday_proximity(x, 10))\n",
    "\n",
    "# Extract results\n",
    "df['is_holiday_proximity'] = [result[0] for result in holiday_results]\n",
    "df['nearest_holiday'] = [result[1] for result in holiday_results]\n",
    "df['days_to_holiday'] = [result[2] for result in holiday_results]\n",
    "\n",
    "# Convert to proper types\n",
    "df['is_holiday_proximity'] = df['is_holiday_proximity'].astype(int)\n",
    "\n",
    "# Create specific holiday proximity flags\n",
    "df['is_christmas_proximity'] = df['nearest_holiday'].str.contains('Christmas|New Year', na=False).astype(int)\n",
    "df['is_thanksgiving_proximity'] = (df['nearest_holiday'] == 'Thanksgiving').astype(int)\n",
    "df['is_independence_day_proximity'] = (df['nearest_holiday'] == 'Independence Day').astype(int)\n",
    "df['is_memorial_labor_day_proximity'] = df['nearest_holiday'].str.contains('Memorial Day|Labor Day', na=False).astype(int)\n",
    "\n",
    "print(f\"Holiday proximity analysis:\")\n",
    "print(f\"Movies within 10 days of major holidays: {df['is_holiday_proximity'].sum()} ({df['is_holiday_proximity'].mean()*100:.1f}%)\")"
   ]
  },
  {
   "cell_type": "markdown",
   "metadata": {},
   "source": [
    "### Competition Indicator"
   ]
  },
  {
   "cell_type": "code",
   "execution_count": 13,
   "metadata": {},
   "outputs": [
    {
     "name": "stdout",
     "output_type": "stream",
     "text": [
      "Creating competitive release features...\n",
      "Analyzing competitive releases (major = $50M+ revenue)...\n",
      "Competitive release analysis:\n",
      "Movies with nearby major releases: 1485 (97.0%)\n"
     ]
    }
   ],
   "source": [
    "# Competitive Release Features\n",
    "print(\"Creating competitive release features...\")\n",
    "\n",
    "# Define what constitutes a \"major release\" - we'll use revenue threshold\n",
    "major_release_threshold = 50e6  # $50M+ domestic revenue considered \"major\"\n",
    "\n",
    "# Sort by release date for efficient processing\n",
    "df_sorted = df.sort_values('release_date').reset_index(drop=True)\n",
    "\n",
    "# Initialize competitive release features\n",
    "df_sorted['has_nearby_major_release'] = 0\n",
    "df_sorted['nearby_major_releases_count'] = 0\n",
    "df_sorted['nearby_major_releases_max_revenue'] = 0\n",
    "df_sorted['days_to_nearest_major_release'] = None\n",
    "\n",
    "print(f\"Analyzing competitive releases (major = ${major_release_threshold/1e6:.0f}M+ revenue)...\")\n",
    "\n",
    "# For each movie, check for other major releases within 2 weeks (14 days)\n",
    "for i, row in df_sorted.iterrows():\n",
    "    current_date = row['release_date']\n",
    "    current_revenue = row['revenue_domestic']\n",
    "    \n",
    "    # Define the 2-week window (±14 days)\n",
    "    start_window = current_date - pd.Timedelta(days=14)\n",
    "    end_window = current_date + pd.Timedelta(days=14)\n",
    "    \n",
    "    # Find other major releases in the window (excluding current movie)\n",
    "    nearby_releases = df_sorted[\n",
    "        (df_sorted['release_date'] >= start_window) & \n",
    "        (df_sorted['release_date'] <= end_window) &\n",
    "        (df_sorted['revenue_domestic'] >= major_release_threshold) &\n",
    "        (df_sorted.index != i)  # Exclude current movie\n",
    "    ]\n",
    "    \n",
    "    if len(nearby_releases) > 0:\n",
    "        df_sorted.at[i, 'has_nearby_major_release'] = 1\n",
    "        df_sorted.at[i, 'nearby_major_releases_count'] = len(nearby_releases)\n",
    "        df_sorted.at[i, 'nearby_major_releases_max_revenue'] = nearby_releases['revenue_domestic'].max()\n",
    "        \n",
    "        # Find the closest major release by date\n",
    "        date_differences = abs(nearby_releases['release_date'] - current_date).dt.days\n",
    "        df_sorted.at[i, 'days_to_nearest_major_release'] = date_differences.min()\n",
    "\n",
    "# Copy results back to original dataframe (maintaining original order)\n",
    "df = df_sorted.sort_index()\n",
    "\n",
    "# Create intensity categories\n",
    "df['competition_intensity'] = 'Low'\n",
    "df.loc[df['nearby_major_releases_count'] >= 3, 'competition_intensity'] = 'High'\n",
    "df.loc[df['nearby_major_releases_count'].between(1, 2), 'competition_intensity'] = 'Medium'\n",
    "\n",
    "# Create specific competition flags\n",
    "df['has_blockbuster_competition'] = (df['nearby_major_releases_max_revenue'] >= 200e6).astype(int)\n",
    "df['has_immediate_competition'] = (df['days_to_nearest_major_release'] <= 7).astype(int)  # Within 1 week\n",
    "\n",
    "print(f\"Competitive release analysis:\")\n",
    "print(f\"Movies with nearby major releases: {df['has_nearby_major_release'].sum()} ({df['has_nearby_major_release'].mean()*100:.1f}%)\")\n"
   ]
  },
  {
   "cell_type": "markdown",
   "metadata": {},
   "source": [
    "## Sequel and IP Detection"
   ]
  },
  {
   "cell_type": "code",
   "execution_count": 14,
   "metadata": {},
   "outputs": [
    {
     "name": "stdout",
     "output_type": "stream",
     "text": [
      "Sequel analysis (excluding documentaries):\n",
      "Title sequel indicators: 228\n",
      "Marvel movies: 28\n",
      "DC movies: 13\n",
      "Star Wars movies: 5\n",
      "Fast & Furious movies: 5\n",
      "Harry Potter movies: 3\n",
      "Franchise sequels: 11\n",
      "Total sequels/franchise: 264 (17.2%)\n"
     ]
    }
   ],
   "source": [
    "# Sequel detection (excluding documentaries only)\n",
    "sequel_patterns = r'\\b(?:2|3|4|5|6|7|II|III|IV|V|Part|Chapter|Episode|Returns|Rises|Begins)\\b|:'\n",
    "df['is_sequel_title'] = df['title'].str.contains(sequel_patterns, case=False, na=False).astype(int)\n",
    "\n",
    "# Only exclude documentaries (data is already filtered to English movies)\n",
    "not_documentary_mask = ~df['genre_names'].str.contains('Documentary', case=False, na=False)\n",
    "franchise_mask = not_documentary_mask\n",
    "\n",
    "# Marvel films (using imported list)\n",
    "df['is_marvel'] = (df['title'].isin(MARVEL_MCU_FILMS) & franchise_mask).astype(int)\n",
    "\n",
    "# DC films (using imported list) \n",
    "df['is_dc'] = (df['title'].isin(DC_FILMS) & franchise_mask).astype(int)\n",
    "\n",
    "# Star Wars films (using flexible pattern matching from imported patterns)\n",
    "df['is_star_wars'] = 0\n",
    "for pattern in REMAKE_PATTERNS['star_wars']:\n",
    "    matches = df['title'].str.contains(pattern, case=False, na=False) & franchise_mask\n",
    "    df.loc[matches, 'is_star_wars'] = 1\n",
    "\n",
    "# Fast & Furious (using pattern matching)\n",
    "df['is_fast_furious'] = 0\n",
    "for pattern in REMAKE_PATTERNS['fast_furious']:\n",
    "    matches = df['title'].str.contains(pattern, case=False, na=False) & franchise_mask\n",
    "    df.loc[matches, 'is_fast_furious'] = 1\n",
    "\n",
    "# Harry Potter / Wizarding World (using imported list + patterns)\n",
    "df['is_harry_potter'] = (df['title'].isin(WIZARDING_WORLD_FILMS) & franchise_mask).astype(int)\n",
    "for pattern in REMAKE_PATTERNS['harry_potter']:\n",
    "    matches = df['title'].str.contains(pattern, case=False, na=False) & franchise_mask\n",
    "    df.loc[matches, 'is_harry_potter'] = 1\n",
    "\n",
    "# Franchise sequels (sequels to established franchises)\n",
    "df['is_franchise_sequel'] = (df['title'].isin(FRANCHISE_SEQUELS) & franchise_mask).astype(int)\n",
    "\n",
    "# Combined sequel feature\n",
    "df['is_sequel'] = (df['is_sequel_title'] | df['is_marvel'] | df['is_dc'] | \n",
    "                   df['is_star_wars'] | df['is_fast_furious'] | df['is_harry_potter'] |\n",
    "                   df['is_franchise_sequel']).astype(int)\n",
    "\n",
    "print(\"Sequel analysis (excluding documentaries):\")\n",
    "print(f\"Title sequel indicators: {df['is_sequel_title'].sum()}\")\n",
    "print(f\"Marvel movies: {df['is_marvel'].sum()}\")\n",
    "print(f\"DC movies: {df['is_dc'].sum()}\")\n",
    "print(f\"Star Wars movies: {df['is_star_wars'].sum()}\")\n",
    "print(f\"Fast & Furious movies: {df['is_fast_furious'].sum()}\")\n",
    "print(f\"Harry Potter movies: {df['is_harry_potter'].sum()}\")\n",
    "print(f\"Franchise sequels: {df['is_franchise_sequel'].sum()}\")\n",
    "print(f\"Total sequels/franchise: {df['is_sequel'].sum()} ({df['is_sequel'].mean()*100:.1f}%)\")"
   ]
  },
  {
   "cell_type": "code",
   "execution_count": 15,
   "metadata": {},
   "outputs": [
    {
     "name": "stdout",
     "output_type": "stream",
     "text": [
      "Creating remake/adaptation features...\n",
      "Live-action remakes: 18\n",
      "Media adaptations: 34\n",
      "Superhero movies: 63\n",
      "Marvel movies: 28\n",
      "DC movies: 13\n",
      "Star Wars movies: 5\n",
      "Fast & Furious movies: 5\n",
      "Harry Potter movies: 3\n",
      "Remake title indicators: 9\n",
      "Total IP movies: 133 (8.7%)\n",
      "Original content: -1664 (-108.7%)\n",
      "\n",
      "Average revenue - IP movies: $250,138,823\n",
      "Average revenue - Original content: $42,395,503\n",
      "IP advantage: 490.0%\n"
     ]
    }
   ],
   "source": [
    "# Create live-action remake and adaptation features (using imported lists)\n",
    "print(\"Creating remake/adaptation features...\")\n",
    "\n",
    "# Live-action remakes (Disney + DreamWorks + others - exact matching first, then patterns)\n",
    "df['is_live_action_remake'] = df['title'].isin(ALL_LIVE_ACTION_REMAKES).astype(int)\n",
    "# Add pattern matching for titles that might be formatted differently\n",
    "for pattern in REMAKE_PATTERNS['live_action_remakes']:\n",
    "    matches = df['title'].str.contains(pattern, case=False, na=False)\n",
    "    df.loc[matches, 'is_live_action_remake'] = 1\n",
    "\n",
    "# Other media adaptations (using imported list + patterns)\n",
    "df['is_adaptation'] = df['title'].isin(MEDIA_ADAPTATIONS).astype(int)\n",
    "for pattern in REMAKE_PATTERNS['other_adaptations']:\n",
    "    matches = df['title'].str.contains(pattern, case=False, na=False)\n",
    "    df.loc[matches, 'is_adaptation'] = 1\n",
    "\n",
    "# Superhero movies (combining all superhero films)\n",
    "df['is_superhero'] = df['title'].isin(ALL_SUPERHERO_FILMS).astype(int)\n",
    "for pattern in REMAKE_PATTERNS['superhero']:\n",
    "    matches = df['title'].str.contains(pattern, case=False, na=False)\n",
    "    df.loc[matches, 'is_superhero'] = 1\n",
    "\n",
    "# General remake indicators (using imported list)\n",
    "df['has_remake_indicator'] = df['title'].str.contains('|'.join(REMAKE_TITLE_INDICATORS), case=False, na=False).astype(int)\n",
    "\n",
    "# Combined remake/adaptation feature\n",
    "df['is_remake_adaptation'] = (df['is_live_action_remake'] | df['is_adaptation'] | \n",
    "                              df['has_remake_indicator']).astype(int)\n",
    "\n",
    "# Create comprehensive IP movie feature\n",
    "df['is_ip_movie'] = (\n",
    "    df['is_live_action_remake'] |      # Disney/DreamWorks live-action remakes\n",
    "    df['is_adaptation'] |              # Media adaptations (games, toys, TV shows)\n",
    "    df['is_superhero'] |               # All superhero movies (Marvel, DC, others)\n",
    "    df['is_marvel'] |                  # Marvel MCU films\n",
    "    df['is_dc'] |                      # DC films\n",
    "    df['is_star_wars'] |               # Star Wars films\n",
    "    df['is_fast_furious'] |            # Fast & Furious franchise\n",
    "    df['is_harry_potter'] |            # Harry Potter/Wizarding World\n",
    "    df['has_remake_indicator']         # Movies with remake indicators in title\n",
    ").astype(int)\n",
    "\n",
    "# Summary\n",
    "print(f\"Live-action remakes: {df['is_live_action_remake'].sum()}\")\n",
    "print(f\"Media adaptations: {df['is_adaptation'].sum()}\")\n",
    "print(f\"Superhero movies: {df['is_superhero'].sum()}\")\n",
    "print(f\"Marvel movies: {df['is_marvel'].sum()}\")\n",
    "print(f\"DC movies: {df['is_dc'].sum()}\")\n",
    "print(f\"Star Wars movies: {df['is_star_wars'].sum()}\")\n",
    "print(f\"Fast & Furious movies: {df['is_fast_furious'].sum()}\")\n",
    "print(f\"Harry Potter movies: {df['is_harry_potter'].sum()}\")\n",
    "print(f\"Remake title indicators: {df['has_remake_indicator'].sum()}\")\n",
    "print(f\"Total IP movies: {df['is_ip_movie'].sum()} ({df['is_ip_movie'].mean()*100:.1f}%)\")\n",
    "print(f\"Original content: {(~df['is_ip_movie']).sum()} ({(~df['is_ip_movie']).mean()*100:.1f}%)\")\n",
    "\n",
    "# Performance comparison\n",
    "if df['is_ip_movie'].sum() > 0:\n",
    "    ip_avg = df[df['is_ip_movie'] == 1]['revenue_domestic'].mean()\n",
    "    original_avg = df[df['is_ip_movie'] == 0]['revenue_domestic'].mean()\n",
    "    print(f\"\\nAverage revenue - IP movies: ${ip_avg:,.0f}\")\n",
    "    print(f\"Average revenue - Original content: ${original_avg:,.0f}\")\n",
    "    print(f\"IP advantage: {(ip_avg/original_avg - 1)*100:.1f}%\")"
   ]
  },
  {
   "cell_type": "markdown",
   "metadata": {},
   "source": [
    "## Live-Action Remakes and Adaptations"
   ]
  },
  {
   "cell_type": "code",
   "execution_count": 16,
   "metadata": {},
   "outputs": [
    {
     "name": "stdout",
     "output_type": "stream",
     "text": [
      "Creating remake/adaptation features...\n",
      "Live-action remakes: 18\n",
      "Media adaptations: 34\n",
      "Superhero movies: 63\n",
      "Remake title indicators: 9\n",
      "Total remakes/adaptations: 58 (3.8%)\n",
      "\n",
      "Average revenue - Remakes/Adaptations: $225,274,999\n",
      "Average revenue - Original content: $53,952,088\n",
      "Remake advantage: 317.5%\n",
      "\n",
      "Average revenue - Live-action remakes: $269,489,612\n",
      "Average revenue - Non-remakes: $57,955,428\n",
      "Live-action remake advantage: 365.0%\n",
      "\n",
      "Average revenue - Superhero movies: $260,939,609\n",
      "Average revenue - Non-superhero movies: $51,837,998\n",
      "Superhero advantage: 403.4%\n"
     ]
    }
   ],
   "source": [
    "# Create live-action remake and adaptation features (using imported lists)\n",
    "print(\"Creating remake/adaptation features...\")\n",
    "\n",
    "# Live-action remakes (Disney + DreamWorks + others - exact matching first, then patterns)\n",
    "df['is_live_action_remake'] = df['title'].isin(ALL_LIVE_ACTION_REMAKES).astype(int)\n",
    "# Add pattern matching for titles that might be formatted differently\n",
    "for pattern in REMAKE_PATTERNS['live_action_remakes']:\n",
    "    matches = df['title'].str.contains(pattern, case=False, na=False)\n",
    "    df.loc[matches, 'is_live_action_remake'] = 1\n",
    "\n",
    "# Other media adaptations (using imported list + patterns)\n",
    "df['is_adaptation'] = df['title'].isin(MEDIA_ADAPTATIONS).astype(int)\n",
    "for pattern in REMAKE_PATTERNS['other_adaptations']:\n",
    "    matches = df['title'].str.contains(pattern, case=False, na=False)\n",
    "    df.loc[matches, 'is_adaptation'] = 1\n",
    "\n",
    "# Superhero movies (combining all superhero films)\n",
    "df['is_superhero'] = df['title'].isin(ALL_SUPERHERO_FILMS).astype(int)\n",
    "for pattern in REMAKE_PATTERNS['superhero']:\n",
    "    matches = df['title'].str.contains(pattern, case=False, na=False)\n",
    "    df.loc[matches, 'is_superhero'] = 1\n",
    "\n",
    "# General remake indicators (using imported list)\n",
    "df['has_remake_indicator'] = df['title'].str.contains('|'.join(REMAKE_TITLE_INDICATORS), case=False, na=False).astype(int)\n",
    "\n",
    "# Combined remake/adaptation feature\n",
    "df['is_remake_adaptation'] = (df['is_live_action_remake'] | df['is_adaptation'] | \n",
    "                              df['has_remake_indicator']).astype(int)\n",
    "\n",
    "# Summary\n",
    "print(f\"Live-action remakes: {df['is_live_action_remake'].sum()}\")\n",
    "print(f\"Media adaptations: {df['is_adaptation'].sum()}\")\n",
    "print(f\"Superhero movies: {df['is_superhero'].sum()}\")\n",
    "print(f\"Remake title indicators: {df['has_remake_indicator'].sum()}\")\n",
    "print(f\"Total remakes/adaptations: {df['is_remake_adaptation'].sum()} ({df['is_remake_adaptation'].mean()*100:.1f}%)\")\n",
    "\n",
    "# Performance comparison\n",
    "if df['is_remake_adaptation'].sum() > 0:\n",
    "    remake_avg = df[df['is_remake_adaptation'] == 1]['revenue_domestic'].mean()\n",
    "    original_avg = df[df['is_remake_adaptation'] == 0]['revenue_domestic'].mean()\n",
    "    print(f\"\\nAverage revenue - Remakes/Adaptations: ${remake_avg:,.0f}\")\n",
    "    print(f\"Average revenue - Original content: ${original_avg:,.0f}\")\n",
    "    print(f\"Remake advantage: {(remake_avg/original_avg - 1)*100:.1f}%\")\n",
    "\n",
    "# Live-action remake performance comparison\n",
    "if df['is_live_action_remake'].sum() > 0:\n",
    "    remake_avg = df[df['is_live_action_remake'] == 1]['revenue_domestic'].mean()\n",
    "    non_remake_avg = df[df['is_live_action_remake'] == 0]['revenue_domestic'].mean()\n",
    "    print(f\"\\nAverage revenue - Live-action remakes: ${remake_avg:,.0f}\")\n",
    "    print(f\"Average revenue - Non-remakes: ${non_remake_avg:,.0f}\")\n",
    "    print(f\"Live-action remake advantage: {(remake_avg/non_remake_avg - 1)*100:.1f}%\")\n",
    "\n",
    "# Superhero performance comparison\n",
    "if df['is_superhero'].sum() > 0:\n",
    "    superhero_avg = df[df['is_superhero'] == 1]['revenue_domestic'].mean()\n",
    "    non_superhero_avg = df[df['is_superhero'] == 0]['revenue_domestic'].mean()\n",
    "    print(f\"\\nAverage revenue - Superhero movies: ${superhero_avg:,.0f}\")\n",
    "    print(f\"Average revenue - Non-superhero movies: ${non_superhero_avg:,.0f}\")\n",
    "    print(f\"Superhero advantage: {(superhero_avg/non_superhero_avg - 1)*100:.1f}%\")"
   ]
  },
  {
   "cell_type": "markdown",
   "metadata": {},
   "source": [
    "## Year time-based features\n",
    "\n",
    "Years since baseline to catch temporal relationships, streaming era, pandemic era trends"
   ]
  },
  {
   "cell_type": "code",
   "execution_count": 17,
   "metadata": {},
   "outputs": [
    {
     "name": "stdout",
     "output_type": "stream",
     "text": [
      "Creating alternative time features...\n",
      "==================================================\n",
      "✅ Alternative time features created:\n",
      "   • years_since_baseline: 0 to 10\n",
      "   • is_pre_streaming_era: 671 movies\n",
      "   • is_streaming_transition: 261 movies\n",
      "   • is_pandemic_year: 56 movies\n",
      "   • is_post_pandemic_era: 543 movies\n",
      "\n",
      "🔮 2026 Feature Values (safe extrapolation):\n",
      "   • years_since_baseline: 11 (linear progression)\n",
      "   • is_pre_streaming_era: 0\n",
      "   • is_streaming_transition: 0\n",
      "   • is_pandemic_year: 0\n",
      "   • is_post_pandemic_era: 1 (reasonable assumption)\n"
     ]
    }
   ],
   "source": [
    "# Create alternative time features for safe 2026 extrapolation\n",
    "print(\"Creating alternative time features...\")\n",
    "print(\"=\" * 50)\n",
    "\n",
    "# Baseline year for relative time calculation\n",
    "baseline_year = 2015\n",
    "\n",
    "# Alternative Time Feature 1: Relative time progression\n",
    "df['years_since_baseline'] = df['release_year'] - baseline_year\n",
    "\n",
    "# Alternative Time Feature 2: Era-based categorical features\n",
    "df['is_pre_streaming_era'] = (df['release_year'] <= 2018).astype(int)  # Traditional theatrical dominance\n",
    "df['is_streaming_transition'] = (df['release_year'].isin([2019, 2021])).astype(int)  # Market evolution periods  \n",
    "df['is_pandemic_year'] = (df['release_year'] == 2020).astype(int)  # Unique disruption period\n",
    "df['is_post_pandemic_era'] = (df['release_year'] >= 2022).astype(int)  # Recovery/hybrid era\n",
    "\n",
    "print(\"✅ Alternative time features created:\")\n",
    "print(f\"   • years_since_baseline: {df['years_since_baseline'].min()} to {df['years_since_baseline'].max()}\")\n",
    "print(f\"   • is_pre_streaming_era: {df['is_pre_streaming_era'].sum()} movies\")\n",
    "print(f\"   • is_streaming_transition: {df['is_streaming_transition'].sum()} movies\") \n",
    "print(f\"   • is_pandemic_year: {df['is_pandemic_year'].sum()} movies\")\n",
    "print(f\"   • is_post_pandemic_era: {df['is_post_pandemic_era'].sum()} movies\")\n",
    "\n",
    "print(f\"\\n🔮 2026 Feature Values (safe extrapolation):\")\n",
    "print(f\"   • years_since_baseline: {2026 - baseline_year} (linear progression)\")\n",
    "print(f\"   • is_pre_streaming_era: 0\")\n",
    "print(f\"   • is_streaming_transition: 0\") \n",
    "print(f\"   • is_pandemic_year: 0\")\n",
    "print(f\"   • is_post_pandemic_era: 1 (reasonable assumption)\")"
   ]
  },
  {
   "cell_type": "markdown",
   "metadata": {},
   "source": [
    "### Restrict to Major Studios only\n",
    "\n",
    "Rationale: box office hits are almost always going to be major studios"
   ]
  },
  {
   "cell_type": "code",
   "execution_count": 18,
   "metadata": {},
   "outputs": [
    {
     "name": "stdout",
     "output_type": "stream",
     "text": [
      "🏢 Major Studio Analysis\n",
      "========================================\n",
      "Overall distribution:\n",
      "  Major Studios: 890 movies (58.1%)\n",
      "  Independent:   641 movies (41.9%)\n",
      "\n",
      "Revenue by studio type:\n",
      "                 count          mean      median          max\n",
      "is_major_studio                                              \n",
      "0                  641  1.175686e+07   4178620.0  184178046.0\n",
      "1                  890  9.550700e+07  52281546.5  936662225.0\n",
      "\n",
      "Top 10 movies per year - Major Studio percentage:\n",
      "  2015: 100% major studio\n",
      "  2016: 100% major studio\n",
      "  2017: 100% major studio\n",
      "  2018: 100% major studio\n",
      "  2019: 100% major studio\n",
      "  2020: 100% major studio\n",
      "  2021: 100% major studio\n",
      "  2022: 100% major studio\n",
      "  2023: 90% major studio\n",
      "  2024: 100% major studio\n",
      "  2025: 100% major studio\n",
      "\n",
      "Top 50 all-time movies: 100% major studio\n",
      "\n",
      "Within major studios:\n",
      "  Movies: 890\n",
      "  Revenue range: $521,202 - $936,662,225\n",
      "  Average: $95,506,997\n",
      "  Std Dev: $123,728,111\n",
      "\n",
      "Within independent films:\n",
      "  Movies: 641\n",
      "  Revenue range: $521,396 - $184,178,046\n",
      "  Average: $11,756,863\n",
      "  Max (highest indie): $184,178,046\n",
      "  Top indie film: Sound of Freedom\n"
     ]
    }
   ],
   "source": [
    "# Analyze major studio dominance\n",
    "print(\"🏢 Major Studio Analysis\")\n",
    "print(\"=\" * 40)\n",
    "\n",
    "# Overall major studio distribution\n",
    "major_studio_dist = df['is_major_studio'].value_counts()\n",
    "print(f\"Overall distribution:\")\n",
    "print(f\"  Major Studios: {major_studio_dist[1]:,} movies ({major_studio_dist[1]/len(df)*100:.1f}%)\")\n",
    "print(f\"  Independent:   {major_studio_dist[0]:,} movies ({major_studio_dist[0]/len(df)*100:.1f}%)\")\n",
    "\n",
    "# Revenue comparison\n",
    "major_studio_revenue = df.groupby('is_major_studio')['revenue_domestic'].agg(['count', 'mean', 'median', 'max'])\n",
    "print(f\"\\nRevenue by studio type:\")\n",
    "print(major_studio_revenue)\n",
    "\n",
    "# Top 10 each year analysis\n",
    "print(f\"\\nTop 10 movies per year - Major Studio percentage:\")\n",
    "for year in range(2015, 2026):\n",
    "    if year in df['release_year'].values:\n",
    "        top10_year = df[df['release_year'] == year].nlargest(10, 'revenue_domestic')\n",
    "        major_pct = top10_year['is_major_studio'].mean() * 100\n",
    "        print(f\"  {year}: {major_pct:.0f}% major studio\")\n",
    "\n",
    "# Top 50 all-time analysis\n",
    "top50_alltime = df.nlargest(50, 'revenue_domestic')\n",
    "top50_major_pct = top50_alltime['is_major_studio'].mean() * 100\n",
    "print(f\"\\nTop 50 all-time movies: {top50_major_pct:.0f}% major studio\")\n",
    "\n",
    "# Revenue distribution within major studios\n",
    "major_only = df[df['is_major_studio'] == 1]\n",
    "print(f\"\\nWithin major studios:\")\n",
    "print(f\"  Movies: {len(major_only):,}\")\n",
    "print(f\"  Revenue range: ${major_only['revenue_domestic'].min():,.0f} - ${major_only['revenue_domestic'].max():,.0f}\")\n",
    "print(f\"  Average: ${major_only['revenue_domestic'].mean():,.0f}\")\n",
    "print(f\"  Std Dev: ${major_only['revenue_domestic'].std():,.0f}\")\n",
    "\n",
    "# Independent film analysis  \n",
    "indie_only = df[df['is_major_studio'] == 0]\n",
    "print(f\"\\nWithin independent films:\")\n",
    "print(f\"  Movies: {len(indie_only):,}\")\n",
    "print(f\"  Revenue range: ${indie_only['revenue_domestic'].min():,.0f} - ${indie_only['revenue_domestic'].max():,.0f}\")\n",
    "print(f\"  Average: ${indie_only['revenue_domestic'].mean():,.0f}\")\n",
    "print(f\"  Max (highest indie): ${indie_only['revenue_domestic'].max():,.0f}\")\n",
    "print(f\"  Top indie film: {indie_only.loc[indie_only['revenue_domestic'].idxmax(), 'title']}\")"
   ]
  },
  {
   "cell_type": "code",
   "execution_count": 19,
   "metadata": {},
   "outputs": [
    {
     "name": "stdout",
     "output_type": "stream",
     "text": [
      "\n",
      "Dataset filtering:\n",
      "  Original dataset: 1,531 movies\n",
      "  Major studio only: 890 movies (58.1%)\n",
      "\n",
      "Feature engineering:\n",
      "  Removed is_major_studio feature (now constant)\n",
      "  Using alternative time features instead of raw release_year\n",
      "  Kept individual studio flags (Disney, Universal, etc.) for studio-specific insights\n",
      "\n",
      "Major studio dataset statistics:\n",
      "  Movies: 890\n",
      "  Revenue range: $521,202 - $936,662,225\n",
      "  Average revenue: $95,506,997\n",
      "  Revenue std dev: $123,728,111\n"
     ]
    }
   ],
   "source": [
    "# Filter all data to only major studios\n",
    "df_major_only = df[df['is_major_studio'] == 1].copy()\n",
    "print(f\"\\nDataset filtering:\")\n",
    "print(f\"  Original dataset: {len(df):,} movies\")\n",
    "print(f\"  Major studio only: {len(df_major_only):,} movies ({len(df_major_only)/len(df)*100:.1f}%)\")\n",
    "# Update dataframe\n",
    "df = df_major_only\n",
    "\n",
    "print(f\"\\nFeature engineering:\")\n",
    "print(f\"  Removed is_major_studio feature (now constant)\")\n",
    "print(f\"  Using alternative time features instead of raw release_year\")\n",
    "print(f\"  Kept individual studio flags (Disney, Universal, etc.) for studio-specific insights\")\n",
    "\n",
    "print(f\"\\nMajor studio dataset statistics:\")\n",
    "print(f\"  Movies: {len(df):,}\")\n",
    "print(f\"  Revenue range: ${df['revenue_domestic'].min():,.0f} - ${df['revenue_domestic'].max():,.0f}\")\n",
    "print(f\"  Average revenue: ${df['revenue_domestic'].mean():,.0f}\")\n",
    "print(f\"  Revenue std dev: ${df['revenue_domestic'].std():,.0f}\")"
   ]
  },
  {
   "cell_type": "markdown",
   "metadata": {},
   "source": [
    "## Final Dataset Summary"
   ]
  },
  {
   "cell_type": "code",
   "execution_count": 20,
   "metadata": {},
   "outputs": [
    {
     "data": {
      "text/html": [
       "<h3>2015 - Top 10 Highest Grossing Movies</h3>"
      ],
      "text/plain": [
       "<IPython.core.display.HTML object>"
      ]
     },
     "metadata": {},
     "output_type": "display_data"
    },
    {
     "data": {
      "application/vnd.microsoft.datawrangler.viewer.v0+json": {
       "columns": [
        {
         "name": "index",
         "rawType": "int64",
         "type": "integer"
        },
        {
         "name": "Title",
         "rawType": "object",
         "type": "string"
        },
        {
         "name": "Revenue ($M)",
         "rawType": "float64",
         "type": "float"
        },
        {
         "name": "Genre",
         "rawType": "object",
         "type": "string"
        },
        {
         "name": "Distributor",
         "rawType": "object",
         "type": "string"
        },
        {
         "name": "Features",
         "rawType": "object",
         "type": "string"
        }
       ],
       "ref": "cec16c08-4f06-4500-b582-a3ff6b5beca1",
       "rows": [
        [
         "1",
         "Star Wars: The Force Awakens",
         "936.7",
         "Adventure",
         "Walt Disney Studios Motion Pictures",
         "IP, Sequel, Major Studio"
        ],
        [
         "2",
         "Jurassic World",
         "653.4",
         "Action",
         "Universal Pictures",
         "IP, Sequel, Major Studio"
        ],
        [
         "3",
         "Avengers: Age of Ultron",
         "459.0",
         "Action",
         "Walt Disney Studios Motion Pictures",
         "IP, Sequel, Superhero, Major Studio"
        ],
        [
         "4",
         "Inside Out",
         "356.5",
         "Animation",
         "Walt Disney Studios Motion Pictures",
         "Major Studio"
        ],
        [
         "5",
         "Furious 7",
         "353.0",
         "Action",
         "Universal Pictures",
         "IP, Sequel, Major Studio"
        ],
        [
         "6",
         "Minions",
         "336.0",
         "Family",
         "Universal Pictures",
         "IP, Sequel, Major Studio"
        ],
        [
         "7",
         "The Hunger Games: Mockingjay - Part 2",
         "281.7",
         "Action",
         "Lionsgate",
         "Sequel, Major Studio"
        ],
        [
         "8",
         "The Martian",
         "228.4",
         "Drama",
         "Twentieth Century Fox",
         "Major Studio"
        ],
        [
         "9",
         "Cinderella",
         "201.2",
         "Romance",
         "Walt Disney Studios Motion Pictures",
         "IP, Live-Action Remake, Major Studio"
        ],
        [
         "10",
         "Spectre",
         "200.1",
         "Action",
         "Sony Pictures Releasing",
         "IP, Sequel, Major Studio"
        ]
       ],
       "shape": {
        "columns": 5,
        "rows": 10
       }
      },
      "text/html": [
       "<div>\n",
       "<style scoped>\n",
       "    .dataframe tbody tr th:only-of-type {\n",
       "        vertical-align: middle;\n",
       "    }\n",
       "\n",
       "    .dataframe tbody tr th {\n",
       "        vertical-align: top;\n",
       "    }\n",
       "\n",
       "    .dataframe thead th {\n",
       "        text-align: right;\n",
       "    }\n",
       "</style>\n",
       "<table border=\"1\" class=\"dataframe\">\n",
       "  <thead>\n",
       "    <tr style=\"text-align: right;\">\n",
       "      <th></th>\n",
       "      <th>Title</th>\n",
       "      <th>Revenue ($M)</th>\n",
       "      <th>Genre</th>\n",
       "      <th>Distributor</th>\n",
       "      <th>Features</th>\n",
       "    </tr>\n",
       "  </thead>\n",
       "  <tbody>\n",
       "    <tr>\n",
       "      <th>1</th>\n",
       "      <td>Star Wars: The Force Awakens</td>\n",
       "      <td>936.7</td>\n",
       "      <td>Adventure</td>\n",
       "      <td>Walt Disney Studios Motion Pictures</td>\n",
       "      <td>IP, Sequel, Major Studio</td>\n",
       "    </tr>\n",
       "    <tr>\n",
       "      <th>2</th>\n",
       "      <td>Jurassic World</td>\n",
       "      <td>653.4</td>\n",
       "      <td>Action</td>\n",
       "      <td>Universal Pictures</td>\n",
       "      <td>IP, Sequel, Major Studio</td>\n",
       "    </tr>\n",
       "    <tr>\n",
       "      <th>3</th>\n",
       "      <td>Avengers: Age of Ultron</td>\n",
       "      <td>459.0</td>\n",
       "      <td>Action</td>\n",
       "      <td>Walt Disney Studios Motion Pictures</td>\n",
       "      <td>IP, Sequel, Superhero, Major Studio</td>\n",
       "    </tr>\n",
       "    <tr>\n",
       "      <th>4</th>\n",
       "      <td>Inside Out</td>\n",
       "      <td>356.5</td>\n",
       "      <td>Animation</td>\n",
       "      <td>Walt Disney Studios Motion Pictures</td>\n",
       "      <td>Major Studio</td>\n",
       "    </tr>\n",
       "    <tr>\n",
       "      <th>5</th>\n",
       "      <td>Furious 7</td>\n",
       "      <td>353.0</td>\n",
       "      <td>Action</td>\n",
       "      <td>Universal Pictures</td>\n",
       "      <td>IP, Sequel, Major Studio</td>\n",
       "    </tr>\n",
       "    <tr>\n",
       "      <th>6</th>\n",
       "      <td>Minions</td>\n",
       "      <td>336.0</td>\n",
       "      <td>Family</td>\n",
       "      <td>Universal Pictures</td>\n",
       "      <td>IP, Sequel, Major Studio</td>\n",
       "    </tr>\n",
       "    <tr>\n",
       "      <th>7</th>\n",
       "      <td>The Hunger Games: Mockingjay - Part 2</td>\n",
       "      <td>281.7</td>\n",
       "      <td>Action</td>\n",
       "      <td>Lionsgate</td>\n",
       "      <td>Sequel, Major Studio</td>\n",
       "    </tr>\n",
       "    <tr>\n",
       "      <th>8</th>\n",
       "      <td>The Martian</td>\n",
       "      <td>228.4</td>\n",
       "      <td>Drama</td>\n",
       "      <td>Twentieth Century Fox</td>\n",
       "      <td>Major Studio</td>\n",
       "    </tr>\n",
       "    <tr>\n",
       "      <th>9</th>\n",
       "      <td>Cinderella</td>\n",
       "      <td>201.2</td>\n",
       "      <td>Romance</td>\n",
       "      <td>Walt Disney Studios Motion Pictures</td>\n",
       "      <td>IP, Live-Action Remake, Major Studio</td>\n",
       "    </tr>\n",
       "    <tr>\n",
       "      <th>10</th>\n",
       "      <td>Spectre</td>\n",
       "      <td>200.1</td>\n",
       "      <td>Action</td>\n",
       "      <td>Sony Pictures Releasing</td>\n",
       "      <td>IP, Sequel, Major Studio</td>\n",
       "    </tr>\n",
       "  </tbody>\n",
       "</table>\n",
       "</div>"
      ],
      "text/plain": [
       "                                    Title  Revenue ($M)      Genre  \\\n",
       "1            Star Wars: The Force Awakens         936.7  Adventure   \n",
       "2                          Jurassic World         653.4     Action   \n",
       "3                 Avengers: Age of Ultron         459.0     Action   \n",
       "4                              Inside Out         356.5  Animation   \n",
       "5                               Furious 7         353.0     Action   \n",
       "6                                 Minions         336.0     Family   \n",
       "7   The Hunger Games: Mockingjay - Part 2         281.7     Action   \n",
       "8                             The Martian         228.4      Drama   \n",
       "9                              Cinderella         201.2    Romance   \n",
       "10                                Spectre         200.1     Action   \n",
       "\n",
       "                            Distributor                              Features  \n",
       "1   Walt Disney Studios Motion Pictures              IP, Sequel, Major Studio  \n",
       "2                    Universal Pictures              IP, Sequel, Major Studio  \n",
       "3   Walt Disney Studios Motion Pictures   IP, Sequel, Superhero, Major Studio  \n",
       "4   Walt Disney Studios Motion Pictures                          Major Studio  \n",
       "5                    Universal Pictures              IP, Sequel, Major Studio  \n",
       "6                    Universal Pictures              IP, Sequel, Major Studio  \n",
       "7                             Lionsgate                  Sequel, Major Studio  \n",
       "8                 Twentieth Century Fox                          Major Studio  \n",
       "9   Walt Disney Studios Motion Pictures  IP, Live-Action Remake, Major Studio  \n",
       "10              Sony Pictures Releasing              IP, Sequel, Major Studio  "
      ]
     },
     "metadata": {},
     "output_type": "display_data"
    },
    {
     "data": {
      "text/html": [
       "<h3>2016 - Top 10 Highest Grossing Movies</h3>"
      ],
      "text/plain": [
       "<IPython.core.display.HTML object>"
      ]
     },
     "metadata": {},
     "output_type": "display_data"
    },
    {
     "data": {
      "application/vnd.microsoft.datawrangler.viewer.v0+json": {
       "columns": [
        {
         "name": "index",
         "rawType": "int64",
         "type": "integer"
        },
        {
         "name": "Title",
         "rawType": "object",
         "type": "string"
        },
        {
         "name": "Revenue ($M)",
         "rawType": "float64",
         "type": "float"
        },
        {
         "name": "Genre",
         "rawType": "object",
         "type": "string"
        },
        {
         "name": "Distributor",
         "rawType": "object",
         "type": "string"
        },
        {
         "name": "Features",
         "rawType": "object",
         "type": "string"
        }
       ],
       "ref": "720977a7-0465-4edc-bd9e-e6df9e24ae63",
       "rows": [
        [
         "1",
         "Rogue One: A Star Wars Story",
         "533.5",
         "Action",
         "Walt Disney Studios Motion Pictures",
         "IP, Sequel, Major Studio"
        ],
        [
         "2",
         "Finding Dory",
         "486.3",
         "Adventure",
         "Walt Disney Studios Motion Pictures",
         "IP, Major Studio"
        ],
        [
         "3",
         "Captain America: Civil War",
         "408.1",
         "Adventure",
         "Walt Disney Studios Motion Pictures",
         "IP, Sequel, Superhero, Major Studio"
        ],
        [
         "4",
         "The Secret Life of Pets",
         "368.6",
         "Family",
         "Universal Pictures",
         "Major Studio"
        ],
        [
         "5",
         "The Jungle Book",
         "364.0",
         "Family",
         "Walt Disney Studios Motion Pictures",
         "IP, Live-Action Remake, Major Studio"
        ],
        [
         "6",
         "Deadpool & Wolverine",
         "363.1",
         "Action",
         "Twentieth Century Fox",
         "IP, Sequel, Superhero, Major Studio"
        ],
        [
         "7",
         "Zootopia",
         "341.3",
         "Animation",
         "Walt Disney Studios Motion Pictures",
         "Major Studio"
        ],
        [
         "8",
         "Batman v Superman: Dawn of Justice",
         "330.4",
         "Action",
         "Warner Bros.",
         "IP, Sequel, Superhero, Major Studio"
        ],
        [
         "9",
         "Suicide Squad",
         "325.1",
         "Action",
         "Warner Bros.",
         "IP, Sequel, Superhero, Major Studio"
        ],
        [
         "10",
         "Singing with Angels",
         "270.6",
         "Drama",
         "Universal Pictures",
         "Major Studio"
        ]
       ],
       "shape": {
        "columns": 5,
        "rows": 10
       }
      },
      "text/html": [
       "<div>\n",
       "<style scoped>\n",
       "    .dataframe tbody tr th:only-of-type {\n",
       "        vertical-align: middle;\n",
       "    }\n",
       "\n",
       "    .dataframe tbody tr th {\n",
       "        vertical-align: top;\n",
       "    }\n",
       "\n",
       "    .dataframe thead th {\n",
       "        text-align: right;\n",
       "    }\n",
       "</style>\n",
       "<table border=\"1\" class=\"dataframe\">\n",
       "  <thead>\n",
       "    <tr style=\"text-align: right;\">\n",
       "      <th></th>\n",
       "      <th>Title</th>\n",
       "      <th>Revenue ($M)</th>\n",
       "      <th>Genre</th>\n",
       "      <th>Distributor</th>\n",
       "      <th>Features</th>\n",
       "    </tr>\n",
       "  </thead>\n",
       "  <tbody>\n",
       "    <tr>\n",
       "      <th>1</th>\n",
       "      <td>Rogue One: A Star Wars Story</td>\n",
       "      <td>533.5</td>\n",
       "      <td>Action</td>\n",
       "      <td>Walt Disney Studios Motion Pictures</td>\n",
       "      <td>IP, Sequel, Major Studio</td>\n",
       "    </tr>\n",
       "    <tr>\n",
       "      <th>2</th>\n",
       "      <td>Finding Dory</td>\n",
       "      <td>486.3</td>\n",
       "      <td>Adventure</td>\n",
       "      <td>Walt Disney Studios Motion Pictures</td>\n",
       "      <td>IP, Major Studio</td>\n",
       "    </tr>\n",
       "    <tr>\n",
       "      <th>3</th>\n",
       "      <td>Captain America: Civil War</td>\n",
       "      <td>408.1</td>\n",
       "      <td>Adventure</td>\n",
       "      <td>Walt Disney Studios Motion Pictures</td>\n",
       "      <td>IP, Sequel, Superhero, Major Studio</td>\n",
       "    </tr>\n",
       "    <tr>\n",
       "      <th>4</th>\n",
       "      <td>The Secret Life of Pets</td>\n",
       "      <td>368.6</td>\n",
       "      <td>Family</td>\n",
       "      <td>Universal Pictures</td>\n",
       "      <td>Major Studio</td>\n",
       "    </tr>\n",
       "    <tr>\n",
       "      <th>5</th>\n",
       "      <td>The Jungle Book</td>\n",
       "      <td>364.0</td>\n",
       "      <td>Family</td>\n",
       "      <td>Walt Disney Studios Motion Pictures</td>\n",
       "      <td>IP, Live-Action Remake, Major Studio</td>\n",
       "    </tr>\n",
       "    <tr>\n",
       "      <th>6</th>\n",
       "      <td>Deadpool &amp; Wolverine</td>\n",
       "      <td>363.1</td>\n",
       "      <td>Action</td>\n",
       "      <td>Twentieth Century Fox</td>\n",
       "      <td>IP, Sequel, Superhero, Major Studio</td>\n",
       "    </tr>\n",
       "    <tr>\n",
       "      <th>7</th>\n",
       "      <td>Zootopia</td>\n",
       "      <td>341.3</td>\n",
       "      <td>Animation</td>\n",
       "      <td>Walt Disney Studios Motion Pictures</td>\n",
       "      <td>Major Studio</td>\n",
       "    </tr>\n",
       "    <tr>\n",
       "      <th>8</th>\n",
       "      <td>Batman v Superman: Dawn of Justice</td>\n",
       "      <td>330.4</td>\n",
       "      <td>Action</td>\n",
       "      <td>Warner Bros.</td>\n",
       "      <td>IP, Sequel, Superhero, Major Studio</td>\n",
       "    </tr>\n",
       "    <tr>\n",
       "      <th>9</th>\n",
       "      <td>Suicide Squad</td>\n",
       "      <td>325.1</td>\n",
       "      <td>Action</td>\n",
       "      <td>Warner Bros.</td>\n",
       "      <td>IP, Sequel, Superhero, Major Studio</td>\n",
       "    </tr>\n",
       "    <tr>\n",
       "      <th>10</th>\n",
       "      <td>Singing with Angels</td>\n",
       "      <td>270.6</td>\n",
       "      <td>Drama</td>\n",
       "      <td>Universal Pictures</td>\n",
       "      <td>Major Studio</td>\n",
       "    </tr>\n",
       "  </tbody>\n",
       "</table>\n",
       "</div>"
      ],
      "text/plain": [
       "                                 Title  Revenue ($M)      Genre  \\\n",
       "1         Rogue One: A Star Wars Story         533.5     Action   \n",
       "2                         Finding Dory         486.3  Adventure   \n",
       "3           Captain America: Civil War         408.1  Adventure   \n",
       "4              The Secret Life of Pets         368.6     Family   \n",
       "5                      The Jungle Book         364.0     Family   \n",
       "6                 Deadpool & Wolverine         363.1     Action   \n",
       "7                             Zootopia         341.3  Animation   \n",
       "8   Batman v Superman: Dawn of Justice         330.4     Action   \n",
       "9                        Suicide Squad         325.1     Action   \n",
       "10                 Singing with Angels         270.6      Drama   \n",
       "\n",
       "                            Distributor                              Features  \n",
       "1   Walt Disney Studios Motion Pictures              IP, Sequel, Major Studio  \n",
       "2   Walt Disney Studios Motion Pictures                      IP, Major Studio  \n",
       "3   Walt Disney Studios Motion Pictures   IP, Sequel, Superhero, Major Studio  \n",
       "4                    Universal Pictures                          Major Studio  \n",
       "5   Walt Disney Studios Motion Pictures  IP, Live-Action Remake, Major Studio  \n",
       "6                 Twentieth Century Fox   IP, Sequel, Superhero, Major Studio  \n",
       "7   Walt Disney Studios Motion Pictures                          Major Studio  \n",
       "8                          Warner Bros.   IP, Sequel, Superhero, Major Studio  \n",
       "9                          Warner Bros.   IP, Sequel, Superhero, Major Studio  \n",
       "10                   Universal Pictures                          Major Studio  "
      ]
     },
     "metadata": {},
     "output_type": "display_data"
    },
    {
     "data": {
      "text/html": [
       "<h3>2017 - Top 10 Highest Grossing Movies</h3>"
      ],
      "text/plain": [
       "<IPython.core.display.HTML object>"
      ]
     },
     "metadata": {},
     "output_type": "display_data"
    },
    {
     "data": {
      "application/vnd.microsoft.datawrangler.viewer.v0+json": {
       "columns": [
        {
         "name": "index",
         "rawType": "int64",
         "type": "integer"
        },
        {
         "name": "Title",
         "rawType": "object",
         "type": "string"
        },
        {
         "name": "Revenue ($M)",
         "rawType": "float64",
         "type": "float"
        },
        {
         "name": "Genre",
         "rawType": "object",
         "type": "string"
        },
        {
         "name": "Distributor",
         "rawType": "object",
         "type": "string"
        },
        {
         "name": "Features",
         "rawType": "object",
         "type": "string"
        }
       ],
       "ref": "6d1c1a7d-2ccb-4d02-a5df-5c5b13908227",
       "rows": [
        [
         "1",
         "Star Wars: The Last Jedi",
         "620.2",
         "Adventure",
         "Walt Disney Studios Motion Pictures",
         "IP, Sequel, Major Studio"
        ],
        [
         "2",
         "Beauty and the Beast",
         "504.5",
         "Family",
         "Walt Disney Studios Motion Pictures",
         "IP, Live-Action Remake, Major Studio"
        ],
        [
         "3",
         "Wonder Woman",
         "412.8",
         "Action",
         "Warner Bros.",
         "IP, Sequel, Superhero, Major Studio"
        ],
        [
         "4",
         "Jungle",
         "404.5",
         "Adventure",
         "Sony Pictures Releasing",
         "Major Studio"
        ],
        [
         "5",
         "Jumanji: Welcome to the Jungle",
         "404.5",
         "Adventure",
         "Sony Pictures Releasing",
         "IP, Sequel, Major Studio"
        ],
        [
         "6",
         "Guardians of the Galaxy Vol. 2",
         "389.8",
         "Science Fiction",
         "Walt Disney Studios Motion Pictures",
         "IP, Sequel, Superhero, Major Studio"
        ],
        [
         "7",
         "Spider-Man: Homecoming",
         "335.0",
         "Action",
         "Sony Pictures Releasing",
         "IP, Sequel, Superhero, Major Studio"
        ],
        [
         "8",
         "It",
         "328.9",
         "Horror",
         "Warner Bros.",
         "Major Studio"
        ],
        [
         "9",
         "Thor: Ragnarok",
         "315.1",
         "Action",
         "Walt Disney Studios Motion Pictures",
         "IP, Sequel, Superhero, Major Studio"
        ],
        [
         "10",
         "Despicable Me 3",
         "264.6",
         "Action",
         "Universal Pictures",
         "IP, Sequel, Major Studio"
        ]
       ],
       "shape": {
        "columns": 5,
        "rows": 10
       }
      },
      "text/html": [
       "<div>\n",
       "<style scoped>\n",
       "    .dataframe tbody tr th:only-of-type {\n",
       "        vertical-align: middle;\n",
       "    }\n",
       "\n",
       "    .dataframe tbody tr th {\n",
       "        vertical-align: top;\n",
       "    }\n",
       "\n",
       "    .dataframe thead th {\n",
       "        text-align: right;\n",
       "    }\n",
       "</style>\n",
       "<table border=\"1\" class=\"dataframe\">\n",
       "  <thead>\n",
       "    <tr style=\"text-align: right;\">\n",
       "      <th></th>\n",
       "      <th>Title</th>\n",
       "      <th>Revenue ($M)</th>\n",
       "      <th>Genre</th>\n",
       "      <th>Distributor</th>\n",
       "      <th>Features</th>\n",
       "    </tr>\n",
       "  </thead>\n",
       "  <tbody>\n",
       "    <tr>\n",
       "      <th>1</th>\n",
       "      <td>Star Wars: The Last Jedi</td>\n",
       "      <td>620.2</td>\n",
       "      <td>Adventure</td>\n",
       "      <td>Walt Disney Studios Motion Pictures</td>\n",
       "      <td>IP, Sequel, Major Studio</td>\n",
       "    </tr>\n",
       "    <tr>\n",
       "      <th>2</th>\n",
       "      <td>Beauty and the Beast</td>\n",
       "      <td>504.5</td>\n",
       "      <td>Family</td>\n",
       "      <td>Walt Disney Studios Motion Pictures</td>\n",
       "      <td>IP, Live-Action Remake, Major Studio</td>\n",
       "    </tr>\n",
       "    <tr>\n",
       "      <th>3</th>\n",
       "      <td>Wonder Woman</td>\n",
       "      <td>412.8</td>\n",
       "      <td>Action</td>\n",
       "      <td>Warner Bros.</td>\n",
       "      <td>IP, Sequel, Superhero, Major Studio</td>\n",
       "    </tr>\n",
       "    <tr>\n",
       "      <th>4</th>\n",
       "      <td>Jungle</td>\n",
       "      <td>404.5</td>\n",
       "      <td>Adventure</td>\n",
       "      <td>Sony Pictures Releasing</td>\n",
       "      <td>Major Studio</td>\n",
       "    </tr>\n",
       "    <tr>\n",
       "      <th>5</th>\n",
       "      <td>Jumanji: Welcome to the Jungle</td>\n",
       "      <td>404.5</td>\n",
       "      <td>Adventure</td>\n",
       "      <td>Sony Pictures Releasing</td>\n",
       "      <td>IP, Sequel, Major Studio</td>\n",
       "    </tr>\n",
       "    <tr>\n",
       "      <th>6</th>\n",
       "      <td>Guardians of the Galaxy Vol. 2</td>\n",
       "      <td>389.8</td>\n",
       "      <td>Science Fiction</td>\n",
       "      <td>Walt Disney Studios Motion Pictures</td>\n",
       "      <td>IP, Sequel, Superhero, Major Studio</td>\n",
       "    </tr>\n",
       "    <tr>\n",
       "      <th>7</th>\n",
       "      <td>Spider-Man: Homecoming</td>\n",
       "      <td>335.0</td>\n",
       "      <td>Action</td>\n",
       "      <td>Sony Pictures Releasing</td>\n",
       "      <td>IP, Sequel, Superhero, Major Studio</td>\n",
       "    </tr>\n",
       "    <tr>\n",
       "      <th>8</th>\n",
       "      <td>It</td>\n",
       "      <td>328.9</td>\n",
       "      <td>Horror</td>\n",
       "      <td>Warner Bros.</td>\n",
       "      <td>Major Studio</td>\n",
       "    </tr>\n",
       "    <tr>\n",
       "      <th>9</th>\n",
       "      <td>Thor: Ragnarok</td>\n",
       "      <td>315.1</td>\n",
       "      <td>Action</td>\n",
       "      <td>Walt Disney Studios Motion Pictures</td>\n",
       "      <td>IP, Sequel, Superhero, Major Studio</td>\n",
       "    </tr>\n",
       "    <tr>\n",
       "      <th>10</th>\n",
       "      <td>Despicable Me 3</td>\n",
       "      <td>264.6</td>\n",
       "      <td>Action</td>\n",
       "      <td>Universal Pictures</td>\n",
       "      <td>IP, Sequel, Major Studio</td>\n",
       "    </tr>\n",
       "  </tbody>\n",
       "</table>\n",
       "</div>"
      ],
      "text/plain": [
       "                             Title  Revenue ($M)            Genre  \\\n",
       "1         Star Wars: The Last Jedi         620.2        Adventure   \n",
       "2             Beauty and the Beast         504.5           Family   \n",
       "3                     Wonder Woman         412.8           Action   \n",
       "4                           Jungle         404.5        Adventure   \n",
       "5   Jumanji: Welcome to the Jungle         404.5        Adventure   \n",
       "6   Guardians of the Galaxy Vol. 2         389.8  Science Fiction   \n",
       "7           Spider-Man: Homecoming         335.0           Action   \n",
       "8                               It         328.9           Horror   \n",
       "9                   Thor: Ragnarok         315.1           Action   \n",
       "10                 Despicable Me 3         264.6           Action   \n",
       "\n",
       "                            Distributor                              Features  \n",
       "1   Walt Disney Studios Motion Pictures              IP, Sequel, Major Studio  \n",
       "2   Walt Disney Studios Motion Pictures  IP, Live-Action Remake, Major Studio  \n",
       "3                          Warner Bros.   IP, Sequel, Superhero, Major Studio  \n",
       "4               Sony Pictures Releasing                          Major Studio  \n",
       "5               Sony Pictures Releasing              IP, Sequel, Major Studio  \n",
       "6   Walt Disney Studios Motion Pictures   IP, Sequel, Superhero, Major Studio  \n",
       "7               Sony Pictures Releasing   IP, Sequel, Superhero, Major Studio  \n",
       "8                          Warner Bros.                          Major Studio  \n",
       "9   Walt Disney Studios Motion Pictures   IP, Sequel, Superhero, Major Studio  \n",
       "10                   Universal Pictures              IP, Sequel, Major Studio  "
      ]
     },
     "metadata": {},
     "output_type": "display_data"
    },
    {
     "data": {
      "text/html": [
       "<h3>2018 - Top 10 Highest Grossing Movies</h3>"
      ],
      "text/plain": [
       "<IPython.core.display.HTML object>"
      ]
     },
     "metadata": {},
     "output_type": "display_data"
    },
    {
     "data": {
      "application/vnd.microsoft.datawrangler.viewer.v0+json": {
       "columns": [
        {
         "name": "index",
         "rawType": "int64",
         "type": "integer"
        },
        {
         "name": "Title",
         "rawType": "object",
         "type": "string"
        },
        {
         "name": "Revenue ($M)",
         "rawType": "float64",
         "type": "float"
        },
        {
         "name": "Genre",
         "rawType": "object",
         "type": "string"
        },
        {
         "name": "Distributor",
         "rawType": "object",
         "type": "string"
        },
        {
         "name": "Features",
         "rawType": "object",
         "type": "string"
        }
       ],
       "ref": "590c02fa-4b37-41e6-938f-5567f852c739",
       "rows": [
        [
         "1",
         "Black Panther",
         "700.4",
         "Action",
         "Walt Disney Studios Motion Pictures",
         "IP, Sequel, Superhero, Major Studio"
        ],
        [
         "2",
         "Avengers: Infinity War",
         "678.8",
         "Adventure",
         "Walt Disney Studios Motion Pictures",
         "IP, Sequel, Superhero, Major Studio"
        ],
        [
         "3",
         "Incredibles 2",
         "608.6",
         "Action",
         "Walt Disney Studios Motion Pictures",
         "Sequel, Major Studio"
        ],
        [
         "4",
         "Jurassic World: Fallen Kingdom",
         "417.7",
         "Action",
         "Universal Pictures",
         "IP, Sequel, Major Studio"
        ],
        [
         "5",
         "LEGO DC Comics Super Heroes: Aquaman - Rage of Atlantis",
         "335.1",
         "Animation",
         "Warner Bros.",
         "IP, Sequel, Superhero, Major Studio"
        ],
        [
         "6",
         "Aquaman",
         "335.1",
         "Action",
         "Warner Bros.",
         "IP, Sequel, Superhero, Major Studio"
        ],
        [
         "7",
         "Deadpool & Wolverine",
         "324.6",
         "Action",
         "Twentieth Century Fox",
         "IP, Sequel, Superhero, Major Studio"
        ],
        [
         "8",
         "The Grinch",
         "272.5",
         "Family",
         "Universal Pictures",
         "Major Studio"
        ],
        [
         "9",
         "Mission: Impossible - Fallout",
         "220.2",
         "Action",
         "Paramount Pictures",
         "Sequel, Major Studio"
        ],
        [
         "10",
         "Bohemian Rhapsody",
         "216.7",
         "Music",
         "Twentieth Century Fox",
         "Major Studio"
        ]
       ],
       "shape": {
        "columns": 5,
        "rows": 10
       }
      },
      "text/html": [
       "<div>\n",
       "<style scoped>\n",
       "    .dataframe tbody tr th:only-of-type {\n",
       "        vertical-align: middle;\n",
       "    }\n",
       "\n",
       "    .dataframe tbody tr th {\n",
       "        vertical-align: top;\n",
       "    }\n",
       "\n",
       "    .dataframe thead th {\n",
       "        text-align: right;\n",
       "    }\n",
       "</style>\n",
       "<table border=\"1\" class=\"dataframe\">\n",
       "  <thead>\n",
       "    <tr style=\"text-align: right;\">\n",
       "      <th></th>\n",
       "      <th>Title</th>\n",
       "      <th>Revenue ($M)</th>\n",
       "      <th>Genre</th>\n",
       "      <th>Distributor</th>\n",
       "      <th>Features</th>\n",
       "    </tr>\n",
       "  </thead>\n",
       "  <tbody>\n",
       "    <tr>\n",
       "      <th>1</th>\n",
       "      <td>Black Panther</td>\n",
       "      <td>700.4</td>\n",
       "      <td>Action</td>\n",
       "      <td>Walt Disney Studios Motion Pictures</td>\n",
       "      <td>IP, Sequel, Superhero, Major Studio</td>\n",
       "    </tr>\n",
       "    <tr>\n",
       "      <th>2</th>\n",
       "      <td>Avengers: Infinity War</td>\n",
       "      <td>678.8</td>\n",
       "      <td>Adventure</td>\n",
       "      <td>Walt Disney Studios Motion Pictures</td>\n",
       "      <td>IP, Sequel, Superhero, Major Studio</td>\n",
       "    </tr>\n",
       "    <tr>\n",
       "      <th>3</th>\n",
       "      <td>Incredibles 2</td>\n",
       "      <td>608.6</td>\n",
       "      <td>Action</td>\n",
       "      <td>Walt Disney Studios Motion Pictures</td>\n",
       "      <td>Sequel, Major Studio</td>\n",
       "    </tr>\n",
       "    <tr>\n",
       "      <th>4</th>\n",
       "      <td>Jurassic World: Fallen Kingdom</td>\n",
       "      <td>417.7</td>\n",
       "      <td>Action</td>\n",
       "      <td>Universal Pictures</td>\n",
       "      <td>IP, Sequel, Major Studio</td>\n",
       "    </tr>\n",
       "    <tr>\n",
       "      <th>5</th>\n",
       "      <td>LEGO DC Comics Super Heroes: Aquaman - Rage of...</td>\n",
       "      <td>335.1</td>\n",
       "      <td>Animation</td>\n",
       "      <td>Warner Bros.</td>\n",
       "      <td>IP, Sequel, Superhero, Major Studio</td>\n",
       "    </tr>\n",
       "    <tr>\n",
       "      <th>6</th>\n",
       "      <td>Aquaman</td>\n",
       "      <td>335.1</td>\n",
       "      <td>Action</td>\n",
       "      <td>Warner Bros.</td>\n",
       "      <td>IP, Sequel, Superhero, Major Studio</td>\n",
       "    </tr>\n",
       "    <tr>\n",
       "      <th>7</th>\n",
       "      <td>Deadpool &amp; Wolverine</td>\n",
       "      <td>324.6</td>\n",
       "      <td>Action</td>\n",
       "      <td>Twentieth Century Fox</td>\n",
       "      <td>IP, Sequel, Superhero, Major Studio</td>\n",
       "    </tr>\n",
       "    <tr>\n",
       "      <th>8</th>\n",
       "      <td>The Grinch</td>\n",
       "      <td>272.5</td>\n",
       "      <td>Family</td>\n",
       "      <td>Universal Pictures</td>\n",
       "      <td>Major Studio</td>\n",
       "    </tr>\n",
       "    <tr>\n",
       "      <th>9</th>\n",
       "      <td>Mission: Impossible - Fallout</td>\n",
       "      <td>220.2</td>\n",
       "      <td>Action</td>\n",
       "      <td>Paramount Pictures</td>\n",
       "      <td>Sequel, Major Studio</td>\n",
       "    </tr>\n",
       "    <tr>\n",
       "      <th>10</th>\n",
       "      <td>Bohemian Rhapsody</td>\n",
       "      <td>216.7</td>\n",
       "      <td>Music</td>\n",
       "      <td>Twentieth Century Fox</td>\n",
       "      <td>Major Studio</td>\n",
       "    </tr>\n",
       "  </tbody>\n",
       "</table>\n",
       "</div>"
      ],
      "text/plain": [
       "                                                Title  Revenue ($M)  \\\n",
       "1                                       Black Panther         700.4   \n",
       "2                              Avengers: Infinity War         678.8   \n",
       "3                                       Incredibles 2         608.6   \n",
       "4                      Jurassic World: Fallen Kingdom         417.7   \n",
       "5   LEGO DC Comics Super Heroes: Aquaman - Rage of...         335.1   \n",
       "6                                             Aquaman         335.1   \n",
       "7                                Deadpool & Wolverine         324.6   \n",
       "8                                          The Grinch         272.5   \n",
       "9                       Mission: Impossible - Fallout         220.2   \n",
       "10                                  Bohemian Rhapsody         216.7   \n",
       "\n",
       "        Genre                          Distributor  \\\n",
       "1      Action  Walt Disney Studios Motion Pictures   \n",
       "2   Adventure  Walt Disney Studios Motion Pictures   \n",
       "3      Action  Walt Disney Studios Motion Pictures   \n",
       "4      Action                   Universal Pictures   \n",
       "5   Animation                         Warner Bros.   \n",
       "6      Action                         Warner Bros.   \n",
       "7      Action                Twentieth Century Fox   \n",
       "8      Family                   Universal Pictures   \n",
       "9      Action                   Paramount Pictures   \n",
       "10      Music                Twentieth Century Fox   \n",
       "\n",
       "                               Features  \n",
       "1   IP, Sequel, Superhero, Major Studio  \n",
       "2   IP, Sequel, Superhero, Major Studio  \n",
       "3                  Sequel, Major Studio  \n",
       "4              IP, Sequel, Major Studio  \n",
       "5   IP, Sequel, Superhero, Major Studio  \n",
       "6   IP, Sequel, Superhero, Major Studio  \n",
       "7   IP, Sequel, Superhero, Major Studio  \n",
       "8                          Major Studio  \n",
       "9                  Sequel, Major Studio  \n",
       "10                         Major Studio  "
      ]
     },
     "metadata": {},
     "output_type": "display_data"
    },
    {
     "data": {
      "text/html": [
       "<h3>2019 - Top 10 Highest Grossing Movies</h3>"
      ],
      "text/plain": [
       "<IPython.core.display.HTML object>"
      ]
     },
     "metadata": {},
     "output_type": "display_data"
    },
    {
     "data": {
      "application/vnd.microsoft.datawrangler.viewer.v0+json": {
       "columns": [
        {
         "name": "index",
         "rawType": "int64",
         "type": "integer"
        },
        {
         "name": "Title",
         "rawType": "object",
         "type": "string"
        },
        {
         "name": "Revenue ($M)",
         "rawType": "float64",
         "type": "float"
        },
        {
         "name": "Genre",
         "rawType": "object",
         "type": "string"
        },
        {
         "name": "Distributor",
         "rawType": "object",
         "type": "string"
        },
        {
         "name": "Features",
         "rawType": "object",
         "type": "string"
        }
       ],
       "ref": "4e37ace1-424b-4b56-90cd-64f308fbd657",
       "rows": [
        [
         "1",
         "Avengers: Endgame",
         "858.4",
         "Adventure",
         "Walt Disney Studios Motion Pictures",
         "IP, Sequel, Superhero, Major Studio"
        ],
        [
         "2",
         "The Lion King",
         "543.6",
         "Adventure",
         "Walt Disney Studios Motion Pictures",
         "IP, Live-Action Remake, Major Studio"
        ],
        [
         "3",
         "Star Wars: The Rise of Skywalker",
         "515.2",
         "Adventure",
         "Walt Disney Studios Motion Pictures",
         "IP, Sequel, Major Studio"
        ],
        [
         "4",
         "Frozen II",
         "477.4",
         "Family",
         "Walt Disney Studios Motion Pictures",
         "Sequel, Major Studio"
        ],
        [
         "5",
         "Toy Story 4",
         "434.0",
         "Family",
         "Walt Disney Studios Motion Pictures",
         "Sequel, Major Studio"
        ],
        [
         "6",
         "Captain Marvel",
         "426.8",
         "Action",
         "Walt Disney Studios Motion Pictures",
         "IP, Sequel, Superhero, Major Studio"
        ],
        [
         "7",
         "Spider-Man: Far From Home",
         "391.3",
         "Action",
         "Sony Pictures Releasing",
         "IP, Sequel, Superhero, Major Studio"
        ],
        [
         "8",
         "Adventures of Aladdin",
         "355.6",
         "Adventure",
         "Walt Disney Studios Motion Pictures",
         "IP, Live-Action Remake, Major Studio"
        ],
        [
         "9",
         "Aladdin",
         "355.6",
         "Adventure",
         "Walt Disney Studios Motion Pictures",
         "IP, Live-Action Remake, Major Studio"
        ],
        [
         "10",
         "Joker",
         "335.5",
         "Crime",
         "Warner Bros.",
         "Major Studio"
        ]
       ],
       "shape": {
        "columns": 5,
        "rows": 10
       }
      },
      "text/html": [
       "<div>\n",
       "<style scoped>\n",
       "    .dataframe tbody tr th:only-of-type {\n",
       "        vertical-align: middle;\n",
       "    }\n",
       "\n",
       "    .dataframe tbody tr th {\n",
       "        vertical-align: top;\n",
       "    }\n",
       "\n",
       "    .dataframe thead th {\n",
       "        text-align: right;\n",
       "    }\n",
       "</style>\n",
       "<table border=\"1\" class=\"dataframe\">\n",
       "  <thead>\n",
       "    <tr style=\"text-align: right;\">\n",
       "      <th></th>\n",
       "      <th>Title</th>\n",
       "      <th>Revenue ($M)</th>\n",
       "      <th>Genre</th>\n",
       "      <th>Distributor</th>\n",
       "      <th>Features</th>\n",
       "    </tr>\n",
       "  </thead>\n",
       "  <tbody>\n",
       "    <tr>\n",
       "      <th>1</th>\n",
       "      <td>Avengers: Endgame</td>\n",
       "      <td>858.4</td>\n",
       "      <td>Adventure</td>\n",
       "      <td>Walt Disney Studios Motion Pictures</td>\n",
       "      <td>IP, Sequel, Superhero, Major Studio</td>\n",
       "    </tr>\n",
       "    <tr>\n",
       "      <th>2</th>\n",
       "      <td>The Lion King</td>\n",
       "      <td>543.6</td>\n",
       "      <td>Adventure</td>\n",
       "      <td>Walt Disney Studios Motion Pictures</td>\n",
       "      <td>IP, Live-Action Remake, Major Studio</td>\n",
       "    </tr>\n",
       "    <tr>\n",
       "      <th>3</th>\n",
       "      <td>Star Wars: The Rise of Skywalker</td>\n",
       "      <td>515.2</td>\n",
       "      <td>Adventure</td>\n",
       "      <td>Walt Disney Studios Motion Pictures</td>\n",
       "      <td>IP, Sequel, Major Studio</td>\n",
       "    </tr>\n",
       "    <tr>\n",
       "      <th>4</th>\n",
       "      <td>Frozen II</td>\n",
       "      <td>477.4</td>\n",
       "      <td>Family</td>\n",
       "      <td>Walt Disney Studios Motion Pictures</td>\n",
       "      <td>Sequel, Major Studio</td>\n",
       "    </tr>\n",
       "    <tr>\n",
       "      <th>5</th>\n",
       "      <td>Toy Story 4</td>\n",
       "      <td>434.0</td>\n",
       "      <td>Family</td>\n",
       "      <td>Walt Disney Studios Motion Pictures</td>\n",
       "      <td>Sequel, Major Studio</td>\n",
       "    </tr>\n",
       "    <tr>\n",
       "      <th>6</th>\n",
       "      <td>Captain Marvel</td>\n",
       "      <td>426.8</td>\n",
       "      <td>Action</td>\n",
       "      <td>Walt Disney Studios Motion Pictures</td>\n",
       "      <td>IP, Sequel, Superhero, Major Studio</td>\n",
       "    </tr>\n",
       "    <tr>\n",
       "      <th>7</th>\n",
       "      <td>Spider-Man: Far From Home</td>\n",
       "      <td>391.3</td>\n",
       "      <td>Action</td>\n",
       "      <td>Sony Pictures Releasing</td>\n",
       "      <td>IP, Sequel, Superhero, Major Studio</td>\n",
       "    </tr>\n",
       "    <tr>\n",
       "      <th>8</th>\n",
       "      <td>Adventures of Aladdin</td>\n",
       "      <td>355.6</td>\n",
       "      <td>Adventure</td>\n",
       "      <td>Walt Disney Studios Motion Pictures</td>\n",
       "      <td>IP, Live-Action Remake, Major Studio</td>\n",
       "    </tr>\n",
       "    <tr>\n",
       "      <th>9</th>\n",
       "      <td>Aladdin</td>\n",
       "      <td>355.6</td>\n",
       "      <td>Adventure</td>\n",
       "      <td>Walt Disney Studios Motion Pictures</td>\n",
       "      <td>IP, Live-Action Remake, Major Studio</td>\n",
       "    </tr>\n",
       "    <tr>\n",
       "      <th>10</th>\n",
       "      <td>Joker</td>\n",
       "      <td>335.5</td>\n",
       "      <td>Crime</td>\n",
       "      <td>Warner Bros.</td>\n",
       "      <td>Major Studio</td>\n",
       "    </tr>\n",
       "  </tbody>\n",
       "</table>\n",
       "</div>"
      ],
      "text/plain": [
       "                               Title  Revenue ($M)      Genre  \\\n",
       "1                  Avengers: Endgame         858.4  Adventure   \n",
       "2                      The Lion King         543.6  Adventure   \n",
       "3   Star Wars: The Rise of Skywalker         515.2  Adventure   \n",
       "4                          Frozen II         477.4     Family   \n",
       "5                        Toy Story 4         434.0     Family   \n",
       "6                     Captain Marvel         426.8     Action   \n",
       "7          Spider-Man: Far From Home         391.3     Action   \n",
       "8              Adventures of Aladdin         355.6  Adventure   \n",
       "9                            Aladdin         355.6  Adventure   \n",
       "10                             Joker         335.5      Crime   \n",
       "\n",
       "                            Distributor                              Features  \n",
       "1   Walt Disney Studios Motion Pictures   IP, Sequel, Superhero, Major Studio  \n",
       "2   Walt Disney Studios Motion Pictures  IP, Live-Action Remake, Major Studio  \n",
       "3   Walt Disney Studios Motion Pictures              IP, Sequel, Major Studio  \n",
       "4   Walt Disney Studios Motion Pictures                  Sequel, Major Studio  \n",
       "5   Walt Disney Studios Motion Pictures                  Sequel, Major Studio  \n",
       "6   Walt Disney Studios Motion Pictures   IP, Sequel, Superhero, Major Studio  \n",
       "7               Sony Pictures Releasing   IP, Sequel, Superhero, Major Studio  \n",
       "8   Walt Disney Studios Motion Pictures  IP, Live-Action Remake, Major Studio  \n",
       "9   Walt Disney Studios Motion Pictures  IP, Live-Action Remake, Major Studio  \n",
       "10                         Warner Bros.                          Major Studio  "
      ]
     },
     "metadata": {},
     "output_type": "display_data"
    },
    {
     "data": {
      "text/html": [
       "<h3>2020 - Top 10 Highest Grossing Movies</h3>"
      ],
      "text/plain": [
       "<IPython.core.display.HTML object>"
      ]
     },
     "metadata": {},
     "output_type": "display_data"
    },
    {
     "data": {
      "application/vnd.microsoft.datawrangler.viewer.v0+json": {
       "columns": [
        {
         "name": "index",
         "rawType": "int64",
         "type": "integer"
        },
        {
         "name": "Title",
         "rawType": "object",
         "type": "string"
        },
        {
         "name": "Revenue ($M)",
         "rawType": "float64",
         "type": "float"
        },
        {
         "name": "Genre",
         "rawType": "object",
         "type": "string"
        },
        {
         "name": "Distributor",
         "rawType": "object",
         "type": "string"
        },
        {
         "name": "Features",
         "rawType": "object",
         "type": "string"
        }
       ],
       "ref": "6b36c798-96ef-49a1-a4ec-f084dbc3cad3",
       "rows": [
        [
         "1",
         "Bad Boys for Life",
         "206.3",
         "Thriller",
         "Sony Pictures Releasing",
         "Major Studio"
        ],
        [
         "2",
         "Sonic the Hedgehog",
         "149.0",
         "Action",
         "Paramount Pictures",
         "IP, Major Studio"
        ],
        [
         "3",
         "Birds of Prey (and the Fantabulous Emancipation of One Harley Quinn)",
         "84.2",
         "Action",
         "Warner Bros.",
         "IP, Superhero, Major Studio"
        ],
        [
         "4",
         "Dolittle",
         "77.0",
         "Family",
         "Universal Pictures",
         "Major Studio"
        ],
        [
         "5",
         "The Invisible Man",
         "70.4",
         "Thriller",
         "Universal Pictures",
         "Major Studio"
        ],
        [
         "6",
         "The Call of the Wild",
         "62.3",
         "Adventure",
         "20th Century Studios",
         "Major Studio"
        ],
        [
         "7",
         "Onward",
         "61.6",
         "Family",
         "Walt Disney Studios Motion Pictures",
         "Major Studio"
        ],
        [
         "8",
         "The Croods: A New Age",
         "58.6",
         "Animation",
         "Universal Pictures",
         "Sequel, Major Studio"
        ],
        [
         "9",
         "Tenets of the Maladjusted",
         "58.5",
         "Drama",
         "Warner Bros.",
         "Major Studio"
        ],
        [
         "10",
         "Tenet",
         "58.5",
         "Action",
         "Warner Bros.",
         "Major Studio"
        ]
       ],
       "shape": {
        "columns": 5,
        "rows": 10
       }
      },
      "text/html": [
       "<div>\n",
       "<style scoped>\n",
       "    .dataframe tbody tr th:only-of-type {\n",
       "        vertical-align: middle;\n",
       "    }\n",
       "\n",
       "    .dataframe tbody tr th {\n",
       "        vertical-align: top;\n",
       "    }\n",
       "\n",
       "    .dataframe thead th {\n",
       "        text-align: right;\n",
       "    }\n",
       "</style>\n",
       "<table border=\"1\" class=\"dataframe\">\n",
       "  <thead>\n",
       "    <tr style=\"text-align: right;\">\n",
       "      <th></th>\n",
       "      <th>Title</th>\n",
       "      <th>Revenue ($M)</th>\n",
       "      <th>Genre</th>\n",
       "      <th>Distributor</th>\n",
       "      <th>Features</th>\n",
       "    </tr>\n",
       "  </thead>\n",
       "  <tbody>\n",
       "    <tr>\n",
       "      <th>1</th>\n",
       "      <td>Bad Boys for Life</td>\n",
       "      <td>206.3</td>\n",
       "      <td>Thriller</td>\n",
       "      <td>Sony Pictures Releasing</td>\n",
       "      <td>Major Studio</td>\n",
       "    </tr>\n",
       "    <tr>\n",
       "      <th>2</th>\n",
       "      <td>Sonic the Hedgehog</td>\n",
       "      <td>149.0</td>\n",
       "      <td>Action</td>\n",
       "      <td>Paramount Pictures</td>\n",
       "      <td>IP, Major Studio</td>\n",
       "    </tr>\n",
       "    <tr>\n",
       "      <th>3</th>\n",
       "      <td>Birds of Prey (and the Fantabulous Emancipatio...</td>\n",
       "      <td>84.2</td>\n",
       "      <td>Action</td>\n",
       "      <td>Warner Bros.</td>\n",
       "      <td>IP, Superhero, Major Studio</td>\n",
       "    </tr>\n",
       "    <tr>\n",
       "      <th>4</th>\n",
       "      <td>Dolittle</td>\n",
       "      <td>77.0</td>\n",
       "      <td>Family</td>\n",
       "      <td>Universal Pictures</td>\n",
       "      <td>Major Studio</td>\n",
       "    </tr>\n",
       "    <tr>\n",
       "      <th>5</th>\n",
       "      <td>The Invisible Man</td>\n",
       "      <td>70.4</td>\n",
       "      <td>Thriller</td>\n",
       "      <td>Universal Pictures</td>\n",
       "      <td>Major Studio</td>\n",
       "    </tr>\n",
       "    <tr>\n",
       "      <th>6</th>\n",
       "      <td>The Call of the Wild</td>\n",
       "      <td>62.3</td>\n",
       "      <td>Adventure</td>\n",
       "      <td>20th Century Studios</td>\n",
       "      <td>Major Studio</td>\n",
       "    </tr>\n",
       "    <tr>\n",
       "      <th>7</th>\n",
       "      <td>Onward</td>\n",
       "      <td>61.6</td>\n",
       "      <td>Family</td>\n",
       "      <td>Walt Disney Studios Motion Pictures</td>\n",
       "      <td>Major Studio</td>\n",
       "    </tr>\n",
       "    <tr>\n",
       "      <th>8</th>\n",
       "      <td>The Croods: A New Age</td>\n",
       "      <td>58.6</td>\n",
       "      <td>Animation</td>\n",
       "      <td>Universal Pictures</td>\n",
       "      <td>Sequel, Major Studio</td>\n",
       "    </tr>\n",
       "    <tr>\n",
       "      <th>9</th>\n",
       "      <td>Tenets of the Maladjusted</td>\n",
       "      <td>58.5</td>\n",
       "      <td>Drama</td>\n",
       "      <td>Warner Bros.</td>\n",
       "      <td>Major Studio</td>\n",
       "    </tr>\n",
       "    <tr>\n",
       "      <th>10</th>\n",
       "      <td>Tenet</td>\n",
       "      <td>58.5</td>\n",
       "      <td>Action</td>\n",
       "      <td>Warner Bros.</td>\n",
       "      <td>Major Studio</td>\n",
       "    </tr>\n",
       "  </tbody>\n",
       "</table>\n",
       "</div>"
      ],
      "text/plain": [
       "                                                Title  Revenue ($M)  \\\n",
       "1                                   Bad Boys for Life         206.3   \n",
       "2                                  Sonic the Hedgehog         149.0   \n",
       "3   Birds of Prey (and the Fantabulous Emancipatio...          84.2   \n",
       "4                                            Dolittle          77.0   \n",
       "5                                   The Invisible Man          70.4   \n",
       "6                                The Call of the Wild          62.3   \n",
       "7                                              Onward          61.6   \n",
       "8                               The Croods: A New Age          58.6   \n",
       "9                           Tenets of the Maladjusted          58.5   \n",
       "10                                              Tenet          58.5   \n",
       "\n",
       "        Genre                          Distributor  \\\n",
       "1    Thriller              Sony Pictures Releasing   \n",
       "2      Action                   Paramount Pictures   \n",
       "3      Action                         Warner Bros.   \n",
       "4      Family                   Universal Pictures   \n",
       "5    Thriller                   Universal Pictures   \n",
       "6   Adventure                 20th Century Studios   \n",
       "7      Family  Walt Disney Studios Motion Pictures   \n",
       "8   Animation                   Universal Pictures   \n",
       "9       Drama                         Warner Bros.   \n",
       "10     Action                         Warner Bros.   \n",
       "\n",
       "                       Features  \n",
       "1                  Major Studio  \n",
       "2              IP, Major Studio  \n",
       "3   IP, Superhero, Major Studio  \n",
       "4                  Major Studio  \n",
       "5                  Major Studio  \n",
       "6                  Major Studio  \n",
       "7                  Major Studio  \n",
       "8          Sequel, Major Studio  \n",
       "9                  Major Studio  \n",
       "10                 Major Studio  "
      ]
     },
     "metadata": {},
     "output_type": "display_data"
    },
    {
     "data": {
      "text/html": [
       "<h3>2021 - Top 10 Highest Grossing Movies</h3>"
      ],
      "text/plain": [
       "<IPython.core.display.HTML object>"
      ]
     },
     "metadata": {},
     "output_type": "display_data"
    },
    {
     "data": {
      "application/vnd.microsoft.datawrangler.viewer.v0+json": {
       "columns": [
        {
         "name": "index",
         "rawType": "int64",
         "type": "integer"
        },
        {
         "name": "Title",
         "rawType": "object",
         "type": "string"
        },
        {
         "name": "Revenue ($M)",
         "rawType": "float64",
         "type": "float"
        },
        {
         "name": "Genre",
         "rawType": "object",
         "type": "string"
        },
        {
         "name": "Distributor",
         "rawType": "object",
         "type": "string"
        },
        {
         "name": "Features",
         "rawType": "object",
         "type": "string"
        }
       ],
       "ref": "b211a1bf-1f9c-4a97-8240-f4830204ac19",
       "rows": [
        [
         "1",
         "Spider-Man: No Way Home",
         "814.9",
         "Action",
         "Sony Pictures Releasing",
         "IP, Sequel, Superhero, Major Studio"
        ],
        [
         "2",
         "Shang-Chi and the Legend of the Ten Rings",
         "224.5",
         "Action",
         "Walt Disney Studios Motion Pictures",
         "IP, Sequel, Superhero, Major Studio"
        ],
        [
         "3",
         "Venom: Let There Be Carnage",
         "213.6",
         "Science Fiction",
         "Sony Pictures Releasing",
         "IP, Sequel, Superhero, Major Studio"
        ],
        [
         "4",
         "Black Widow",
         "183.7",
         "Action",
         "Walt Disney Studios Motion Pictures",
         "IP, Sequel, Superhero, Major Studio"
        ],
        [
         "5",
         "Eternals",
         "164.9",
         "Science Fiction",
         "Walt Disney Studios Motion Pictures",
         "IP, Sequel, Superhero, Major Studio"
        ],
        [
         "6",
         "Sing 2",
         "162.8",
         "Family",
         "Universal Pictures",
         "Sequel, Major Studio"
        ],
        [
         "7",
         "No Time to Die",
         "160.9",
         "Action",
         "Metro-Goldwyn-Mayer (MGM)",
         "IP, Sequel, Major Studio"
        ],
        [
         "8",
         "A Quiet Place Part II",
         "160.1",
         "Science Fiction",
         "Paramount Pictures",
         "Sequel, Major Studio"
        ],
        [
         "9",
         "Ghostbusters: Afterlife",
         "129.5",
         "Fantasy",
         "Sony Pictures Releasing",
         "Sequel, Major Studio"
        ],
        [
         "10",
         "Free Guy",
         "121.6",
         "Comedy",
         "20th Century Studios",
         "Major Studio"
        ]
       ],
       "shape": {
        "columns": 5,
        "rows": 10
       }
      },
      "text/html": [
       "<div>\n",
       "<style scoped>\n",
       "    .dataframe tbody tr th:only-of-type {\n",
       "        vertical-align: middle;\n",
       "    }\n",
       "\n",
       "    .dataframe tbody tr th {\n",
       "        vertical-align: top;\n",
       "    }\n",
       "\n",
       "    .dataframe thead th {\n",
       "        text-align: right;\n",
       "    }\n",
       "</style>\n",
       "<table border=\"1\" class=\"dataframe\">\n",
       "  <thead>\n",
       "    <tr style=\"text-align: right;\">\n",
       "      <th></th>\n",
       "      <th>Title</th>\n",
       "      <th>Revenue ($M)</th>\n",
       "      <th>Genre</th>\n",
       "      <th>Distributor</th>\n",
       "      <th>Features</th>\n",
       "    </tr>\n",
       "  </thead>\n",
       "  <tbody>\n",
       "    <tr>\n",
       "      <th>1</th>\n",
       "      <td>Spider-Man: No Way Home</td>\n",
       "      <td>814.9</td>\n",
       "      <td>Action</td>\n",
       "      <td>Sony Pictures Releasing</td>\n",
       "      <td>IP, Sequel, Superhero, Major Studio</td>\n",
       "    </tr>\n",
       "    <tr>\n",
       "      <th>2</th>\n",
       "      <td>Shang-Chi and the Legend of the Ten Rings</td>\n",
       "      <td>224.5</td>\n",
       "      <td>Action</td>\n",
       "      <td>Walt Disney Studios Motion Pictures</td>\n",
       "      <td>IP, Sequel, Superhero, Major Studio</td>\n",
       "    </tr>\n",
       "    <tr>\n",
       "      <th>3</th>\n",
       "      <td>Venom: Let There Be Carnage</td>\n",
       "      <td>213.6</td>\n",
       "      <td>Science Fiction</td>\n",
       "      <td>Sony Pictures Releasing</td>\n",
       "      <td>IP, Sequel, Superhero, Major Studio</td>\n",
       "    </tr>\n",
       "    <tr>\n",
       "      <th>4</th>\n",
       "      <td>Black Widow</td>\n",
       "      <td>183.7</td>\n",
       "      <td>Action</td>\n",
       "      <td>Walt Disney Studios Motion Pictures</td>\n",
       "      <td>IP, Sequel, Superhero, Major Studio</td>\n",
       "    </tr>\n",
       "    <tr>\n",
       "      <th>5</th>\n",
       "      <td>Eternals</td>\n",
       "      <td>164.9</td>\n",
       "      <td>Science Fiction</td>\n",
       "      <td>Walt Disney Studios Motion Pictures</td>\n",
       "      <td>IP, Sequel, Superhero, Major Studio</td>\n",
       "    </tr>\n",
       "    <tr>\n",
       "      <th>6</th>\n",
       "      <td>Sing 2</td>\n",
       "      <td>162.8</td>\n",
       "      <td>Family</td>\n",
       "      <td>Universal Pictures</td>\n",
       "      <td>Sequel, Major Studio</td>\n",
       "    </tr>\n",
       "    <tr>\n",
       "      <th>7</th>\n",
       "      <td>No Time to Die</td>\n",
       "      <td>160.9</td>\n",
       "      <td>Action</td>\n",
       "      <td>Metro-Goldwyn-Mayer (MGM)</td>\n",
       "      <td>IP, Sequel, Major Studio</td>\n",
       "    </tr>\n",
       "    <tr>\n",
       "      <th>8</th>\n",
       "      <td>A Quiet Place Part II</td>\n",
       "      <td>160.1</td>\n",
       "      <td>Science Fiction</td>\n",
       "      <td>Paramount Pictures</td>\n",
       "      <td>Sequel, Major Studio</td>\n",
       "    </tr>\n",
       "    <tr>\n",
       "      <th>9</th>\n",
       "      <td>Ghostbusters: Afterlife</td>\n",
       "      <td>129.5</td>\n",
       "      <td>Fantasy</td>\n",
       "      <td>Sony Pictures Releasing</td>\n",
       "      <td>Sequel, Major Studio</td>\n",
       "    </tr>\n",
       "    <tr>\n",
       "      <th>10</th>\n",
       "      <td>Free Guy</td>\n",
       "      <td>121.6</td>\n",
       "      <td>Comedy</td>\n",
       "      <td>20th Century Studios</td>\n",
       "      <td>Major Studio</td>\n",
       "    </tr>\n",
       "  </tbody>\n",
       "</table>\n",
       "</div>"
      ],
      "text/plain": [
       "                                        Title  Revenue ($M)            Genre  \\\n",
       "1                     Spider-Man: No Way Home         814.9           Action   \n",
       "2   Shang-Chi and the Legend of the Ten Rings         224.5           Action   \n",
       "3                 Venom: Let There Be Carnage         213.6  Science Fiction   \n",
       "4                                 Black Widow         183.7           Action   \n",
       "5                                    Eternals         164.9  Science Fiction   \n",
       "6                                      Sing 2         162.8           Family   \n",
       "7                              No Time to Die         160.9           Action   \n",
       "8                       A Quiet Place Part II         160.1  Science Fiction   \n",
       "9                     Ghostbusters: Afterlife         129.5          Fantasy   \n",
       "10                                   Free Guy         121.6           Comedy   \n",
       "\n",
       "                            Distributor                             Features  \n",
       "1               Sony Pictures Releasing  IP, Sequel, Superhero, Major Studio  \n",
       "2   Walt Disney Studios Motion Pictures  IP, Sequel, Superhero, Major Studio  \n",
       "3               Sony Pictures Releasing  IP, Sequel, Superhero, Major Studio  \n",
       "4   Walt Disney Studios Motion Pictures  IP, Sequel, Superhero, Major Studio  \n",
       "5   Walt Disney Studios Motion Pictures  IP, Sequel, Superhero, Major Studio  \n",
       "6                    Universal Pictures                 Sequel, Major Studio  \n",
       "7             Metro-Goldwyn-Mayer (MGM)             IP, Sequel, Major Studio  \n",
       "8                    Paramount Pictures                 Sequel, Major Studio  \n",
       "9               Sony Pictures Releasing                 Sequel, Major Studio  \n",
       "10                 20th Century Studios                         Major Studio  "
      ]
     },
     "metadata": {},
     "output_type": "display_data"
    },
    {
     "data": {
      "text/html": [
       "<h3>2022 - Top 10 Highest Grossing Movies</h3>"
      ],
      "text/plain": [
       "<IPython.core.display.HTML object>"
      ]
     },
     "metadata": {},
     "output_type": "display_data"
    },
    {
     "data": {
      "application/vnd.microsoft.datawrangler.viewer.v0+json": {
       "columns": [
        {
         "name": "index",
         "rawType": "int64",
         "type": "integer"
        },
        {
         "name": "Title",
         "rawType": "object",
         "type": "string"
        },
        {
         "name": "Revenue ($M)",
         "rawType": "float64",
         "type": "float"
        },
        {
         "name": "Genre",
         "rawType": "object",
         "type": "string"
        },
        {
         "name": "Distributor",
         "rawType": "object",
         "type": "string"
        },
        {
         "name": "Features",
         "rawType": "object",
         "type": "string"
        }
       ],
       "ref": "f726ec8e-d32d-425e-b358-ea9e7daec2bb",
       "rows": [
        [
         "1",
         "Top Gun: Maverick",
         "718.7",
         "Action",
         "Paramount Pictures",
         "Sequel, Major Studio"
        ],
        [
         "2",
         "Avatar: The Way of Water",
         "684.1",
         "Science Fiction",
         "20th Century Studios",
         "Sequel, Major Studio"
        ],
        [
         "3",
         "Black Panther: Wakanda Forever",
         "453.8",
         "Action",
         "Walt Disney Studios Motion Pictures",
         "IP, Sequel, Superhero, Major Studio"
        ],
        [
         "4",
         "Doctor Strange in the Multiverse of Madness",
         "411.3",
         "Fantasy",
         "Walt Disney Studios Motion Pictures",
         "IP, Sequel, Superhero, Major Studio"
        ],
        [
         "5",
         "Jurassic World Dominion",
         "376.9",
         "Adventure",
         "Universal Pictures",
         "IP, Sequel, Major Studio"
        ],
        [
         "6",
         "Minions: The Rise of Gru",
         "370.5",
         "Family",
         "Universal Pictures",
         "IP, Sequel, Major Studio"
        ],
        [
         "7",
         "The Batman",
         "369.3",
         "Crime",
         "Warner Bros.",
         "IP, Superhero, Major Studio"
        ],
        [
         "8",
         "Thor: Love and Thunder",
         "343.3",
         "Fantasy",
         "Walt Disney Studios Motion Pictures",
         "IP, Sequel, Superhero, Major Studio"
        ],
        [
         "9",
         "Sonic the Hedgehog 2",
         "190.9",
         "Action",
         "Paramount Pictures",
         "IP, Sequel, Major Studio"
        ],
        [
         "10",
         "Puss in Boots: The Last Wish",
         "186.1",
         "Animation",
         "Universal Pictures",
         "IP, Sequel, Major Studio"
        ]
       ],
       "shape": {
        "columns": 5,
        "rows": 10
       }
      },
      "text/html": [
       "<div>\n",
       "<style scoped>\n",
       "    .dataframe tbody tr th:only-of-type {\n",
       "        vertical-align: middle;\n",
       "    }\n",
       "\n",
       "    .dataframe tbody tr th {\n",
       "        vertical-align: top;\n",
       "    }\n",
       "\n",
       "    .dataframe thead th {\n",
       "        text-align: right;\n",
       "    }\n",
       "</style>\n",
       "<table border=\"1\" class=\"dataframe\">\n",
       "  <thead>\n",
       "    <tr style=\"text-align: right;\">\n",
       "      <th></th>\n",
       "      <th>Title</th>\n",
       "      <th>Revenue ($M)</th>\n",
       "      <th>Genre</th>\n",
       "      <th>Distributor</th>\n",
       "      <th>Features</th>\n",
       "    </tr>\n",
       "  </thead>\n",
       "  <tbody>\n",
       "    <tr>\n",
       "      <th>1</th>\n",
       "      <td>Top Gun: Maverick</td>\n",
       "      <td>718.7</td>\n",
       "      <td>Action</td>\n",
       "      <td>Paramount Pictures</td>\n",
       "      <td>Sequel, Major Studio</td>\n",
       "    </tr>\n",
       "    <tr>\n",
       "      <th>2</th>\n",
       "      <td>Avatar: The Way of Water</td>\n",
       "      <td>684.1</td>\n",
       "      <td>Science Fiction</td>\n",
       "      <td>20th Century Studios</td>\n",
       "      <td>Sequel, Major Studio</td>\n",
       "    </tr>\n",
       "    <tr>\n",
       "      <th>3</th>\n",
       "      <td>Black Panther: Wakanda Forever</td>\n",
       "      <td>453.8</td>\n",
       "      <td>Action</td>\n",
       "      <td>Walt Disney Studios Motion Pictures</td>\n",
       "      <td>IP, Sequel, Superhero, Major Studio</td>\n",
       "    </tr>\n",
       "    <tr>\n",
       "      <th>4</th>\n",
       "      <td>Doctor Strange in the Multiverse of Madness</td>\n",
       "      <td>411.3</td>\n",
       "      <td>Fantasy</td>\n",
       "      <td>Walt Disney Studios Motion Pictures</td>\n",
       "      <td>IP, Sequel, Superhero, Major Studio</td>\n",
       "    </tr>\n",
       "    <tr>\n",
       "      <th>5</th>\n",
       "      <td>Jurassic World Dominion</td>\n",
       "      <td>376.9</td>\n",
       "      <td>Adventure</td>\n",
       "      <td>Universal Pictures</td>\n",
       "      <td>IP, Sequel, Major Studio</td>\n",
       "    </tr>\n",
       "    <tr>\n",
       "      <th>6</th>\n",
       "      <td>Minions: The Rise of Gru</td>\n",
       "      <td>370.5</td>\n",
       "      <td>Family</td>\n",
       "      <td>Universal Pictures</td>\n",
       "      <td>IP, Sequel, Major Studio</td>\n",
       "    </tr>\n",
       "    <tr>\n",
       "      <th>7</th>\n",
       "      <td>The Batman</td>\n",
       "      <td>369.3</td>\n",
       "      <td>Crime</td>\n",
       "      <td>Warner Bros.</td>\n",
       "      <td>IP, Superhero, Major Studio</td>\n",
       "    </tr>\n",
       "    <tr>\n",
       "      <th>8</th>\n",
       "      <td>Thor: Love and Thunder</td>\n",
       "      <td>343.3</td>\n",
       "      <td>Fantasy</td>\n",
       "      <td>Walt Disney Studios Motion Pictures</td>\n",
       "      <td>IP, Sequel, Superhero, Major Studio</td>\n",
       "    </tr>\n",
       "    <tr>\n",
       "      <th>9</th>\n",
       "      <td>Sonic the Hedgehog 2</td>\n",
       "      <td>190.9</td>\n",
       "      <td>Action</td>\n",
       "      <td>Paramount Pictures</td>\n",
       "      <td>IP, Sequel, Major Studio</td>\n",
       "    </tr>\n",
       "    <tr>\n",
       "      <th>10</th>\n",
       "      <td>Puss in Boots: The Last Wish</td>\n",
       "      <td>186.1</td>\n",
       "      <td>Animation</td>\n",
       "      <td>Universal Pictures</td>\n",
       "      <td>IP, Sequel, Major Studio</td>\n",
       "    </tr>\n",
       "  </tbody>\n",
       "</table>\n",
       "</div>"
      ],
      "text/plain": [
       "                                          Title  Revenue ($M)  \\\n",
       "1                             Top Gun: Maverick         718.7   \n",
       "2                      Avatar: The Way of Water         684.1   \n",
       "3                Black Panther: Wakanda Forever         453.8   \n",
       "4   Doctor Strange in the Multiverse of Madness         411.3   \n",
       "5                       Jurassic World Dominion         376.9   \n",
       "6                      Minions: The Rise of Gru         370.5   \n",
       "7                                    The Batman         369.3   \n",
       "8                        Thor: Love and Thunder         343.3   \n",
       "9                          Sonic the Hedgehog 2         190.9   \n",
       "10                 Puss in Boots: The Last Wish         186.1   \n",
       "\n",
       "              Genre                          Distributor  \\\n",
       "1            Action                   Paramount Pictures   \n",
       "2   Science Fiction                 20th Century Studios   \n",
       "3            Action  Walt Disney Studios Motion Pictures   \n",
       "4           Fantasy  Walt Disney Studios Motion Pictures   \n",
       "5         Adventure                   Universal Pictures   \n",
       "6            Family                   Universal Pictures   \n",
       "7             Crime                         Warner Bros.   \n",
       "8           Fantasy  Walt Disney Studios Motion Pictures   \n",
       "9            Action                   Paramount Pictures   \n",
       "10        Animation                   Universal Pictures   \n",
       "\n",
       "                               Features  \n",
       "1                  Sequel, Major Studio  \n",
       "2                  Sequel, Major Studio  \n",
       "3   IP, Sequel, Superhero, Major Studio  \n",
       "4   IP, Sequel, Superhero, Major Studio  \n",
       "5              IP, Sequel, Major Studio  \n",
       "6              IP, Sequel, Major Studio  \n",
       "7           IP, Superhero, Major Studio  \n",
       "8   IP, Sequel, Superhero, Major Studio  \n",
       "9              IP, Sequel, Major Studio  \n",
       "10             IP, Sequel, Major Studio  "
      ]
     },
     "metadata": {},
     "output_type": "display_data"
    },
    {
     "data": {
      "text/html": [
       "<h3>2023 - Top 10 Highest Grossing Movies</h3>"
      ],
      "text/plain": [
       "<IPython.core.display.HTML object>"
      ]
     },
     "metadata": {},
     "output_type": "display_data"
    },
    {
     "data": {
      "application/vnd.microsoft.datawrangler.viewer.v0+json": {
       "columns": [
        {
         "name": "index",
         "rawType": "int64",
         "type": "integer"
        },
        {
         "name": "Title",
         "rawType": "object",
         "type": "string"
        },
        {
         "name": "Revenue ($M)",
         "rawType": "float64",
         "type": "float"
        },
        {
         "name": "Genre",
         "rawType": "object",
         "type": "string"
        },
        {
         "name": "Distributor",
         "rawType": "object",
         "type": "string"
        },
        {
         "name": "Features",
         "rawType": "object",
         "type": "string"
        }
       ],
       "ref": "f1dfbeb8-189e-48ed-a4bf-7d5d17a4f6fe",
       "rows": [
        [
         "1",
         "Barbie",
         "636.2",
         "Comedy",
         "Warner Bros.",
         "Major Studio"
        ],
        [
         "2",
         "The Super Mario Bros. Movie",
         "574.9",
         "Family",
         "Universal Pictures",
         "Major Studio"
        ],
        [
         "3",
         "Spider-Man: Across the Spider-Verse",
         "381.6",
         "Animation",
         "Columbia Pictures",
         "IP, Sequel, Superhero, Major Studio"
        ],
        [
         "4",
         "Guardians of the Galaxy Vol. 3",
         "359.0",
         "Science Fiction",
         "Walt Disney Studios Motion Pictures",
         "IP, Sequel, Superhero, Major Studio"
        ],
        [
         "5",
         "Oppenheimer",
         "330.1",
         "Drama",
         "Universal Pictures",
         "Major Studio"
        ],
        [
         "6",
         "The Little Mermaid",
         "298.2",
         "Adventure",
         "Walt Disney Studios Motion Pictures",
         "IP, Live-Action Remake, Major Studio"
        ],
        [
         "7",
         "Wonka",
         "218.4",
         "Comedy",
         "Warner Bros.",
         "Major Studio"
        ],
        [
         "8",
         "Ant-Man and the Wasp: Quantumania",
         "214.5",
         "Action",
         "Walt Disney Studios Motion Pictures",
         "IP, Sequel, Superhero, Major Studio"
        ],
        [
         "9",
         "John Wick: Chapter 4",
         "187.1",
         "Action",
         "Lionsgate",
         "Sequel, Major Studio"
        ],
        [
         "10",
         "Indiana Jones and the Dial of Destiny",
         "174.5",
         "Adventure",
         "Walt Disney Studios Motion Pictures",
         "Major Studio"
        ]
       ],
       "shape": {
        "columns": 5,
        "rows": 10
       }
      },
      "text/html": [
       "<div>\n",
       "<style scoped>\n",
       "    .dataframe tbody tr th:only-of-type {\n",
       "        vertical-align: middle;\n",
       "    }\n",
       "\n",
       "    .dataframe tbody tr th {\n",
       "        vertical-align: top;\n",
       "    }\n",
       "\n",
       "    .dataframe thead th {\n",
       "        text-align: right;\n",
       "    }\n",
       "</style>\n",
       "<table border=\"1\" class=\"dataframe\">\n",
       "  <thead>\n",
       "    <tr style=\"text-align: right;\">\n",
       "      <th></th>\n",
       "      <th>Title</th>\n",
       "      <th>Revenue ($M)</th>\n",
       "      <th>Genre</th>\n",
       "      <th>Distributor</th>\n",
       "      <th>Features</th>\n",
       "    </tr>\n",
       "  </thead>\n",
       "  <tbody>\n",
       "    <tr>\n",
       "      <th>1</th>\n",
       "      <td>Barbie</td>\n",
       "      <td>636.2</td>\n",
       "      <td>Comedy</td>\n",
       "      <td>Warner Bros.</td>\n",
       "      <td>Major Studio</td>\n",
       "    </tr>\n",
       "    <tr>\n",
       "      <th>2</th>\n",
       "      <td>The Super Mario Bros. Movie</td>\n",
       "      <td>574.9</td>\n",
       "      <td>Family</td>\n",
       "      <td>Universal Pictures</td>\n",
       "      <td>Major Studio</td>\n",
       "    </tr>\n",
       "    <tr>\n",
       "      <th>3</th>\n",
       "      <td>Spider-Man: Across the Spider-Verse</td>\n",
       "      <td>381.6</td>\n",
       "      <td>Animation</td>\n",
       "      <td>Columbia Pictures</td>\n",
       "      <td>IP, Sequel, Superhero, Major Studio</td>\n",
       "    </tr>\n",
       "    <tr>\n",
       "      <th>4</th>\n",
       "      <td>Guardians of the Galaxy Vol. 3</td>\n",
       "      <td>359.0</td>\n",
       "      <td>Science Fiction</td>\n",
       "      <td>Walt Disney Studios Motion Pictures</td>\n",
       "      <td>IP, Sequel, Superhero, Major Studio</td>\n",
       "    </tr>\n",
       "    <tr>\n",
       "      <th>5</th>\n",
       "      <td>Oppenheimer</td>\n",
       "      <td>330.1</td>\n",
       "      <td>Drama</td>\n",
       "      <td>Universal Pictures</td>\n",
       "      <td>Major Studio</td>\n",
       "    </tr>\n",
       "    <tr>\n",
       "      <th>6</th>\n",
       "      <td>The Little Mermaid</td>\n",
       "      <td>298.2</td>\n",
       "      <td>Adventure</td>\n",
       "      <td>Walt Disney Studios Motion Pictures</td>\n",
       "      <td>IP, Live-Action Remake, Major Studio</td>\n",
       "    </tr>\n",
       "    <tr>\n",
       "      <th>7</th>\n",
       "      <td>Wonka</td>\n",
       "      <td>218.4</td>\n",
       "      <td>Comedy</td>\n",
       "      <td>Warner Bros.</td>\n",
       "      <td>Major Studio</td>\n",
       "    </tr>\n",
       "    <tr>\n",
       "      <th>8</th>\n",
       "      <td>Ant-Man and the Wasp: Quantumania</td>\n",
       "      <td>214.5</td>\n",
       "      <td>Action</td>\n",
       "      <td>Walt Disney Studios Motion Pictures</td>\n",
       "      <td>IP, Sequel, Superhero, Major Studio</td>\n",
       "    </tr>\n",
       "    <tr>\n",
       "      <th>9</th>\n",
       "      <td>John Wick: Chapter 4</td>\n",
       "      <td>187.1</td>\n",
       "      <td>Action</td>\n",
       "      <td>Lionsgate</td>\n",
       "      <td>Sequel, Major Studio</td>\n",
       "    </tr>\n",
       "    <tr>\n",
       "      <th>10</th>\n",
       "      <td>Indiana Jones and the Dial of Destiny</td>\n",
       "      <td>174.5</td>\n",
       "      <td>Adventure</td>\n",
       "      <td>Walt Disney Studios Motion Pictures</td>\n",
       "      <td>Major Studio</td>\n",
       "    </tr>\n",
       "  </tbody>\n",
       "</table>\n",
       "</div>"
      ],
      "text/plain": [
       "                                    Title  Revenue ($M)            Genre  \\\n",
       "1                                  Barbie         636.2           Comedy   \n",
       "2             The Super Mario Bros. Movie         574.9           Family   \n",
       "3     Spider-Man: Across the Spider-Verse         381.6        Animation   \n",
       "4          Guardians of the Galaxy Vol. 3         359.0  Science Fiction   \n",
       "5                             Oppenheimer         330.1            Drama   \n",
       "6                      The Little Mermaid         298.2        Adventure   \n",
       "7                                   Wonka         218.4           Comedy   \n",
       "8       Ant-Man and the Wasp: Quantumania         214.5           Action   \n",
       "9                    John Wick: Chapter 4         187.1           Action   \n",
       "10  Indiana Jones and the Dial of Destiny         174.5        Adventure   \n",
       "\n",
       "                            Distributor                              Features  \n",
       "1                          Warner Bros.                          Major Studio  \n",
       "2                    Universal Pictures                          Major Studio  \n",
       "3                     Columbia Pictures   IP, Sequel, Superhero, Major Studio  \n",
       "4   Walt Disney Studios Motion Pictures   IP, Sequel, Superhero, Major Studio  \n",
       "5                    Universal Pictures                          Major Studio  \n",
       "6   Walt Disney Studios Motion Pictures  IP, Live-Action Remake, Major Studio  \n",
       "7                          Warner Bros.                          Major Studio  \n",
       "8   Walt Disney Studios Motion Pictures   IP, Sequel, Superhero, Major Studio  \n",
       "9                             Lionsgate                  Sequel, Major Studio  \n",
       "10  Walt Disney Studios Motion Pictures                          Major Studio  "
      ]
     },
     "metadata": {},
     "output_type": "display_data"
    },
    {
     "data": {
      "text/html": [
       "<h3>2024 - Top 10 Highest Grossing Movies</h3>"
      ],
      "text/plain": [
       "<IPython.core.display.HTML object>"
      ]
     },
     "metadata": {},
     "output_type": "display_data"
    },
    {
     "data": {
      "application/vnd.microsoft.datawrangler.viewer.v0+json": {
       "columns": [
        {
         "name": "index",
         "rawType": "int64",
         "type": "integer"
        },
        {
         "name": "Title",
         "rawType": "object",
         "type": "string"
        },
        {
         "name": "Revenue ($M)",
         "rawType": "float64",
         "type": "float"
        },
        {
         "name": "Genre",
         "rawType": "object",
         "type": "string"
        },
        {
         "name": "Distributor",
         "rawType": "object",
         "type": "string"
        },
        {
         "name": "Features",
         "rawType": "object",
         "type": "string"
        }
       ],
       "ref": "f8f425b3-2463-4548-ae42-1bd8c74625b5",
       "rows": [
        [
         "1",
         "Inside Out 2",
         "653.0",
         "Animation",
         "Walt Disney Studios Motion Pictures",
         "Sequel, Major Studio"
        ],
        [
         "2",
         "Deadpool & Wolverine",
         "636.7",
         "Action",
         "Walt Disney Studios Motion Pictures",
         "IP, Sequel, Superhero, Major Studio"
        ],
        [
         "3",
         "Wicked",
         "473.2",
         "Drama",
         "Universal Pictures",
         "Major Studio"
        ],
        [
         "4",
         "Moana 2",
         "460.4",
         "Animation",
         "Walt Disney Studios Motion Pictures",
         "IP, Sequel, Live-Action Remake, Major Studio"
        ],
        [
         "5",
         "Despicable Me 4",
         "361.0",
         "Family",
         "Universal Pictures",
         "IP, Sequel, Major Studio"
        ],
        [
         "6",
         "Beetlejuice Beetlejuice",
         "294.1",
         "Horror",
         "Warner Bros.",
         "Major Studio"
        ],
        [
         "7",
         "Dune: Part Two",
         "282.1",
         "Science Fiction",
         "Warner Bros.",
         "Sequel, Major Studio"
        ],
        [
         "8",
         "Twisters",
         "267.8",
         "Action",
         "Universal Pictures",
         "Sequel, Major Studio"
        ],
        [
         "9",
         "Mufasa: The Lion King",
         "254.6",
         "Adventure",
         "Walt Disney Studios Motion Pictures",
         "IP, Sequel, Live-Action Remake, Major Studio"
        ],
        [
         "10",
         "Sonic the Hedgehog 3",
         "236.1",
         "Drama",
         "Paramount Pictures",
         "IP, Sequel, Major Studio"
        ]
       ],
       "shape": {
        "columns": 5,
        "rows": 10
       }
      },
      "text/html": [
       "<div>\n",
       "<style scoped>\n",
       "    .dataframe tbody tr th:only-of-type {\n",
       "        vertical-align: middle;\n",
       "    }\n",
       "\n",
       "    .dataframe tbody tr th {\n",
       "        vertical-align: top;\n",
       "    }\n",
       "\n",
       "    .dataframe thead th {\n",
       "        text-align: right;\n",
       "    }\n",
       "</style>\n",
       "<table border=\"1\" class=\"dataframe\">\n",
       "  <thead>\n",
       "    <tr style=\"text-align: right;\">\n",
       "      <th></th>\n",
       "      <th>Title</th>\n",
       "      <th>Revenue ($M)</th>\n",
       "      <th>Genre</th>\n",
       "      <th>Distributor</th>\n",
       "      <th>Features</th>\n",
       "    </tr>\n",
       "  </thead>\n",
       "  <tbody>\n",
       "    <tr>\n",
       "      <th>1</th>\n",
       "      <td>Inside Out 2</td>\n",
       "      <td>653.0</td>\n",
       "      <td>Animation</td>\n",
       "      <td>Walt Disney Studios Motion Pictures</td>\n",
       "      <td>Sequel, Major Studio</td>\n",
       "    </tr>\n",
       "    <tr>\n",
       "      <th>2</th>\n",
       "      <td>Deadpool &amp; Wolverine</td>\n",
       "      <td>636.7</td>\n",
       "      <td>Action</td>\n",
       "      <td>Walt Disney Studios Motion Pictures</td>\n",
       "      <td>IP, Sequel, Superhero, Major Studio</td>\n",
       "    </tr>\n",
       "    <tr>\n",
       "      <th>3</th>\n",
       "      <td>Wicked</td>\n",
       "      <td>473.2</td>\n",
       "      <td>Drama</td>\n",
       "      <td>Universal Pictures</td>\n",
       "      <td>Major Studio</td>\n",
       "    </tr>\n",
       "    <tr>\n",
       "      <th>4</th>\n",
       "      <td>Moana 2</td>\n",
       "      <td>460.4</td>\n",
       "      <td>Animation</td>\n",
       "      <td>Walt Disney Studios Motion Pictures</td>\n",
       "      <td>IP, Sequel, Live-Action Remake, Major Studio</td>\n",
       "    </tr>\n",
       "    <tr>\n",
       "      <th>5</th>\n",
       "      <td>Despicable Me 4</td>\n",
       "      <td>361.0</td>\n",
       "      <td>Family</td>\n",
       "      <td>Universal Pictures</td>\n",
       "      <td>IP, Sequel, Major Studio</td>\n",
       "    </tr>\n",
       "    <tr>\n",
       "      <th>6</th>\n",
       "      <td>Beetlejuice Beetlejuice</td>\n",
       "      <td>294.1</td>\n",
       "      <td>Horror</td>\n",
       "      <td>Warner Bros.</td>\n",
       "      <td>Major Studio</td>\n",
       "    </tr>\n",
       "    <tr>\n",
       "      <th>7</th>\n",
       "      <td>Dune: Part Two</td>\n",
       "      <td>282.1</td>\n",
       "      <td>Science Fiction</td>\n",
       "      <td>Warner Bros.</td>\n",
       "      <td>Sequel, Major Studio</td>\n",
       "    </tr>\n",
       "    <tr>\n",
       "      <th>8</th>\n",
       "      <td>Twisters</td>\n",
       "      <td>267.8</td>\n",
       "      <td>Action</td>\n",
       "      <td>Universal Pictures</td>\n",
       "      <td>Sequel, Major Studio</td>\n",
       "    </tr>\n",
       "    <tr>\n",
       "      <th>9</th>\n",
       "      <td>Mufasa: The Lion King</td>\n",
       "      <td>254.6</td>\n",
       "      <td>Adventure</td>\n",
       "      <td>Walt Disney Studios Motion Pictures</td>\n",
       "      <td>IP, Sequel, Live-Action Remake, Major Studio</td>\n",
       "    </tr>\n",
       "    <tr>\n",
       "      <th>10</th>\n",
       "      <td>Sonic the Hedgehog 3</td>\n",
       "      <td>236.1</td>\n",
       "      <td>Drama</td>\n",
       "      <td>Paramount Pictures</td>\n",
       "      <td>IP, Sequel, Major Studio</td>\n",
       "    </tr>\n",
       "  </tbody>\n",
       "</table>\n",
       "</div>"
      ],
      "text/plain": [
       "                      Title  Revenue ($M)            Genre  \\\n",
       "1              Inside Out 2         653.0        Animation   \n",
       "2      Deadpool & Wolverine         636.7           Action   \n",
       "3                    Wicked         473.2            Drama   \n",
       "4                   Moana 2         460.4        Animation   \n",
       "5           Despicable Me 4         361.0           Family   \n",
       "6   Beetlejuice Beetlejuice         294.1           Horror   \n",
       "7            Dune: Part Two         282.1  Science Fiction   \n",
       "8                  Twisters         267.8           Action   \n",
       "9     Mufasa: The Lion King         254.6        Adventure   \n",
       "10     Sonic the Hedgehog 3         236.1            Drama   \n",
       "\n",
       "                            Distributor  \\\n",
       "1   Walt Disney Studios Motion Pictures   \n",
       "2   Walt Disney Studios Motion Pictures   \n",
       "3                    Universal Pictures   \n",
       "4   Walt Disney Studios Motion Pictures   \n",
       "5                    Universal Pictures   \n",
       "6                          Warner Bros.   \n",
       "7                          Warner Bros.   \n",
       "8                    Universal Pictures   \n",
       "9   Walt Disney Studios Motion Pictures   \n",
       "10                   Paramount Pictures   \n",
       "\n",
       "                                        Features  \n",
       "1                           Sequel, Major Studio  \n",
       "2            IP, Sequel, Superhero, Major Studio  \n",
       "3                                   Major Studio  \n",
       "4   IP, Sequel, Live-Action Remake, Major Studio  \n",
       "5                       IP, Sequel, Major Studio  \n",
       "6                                   Major Studio  \n",
       "7                           Sequel, Major Studio  \n",
       "8                           Sequel, Major Studio  \n",
       "9   IP, Sequel, Live-Action Remake, Major Studio  \n",
       "10                      IP, Sequel, Major Studio  "
      ]
     },
     "metadata": {},
     "output_type": "display_data"
    },
    {
     "data": {
      "text/html": [
       "<h3>2025 - Top 10 Highest Grossing Movies</h3>"
      ],
      "text/plain": [
       "<IPython.core.display.HTML object>"
      ]
     },
     "metadata": {},
     "output_type": "display_data"
    },
    {
     "data": {
      "application/vnd.microsoft.datawrangler.viewer.v0+json": {
       "columns": [
        {
         "name": "index",
         "rawType": "int64",
         "type": "integer"
        },
        {
         "name": "Title",
         "rawType": "object",
         "type": "string"
        },
        {
         "name": "Revenue ($M)",
         "rawType": "float64",
         "type": "float"
        },
        {
         "name": "Genre",
         "rawType": "object",
         "type": "string"
        },
        {
         "name": "Distributor",
         "rawType": "object",
         "type": "string"
        },
        {
         "name": "Features",
         "rawType": "object",
         "type": "string"
        }
       ],
       "ref": "a0a55ab6-71a8-48a9-8176-adf142a8c8dc",
       "rows": [
        [
         "1",
         "A Minecraft Movie",
         "423.9",
         "Family",
         "Warner Bros.",
         "IP, Major Studio"
        ],
        [
         "2",
         "Lilo & Stitch",
         "423.8",
         "Family",
         "Walt Disney Studios Motion Pictures",
         "IP, Live-Action Remake, Major Studio"
        ],
        [
         "3",
         "Superman",
         "354.0",
         "Science Fiction",
         "Warner Bros.",
         "IP, Superhero, Major Studio"
        ],
        [
         "4",
         "Jurassic World Rebirth",
         "339.6",
         "Science Fiction",
         "Universal Pictures",
         "IP, Major Studio"
        ],
        [
         "5",
         "Sinners",
         "278.6",
         "Horror",
         "Warner Bros.",
         "Major Studio"
        ],
        [
         "6",
         "The Fantastic 4: First Steps",
         "273.5",
         "Science Fiction",
         "Walt Disney Studios Motion Pictures",
         "Sequel, Major Studio"
        ],
        [
         "7",
         "How to Train Your Dragon",
         "263.0",
         "Fantasy",
         "Universal Pictures International (UPI)",
         "IP, Live-Action Remake, Major Studio"
        ],
        [
         "8",
         "Captain America: Brave New World",
         "200.5",
         "Action",
         "Walt Disney Studios Motion Pictures",
         "IP, Sequel, Superhero, Major Studio"
        ],
        [
         "9",
         "Mission: Impossible - The Final Reckoning",
         "197.4",
         "Action",
         "Paramount Pictures International",
         "Sequel, Major Studio"
        ],
        [
         "10",
         "Thunderbolts*",
         "190.3",
         "Action",
         "Walt Disney Studios Motion Pictures",
         "IP, Sequel, Superhero, Major Studio"
        ]
       ],
       "shape": {
        "columns": 5,
        "rows": 10
       }
      },
      "text/html": [
       "<div>\n",
       "<style scoped>\n",
       "    .dataframe tbody tr th:only-of-type {\n",
       "        vertical-align: middle;\n",
       "    }\n",
       "\n",
       "    .dataframe tbody tr th {\n",
       "        vertical-align: top;\n",
       "    }\n",
       "\n",
       "    .dataframe thead th {\n",
       "        text-align: right;\n",
       "    }\n",
       "</style>\n",
       "<table border=\"1\" class=\"dataframe\">\n",
       "  <thead>\n",
       "    <tr style=\"text-align: right;\">\n",
       "      <th></th>\n",
       "      <th>Title</th>\n",
       "      <th>Revenue ($M)</th>\n",
       "      <th>Genre</th>\n",
       "      <th>Distributor</th>\n",
       "      <th>Features</th>\n",
       "    </tr>\n",
       "  </thead>\n",
       "  <tbody>\n",
       "    <tr>\n",
       "      <th>1</th>\n",
       "      <td>A Minecraft Movie</td>\n",
       "      <td>423.9</td>\n",
       "      <td>Family</td>\n",
       "      <td>Warner Bros.</td>\n",
       "      <td>IP, Major Studio</td>\n",
       "    </tr>\n",
       "    <tr>\n",
       "      <th>2</th>\n",
       "      <td>Lilo &amp; Stitch</td>\n",
       "      <td>423.8</td>\n",
       "      <td>Family</td>\n",
       "      <td>Walt Disney Studios Motion Pictures</td>\n",
       "      <td>IP, Live-Action Remake, Major Studio</td>\n",
       "    </tr>\n",
       "    <tr>\n",
       "      <th>3</th>\n",
       "      <td>Superman</td>\n",
       "      <td>354.0</td>\n",
       "      <td>Science Fiction</td>\n",
       "      <td>Warner Bros.</td>\n",
       "      <td>IP, Superhero, Major Studio</td>\n",
       "    </tr>\n",
       "    <tr>\n",
       "      <th>4</th>\n",
       "      <td>Jurassic World Rebirth</td>\n",
       "      <td>339.6</td>\n",
       "      <td>Science Fiction</td>\n",
       "      <td>Universal Pictures</td>\n",
       "      <td>IP, Major Studio</td>\n",
       "    </tr>\n",
       "    <tr>\n",
       "      <th>5</th>\n",
       "      <td>Sinners</td>\n",
       "      <td>278.6</td>\n",
       "      <td>Horror</td>\n",
       "      <td>Warner Bros.</td>\n",
       "      <td>Major Studio</td>\n",
       "    </tr>\n",
       "    <tr>\n",
       "      <th>6</th>\n",
       "      <td>The Fantastic 4: First Steps</td>\n",
       "      <td>273.5</td>\n",
       "      <td>Science Fiction</td>\n",
       "      <td>Walt Disney Studios Motion Pictures</td>\n",
       "      <td>Sequel, Major Studio</td>\n",
       "    </tr>\n",
       "    <tr>\n",
       "      <th>7</th>\n",
       "      <td>How to Train Your Dragon</td>\n",
       "      <td>263.0</td>\n",
       "      <td>Fantasy</td>\n",
       "      <td>Universal Pictures International (UPI)</td>\n",
       "      <td>IP, Live-Action Remake, Major Studio</td>\n",
       "    </tr>\n",
       "    <tr>\n",
       "      <th>8</th>\n",
       "      <td>Captain America: Brave New World</td>\n",
       "      <td>200.5</td>\n",
       "      <td>Action</td>\n",
       "      <td>Walt Disney Studios Motion Pictures</td>\n",
       "      <td>IP, Sequel, Superhero, Major Studio</td>\n",
       "    </tr>\n",
       "    <tr>\n",
       "      <th>9</th>\n",
       "      <td>Mission: Impossible - The Final Reckoning</td>\n",
       "      <td>197.4</td>\n",
       "      <td>Action</td>\n",
       "      <td>Paramount Pictures International</td>\n",
       "      <td>Sequel, Major Studio</td>\n",
       "    </tr>\n",
       "    <tr>\n",
       "      <th>10</th>\n",
       "      <td>Thunderbolts*</td>\n",
       "      <td>190.3</td>\n",
       "      <td>Action</td>\n",
       "      <td>Walt Disney Studios Motion Pictures</td>\n",
       "      <td>IP, Sequel, Superhero, Major Studio</td>\n",
       "    </tr>\n",
       "  </tbody>\n",
       "</table>\n",
       "</div>"
      ],
      "text/plain": [
       "                                        Title  Revenue ($M)            Genre  \\\n",
       "1                           A Minecraft Movie         423.9           Family   \n",
       "2                               Lilo & Stitch         423.8           Family   \n",
       "3                                    Superman         354.0  Science Fiction   \n",
       "4                      Jurassic World Rebirth         339.6  Science Fiction   \n",
       "5                                     Sinners         278.6           Horror   \n",
       "6                The Fantastic 4: First Steps         273.5  Science Fiction   \n",
       "7                    How to Train Your Dragon         263.0          Fantasy   \n",
       "8            Captain America: Brave New World         200.5           Action   \n",
       "9   Mission: Impossible - The Final Reckoning         197.4           Action   \n",
       "10                              Thunderbolts*         190.3           Action   \n",
       "\n",
       "                               Distributor  \\\n",
       "1                             Warner Bros.   \n",
       "2      Walt Disney Studios Motion Pictures   \n",
       "3                             Warner Bros.   \n",
       "4                       Universal Pictures   \n",
       "5                             Warner Bros.   \n",
       "6      Walt Disney Studios Motion Pictures   \n",
       "7   Universal Pictures International (UPI)   \n",
       "8      Walt Disney Studios Motion Pictures   \n",
       "9         Paramount Pictures International   \n",
       "10     Walt Disney Studios Motion Pictures   \n",
       "\n",
       "                                Features  \n",
       "1                       IP, Major Studio  \n",
       "2   IP, Live-Action Remake, Major Studio  \n",
       "3            IP, Superhero, Major Studio  \n",
       "4                       IP, Major Studio  \n",
       "5                           Major Studio  \n",
       "6                   Sequel, Major Studio  \n",
       "7   IP, Live-Action Remake, Major Studio  \n",
       "8    IP, Sequel, Superhero, Major Studio  \n",
       "9                   Sequel, Major Studio  \n",
       "10   IP, Sequel, Superhero, Major Studio  "
      ]
     },
     "metadata": {},
     "output_type": "display_data"
    }
   ],
   "source": [
    "# Top 10 Movies by Year with Features\n",
    "from IPython.display import display, HTML\n",
    "\n",
    "years = sorted(df['release_year'].unique())\n",
    "for year in years:\n",
    "    year_data = df[df['release_year'] == year]\n",
    "    top_10_year = year_data.nlargest(10, 'revenue_domestic')[\n",
    "        ['title', 'revenue_domestic', 'distributor', 'primary_genre', \n",
    "         'is_ip_movie', 'is_sequel', 'is_superhero', 'is_major_studio', 'is_live_action_remake']\n",
    "    ].copy()\n",
    "    \n",
    "    # Format revenue in millions\n",
    "    top_10_year['revenue_millions'] = (top_10_year['revenue_domestic'] / 1e6).round(1)\n",
    "    \n",
    "    # Create feature tags\n",
    "    def create_features(row):\n",
    "        features = []\n",
    "        if row['is_ip_movie']: features.append('IP')\n",
    "        if row['is_sequel']: features.append('Sequel') \n",
    "        if row['is_superhero']: features.append('Superhero')\n",
    "        if row['is_live_action_remake']: features.append('Live-Action Remake')\n",
    "        if row['is_major_studio']: features.append('Major Studio')\n",
    "        return ', '.join(features) if features else 'Original'\n",
    "    \n",
    "    top_10_year['features'] = top_10_year.apply(create_features, axis=1)\n",
    "    \n",
    "    # Select and rename columns for display\n",
    "    display_df = top_10_year[['title', 'revenue_millions', 'primary_genre', 'distributor', 'features']].copy()\n",
    "    display_df.columns = ['Title', 'Revenue ($M)', 'Genre', 'Distributor', 'Features']\n",
    "    display_df.index = range(1, len(display_df) + 1)\n",
    "    \n",
    "    if len(display_df) > 0:\n",
    "        display(HTML(f\"<h3>{year} - Top 10 Highest Grossing Movies</h3>\"))\n",
    "        display(display_df)\n",
    "    else:\n",
    "        display(HTML(f\"<h3>{year} - No data available</h3>\"))"
   ]
  },
  {
   "cell_type": "code",
   "execution_count": 21,
   "metadata": {},
   "outputs": [
    {
     "name": "stdout",
     "output_type": "stream",
     "text": [
      "✅ Updated processed domestic dataset saved with 94 features\n"
     ]
    }
   ],
   "source": [
    "# Save updated processed dataset\n",
    "df.to_csv(\"../data/dataset_domestic_processed.csv\", index=False)\n",
    "print(f\"✅ Updated processed domestic dataset saved with {df.shape[1]} features\")"
   ]
  }
 ],
 "metadata": {
  "kernelspec": {
   "display_name": "box_office",
   "language": "python",
   "name": "python3"
  },
  "language_info": {
   "codemirror_mode": {
    "name": "ipython",
    "version": 3
   },
   "file_extension": ".py",
   "mimetype": "text/x-python",
   "name": "python",
   "nbconvert_exporter": "python",
   "pygments_lexer": "ipython3",
   "version": "3.11.13"
  }
 },
 "nbformat": 4,
 "nbformat_minor": 4
}
