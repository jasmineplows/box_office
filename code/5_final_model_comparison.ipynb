{
 "cells": [
  {
   "cell_type": "markdown",
   "metadata": {},
   "source": [
    "## Final Model Comparison: 2026 Box Office Prediction"
   ]
  },
  {
   "cell_type": "code",
   "execution_count": 14,
   "metadata": {},
   "outputs": [
    {
     "name": "stdout",
     "output_type": "stream",
     "text": [
      "🎬 Box Office Prediction: Final Model Comparison\n",
      "Using best trained models from experimentation (notebook 4)\n"
     ]
    }
   ],
   "source": [
    "# Setup and imports\n",
    "import pandas as pd\n",
    "import numpy as np\n",
    "import matplotlib.pyplot as plt\n",
    "import seaborn as sns\n",
    "import pickle\n",
    "import os\n",
    "from sklearn.metrics import mean_squared_error, mean_absolute_error, r2_score\n",
    "import warnings\n",
    "warnings.filterwarnings('ignore')\n",
    "\n",
    "from pathlib import Path\n",
    "import sys\n",
    "\n",
    "_NOTEBOOK_DIR = Path().resolve()\n",
    "_candidate_paths = [\n",
    "    _NOTEBOOK_DIR,\n",
    "    _NOTEBOOK_DIR / 'code',\n",
    "    _NOTEBOOK_DIR.parent,\n",
    "    _NOTEBOOK_DIR.parent / 'code',\n",
    "]\n",
    "\n",
    "for _candidate in _candidate_paths:\n",
    "    if (_candidate / 'model_utils.py').exists():\n",
    "        sys.path.insert(0, str(_candidate))\n",
    "        break\n",
    "\n",
    "from model_utils import (\n",
    "    DEFAULT_EXCLUDE_COLS,\n",
    "    prepare_features,\n",
    "    evaluate_model,\n",
    "    get_top10_predictions,\n",
    "    create_sample_weights,\n",
    ")\n",
    "\n",
    "# Set plotting style\n",
    "plt.style.use('default')\n",
    "sns.set_palette(\"husl\")\n",
    "pd.set_option('display.max_columns', None)\n",
    "pd.set_option('display.width', None)\n",
    "\n",
    "print(\"🎬 Box Office Prediction: Final Model Comparison\")\n",
    "print(\"Using best trained models from experimentation (notebook 4)\")"
   ]
  },
  {
   "cell_type": "code",
   "execution_count": 15,
   "metadata": {},
   "outputs": [
    {
     "name": "stdout",
     "output_type": "stream",
     "text": [
      "📊 Loading and Preparing Data\n",
      "==================================================\n",
      "Dataset loaded: 821 movies, 94 features\n",
      "Date range: 2015-2025\n",
      "Revenue range: $521,202 - $936,662,225\n"
     ]
    }
   ],
   "source": [
    "# Load and prepare data with alternative time features\n",
    "print(\"📊 Loading and Preparing Data\")\n",
    "print(\"=\" * 50)\n",
    "\n",
    "# Load processed dataset\n",
    "df = pd.read_csv('../data/dataset_domestic_processed.csv')\n",
    "\n",
    "print(f\"Dataset loaded: {df.shape[0]} movies, {df.shape[1]} features\")\n",
    "print(f\"Date range: {df['release_year'].min()}-{df['release_year'].max()}\")\n",
    "print(f\"Revenue range: ${df['revenue_domestic'].min():,.0f} - ${df['revenue_domestic'].max():,.0f}\")"
   ]
  },
  {
   "cell_type": "code",
   "execution_count": 16,
   "metadata": {},
   "outputs": [
    {
     "name": "stdout",
     "output_type": "stream",
     "text": [
      "🎯 Strategic Focus: Major Studio Films with Safe Time Features\n",
      "============================================================\n",
      "\n",
      "🔧 Feature preparation summary:\n",
      "   • Rows after major-studio filter: 821\n",
      "   • Candidate features: 63\n",
      "   • Columns with missing values:\n",
      "     – days_to_holiday: 404 nulls\n",
      "Filtered to major studios: 821 movies (100.0%)\n",
      "Target variable: revenue_domestic\n"
     ]
    }
   ],
   "source": [
    "# Focus on major studio films and build the feature list via shared helper\n",
    "print(\"🎯 Strategic Focus: Major Studio Films with Safe Time Features\")\n",
    "print(\"=\" * 60)\n",
    "\n",
    "original_row_count = len(df)\n",
    "\n",
    "df, feature_cols, target = prepare_features(\n",
    "    df,\n",
    "    exclude_cols=DEFAULT_EXCLUDE_COLS,\n",
    "    filter_major_only=True,\n",
    "    drop_major_flag_from_features=True,\n",
    "    verbose=True,\n",
    ")\n",
    "\n",
    "print(f\"Filtered to major studios: {len(df):,} movies ({len(df)/original_row_count*100:.1f}%)\")\n",
    "print(f\"Target variable: {target}\")\n"
   ]
  },
  {
   "cell_type": "code",
   "execution_count": 17,
   "metadata": {},
   "outputs": [
    {
     "name": "stdout",
     "output_type": "stream",
     "text": [
      "📚 Preparing Training and Validation Data\n",
      "==================================================\n",
      "Data splits:\n",
      "   • Training (2015-2023): 698 movies\n",
      "   • Validation (2024): 69 movies\n",
      "   • Test (2025): 54 movies\n",
      "Sample weighting:\n",
      "   • Normal years: 1.0 weight\n",
      "   • Pandemic years (2020-2021): 0.3 weight (93 movies)\n",
      "Feature matrices prepared:\n",
      "   • Training: (698, 63)\n",
      "   • Validation: (69, 63)\n",
      "   • Log-transformed target for better model performance\n"
     ]
    }
   ],
   "source": [
    "# Prepare training and validation data\n",
    "print(\"📚 Preparing Training and Validation Data\")\n",
    "print(\"=\" * 50)\n",
    "\n",
    "# Split data by years (temporal validation)\n",
    "train_data = df[df['release_year'].between(2015, 2023)].copy()\n",
    "val_data = df[df['release_year'] == 2024].copy()\n",
    "test_data = df[df['release_year'] == 2025].copy()\n",
    "\n",
    "print(f\"Data splits:\")\n",
    "print(f\"   • Training (2015-2023): {len(train_data)} movies\")\n",
    "print(f\"   • Validation (2024): {len(val_data)} movies\")\n",
    "print(f\"   • Test (2025): {len(test_data)} movies\")\n",
    "\n",
    "# Create sample weights (best strategy from experimentation: weighted pandemic)\n",
    "sample_weights = create_sample_weights(train_data)\n",
    "pandemic_count = int(train_data['is_pandemic_year'].sum()) if 'is_pandemic_year' in train_data.columns else 0\n",
    "\n",
    "print(\"Sample weighting:\")\n",
    "print(f\"   • Normal years: 1.0 weight\")\n",
    "print(f\"   • Pandemic years (2020-2021): 0.3 weight ({pandemic_count} movies)\")\n",
    "\n",
    "# Prepare feature matrices\n",
    "X_train = train_data[feature_cols]\n",
    "y_train = train_data[target]\n",
    "y_train_log = np.log1p(y_train)  # Log transform for better model performance\n",
    "\n",
    "X_val = val_data[feature_cols]\n",
    "y_val = val_data[target]\n",
    "y_val_log = np.log1p(y_val)\n",
    "\n",
    "print(\"Feature matrices prepared:\")\n",
    "print(f\"   • Training: {X_train.shape}\")\n",
    "print(f\"   • Validation: {X_val.shape}\")\n",
    "print(f\"   • Log-transformed target for better model performance\")\n"
   ]
  },
  {
   "cell_type": "markdown",
   "metadata": {},
   "source": [
    "## Model 1: Ridge Regression\n",
    "\n",
    "Linear model with L2 regularization. Good baseline with interpretable coefficients."
   ]
  },
  {
   "cell_type": "code",
   "execution_count": 18,
   "metadata": {},
   "outputs": [
    {
     "name": "stdout",
     "output_type": "stream",
     "text": [
      "🔵 Loading Ridge Regression Model\n",
      "========================================\n",
      "✅ Ridge model loaded successfully\n",
      "   Strategy: All Eras (2015-2023)\n",
      "   Training RMSE: $118,715,744\n",
      "   Training R²: 0.287\n",
      "\n",
      "Ridge Regression Performance:\n",
      "  RMSE: $118,715,744\n",
      "  MAE:  $66,019,207\n",
      "  MAPE: 122.9%\n",
      "  R²:   0.287\n"
     ]
    }
   ],
   "source": [
    "# Load saved Ridge Regression model\n",
    "print(\"🔵 Loading Ridge Regression Model\")\n",
    "print(\"=\" * 40)\n",
    "\n",
    "ridge_path = '../models/best_ridge_model.pkl'\n",
    "if os.path.exists(ridge_path):\n",
    "    with open(ridge_path, 'rb') as f:\n",
    "        ridge_data = pickle.load(f)\n",
    "    \n",
    "    ridge_model = ridge_data['model']\n",
    "    ridge_strategy = ridge_data['strategy']\n",
    "    ridge_rmse = ridge_data['rmse']\n",
    "    ridge_r2 = ridge_data['r2']\n",
    "    \n",
    "    print(f\"✅ Ridge model loaded successfully\")\n",
    "    print(f\"   Strategy: {ridge_strategy}\")\n",
    "    print(f\"   Training RMSE: ${ridge_rmse:,.0f}\")\n",
    "    print(f\"   Training R²: {ridge_r2:.3f}\")\n",
    "    \n",
    "    # Evaluate on validation data\n",
    "    ridge_results = evaluate_model(ridge_model, X_val, y_val_log, y_val, \"Ridge Regression\")\n",
    "else:\n",
    "    print(\"❌ Ridge model file not found. Run notebook 4 first to train and save models.\")\n",
    "    ridge_results = None"
   ]
  },
  {
   "cell_type": "markdown",
   "metadata": {},
   "source": [
    "## Model 2: Decision Tree\n",
    "\n",
    "Non-linear model that can capture feature interactions and thresholds."
   ]
  },
  {
   "cell_type": "code",
   "execution_count": 19,
   "metadata": {},
   "outputs": [
    {
     "name": "stdout",
     "output_type": "stream",
     "text": [
      "🌳 Loading Decision Tree Model\n",
      "========================================\n",
      "✅ Decision Tree model loaded successfully\n",
      "   Strategy: No Pandemic Era\n",
      "   Training RMSE: $122,056,155\n",
      "   Training R²: 0.246\n",
      "\n",
      "Decision Tree Performance:\n",
      "  RMSE: $122,056,155\n",
      "  MAE:  $68,700,733\n",
      "  MAPE: 136.2%\n",
      "  R²:   0.246\n"
     ]
    }
   ],
   "source": [
    "# Load saved Decision Tree model\n",
    "print(\"🌳 Loading Decision Tree Model\")\n",
    "print(\"=\" * 40)\n",
    "\n",
    "dt_path = '../models/best_decision_tree_model.pkl'\n",
    "if os.path.exists(dt_path):\n",
    "    with open(dt_path, 'rb') as f:\n",
    "        dt_data = pickle.load(f)\n",
    "    \n",
    "    dt_model = dt_data['model']\n",
    "    dt_strategy = dt_data['strategy']\n",
    "    dt_rmse = dt_data['rmse']\n",
    "    dt_r2 = dt_data['r2']\n",
    "    \n",
    "    print(f\"✅ Decision Tree model loaded successfully\")\n",
    "    print(f\"   Strategy: {dt_strategy}\")\n",
    "    print(f\"   Training RMSE: ${dt_rmse:,.0f}\")\n",
    "    print(f\"   Training R²: {dt_r2:.3f}\")\n",
    "    \n",
    "    # Evaluate on validation data\n",
    "    dt_results = evaluate_model(dt_model, X_val, y_val_log, y_val, \"Decision Tree\")\n",
    "else:\n",
    "    print(\"❌ Decision Tree model file not found. Run notebook 4 first to train and save models.\")\n",
    "    dt_results = None"
   ]
  },
  {
   "cell_type": "markdown",
   "metadata": {},
   "source": [
    "## Model 3: Random Forest\n",
    "\n",
    "Ensemble of decision trees for improved generalization and reduced overfitting."
   ]
  },
  {
   "cell_type": "code",
   "execution_count": 20,
   "metadata": {},
   "outputs": [
    {
     "name": "stdout",
     "output_type": "stream",
     "text": [
      "🌲 Loading Random Forest Model\n",
      "========================================\n",
      "✅ Random Forest model loaded successfully\n",
      "   Strategy: No Pandemic Era\n",
      "   Training RMSE: $121,712,521\n",
      "   Training R²: 0.250\n",
      "\n",
      "Random Forest Performance:\n",
      "  RMSE: $121,712,521\n",
      "  MAE:  $69,184,825\n",
      "  MAPE: 151.5%\n",
      "  R²:   0.250\n"
     ]
    }
   ],
   "source": [
    "# Load saved Random Forest model\n",
    "print(\"🌲 Loading Random Forest Model\")\n",
    "print(\"=\" * 40)\n",
    "\n",
    "rf_path = '../models/best_random_forest_model.pkl'\n",
    "if os.path.exists(rf_path):\n",
    "    with open(rf_path, 'rb') as f:\n",
    "        rf_data = pickle.load(f)\n",
    "    \n",
    "    rf_model = rf_data['model']\n",
    "    rf_strategy = rf_data['strategy']\n",
    "    rf_rmse = rf_data['rmse']\n",
    "    rf_r2 = rf_data['r2']\n",
    "    \n",
    "    print(f\"✅ Random Forest model loaded successfully\")\n",
    "    print(f\"   Strategy: {rf_strategy}\")\n",
    "    print(f\"   Training RMSE: ${rf_rmse:,.0f}\")\n",
    "    print(f\"   Training R²: {rf_r2:.3f}\")\n",
    "    \n",
    "    # Evaluate on validation data\n",
    "    rf_results = evaluate_model(rf_model, X_val, y_val_log, y_val, \"Random Forest\")\n",
    "else:\n",
    "    print(\"❌ Random Forest model file not found. Run notebook 4 first to train and save models.\")\n",
    "    rf_results = None"
   ]
  },
  {
   "cell_type": "markdown",
   "metadata": {},
   "source": [
    "## Model Comparison & Selection"
   ]
  },
  {
   "cell_type": "code",
   "execution_count": 21,
   "metadata": {},
   "outputs": [
    {
     "name": "stdout",
     "output_type": "stream",
     "text": [
      "🏆 Final Model Comparison\n",
      "==================================================\n",
      "Performance Summary (Best to Worst):\n",
      "           Model         RMSE         MAE   MAPE    R²\n",
      "Ridge Regression $118,715,744 $66,019,207 122.9% 0.287\n",
      "   Random Forest $121,712,521 $69,184,825 151.5% 0.250\n",
      "   Decision Tree $122,056,155 $68,700,733 136.2% 0.246\n",
      "\n",
      "🥇 WINNER: Ridge Regression\n",
      "   RMSE: $118,715,744\n",
      "   R²: 0.287\n",
      "   MAPE: 122.9%\n",
      "\n",
      "✅ Models loaded from saved pickle files:\n",
      "   • Ridge Regression: All Eras (2015-2023)\n",
      "   • Decision Tree: No Pandemic Era\n",
      "   • Random Forest: No Pandemic Era\n"
     ]
    }
   ],
   "source": [
    "# Compare all models\n",
    "print(\"🏆 Final Model Comparison\")\n",
    "print(\"=\" * 50)\n",
    "\n",
    "# Check which models were loaded successfully\n",
    "available_results = [result for result in [ridge_results, dt_results, rf_results] if result is not None]\n",
    "\n",
    "if len(available_results) == 0:\n",
    "    print(\"❌ No models found! Please run notebook 4 first to train and save models.\")\n",
    "else:\n",
    "    # Create comparison dataframe\n",
    "    comparison_df = pd.DataFrame([\n",
    "        {\n",
    "            'Model': result['model_name'],\n",
    "            'RMSE': f\"${result['rmse']:,.0f}\",\n",
    "            'MAE': f\"${result['mae']:,.0f}\",\n",
    "            'MAPE': f\"{result['mape']:.1f}%\",\n",
    "            'R²': f\"{result['r2']:.3f}\",\n",
    "            'RMSE_raw': result['rmse']  # For sorting\n",
    "        }\n",
    "        for result in available_results\n",
    "    ])\n",
    "\n",
    "    # Sort by RMSE (best first)\n",
    "    comparison_df = comparison_df.sort_values('RMSE_raw')\n",
    "    comparison_df = comparison_df.drop('RMSE_raw', axis=1)\n",
    "\n",
    "    print(\"Performance Summary (Best to Worst):\")\n",
    "    print(comparison_df.to_string(index=False))\n",
    "\n",
    "    # Find best model\n",
    "    best_model_idx = min(range(len(available_results)), key=lambda i: available_results[i]['rmse'])\n",
    "    best_model_result = available_results[best_model_idx]\n",
    "    best_model = best_model_result['model_object']\n",
    "\n",
    "    print(f\"\\n🥇 WINNER: {best_model_result['model_name']}\")\n",
    "    print(f\"   RMSE: ${best_model_result['rmse']:,.0f}\")\n",
    "    print(f\"   R²: {best_model_result['r2']:.3f}\")\n",
    "    print(f\"   MAPE: {best_model_result['mape']:.1f}%\")\n",
    "    \n",
    "    print(f\"\\n✅ Models loaded from saved pickle files:\")\n",
    "    if ridge_results: print(f\"   • Ridge Regression: {ridge_strategy}\")\n",
    "    if dt_results: print(f\"   • Decision Tree: {dt_strategy}\")\n",
    "    if rf_results: print(f\"   • Random Forest: {rf_strategy}\")"
   ]
  },
  {
   "cell_type": "code",
   "execution_count": 22,
   "metadata": {},
   "outputs": [
    {
     "data": {
      "image/png": "[encoded data removed]",
      "text/plain": [
       "<Figure size 1500x500 with 3 Axes>"
      ]
     },
     "metadata": {},
     "output_type": "display_data"
    },
    {
     "name": "stdout",
     "output_type": "stream",
     "text": [
      "📊 Model comparison visualization complete\n"
     ]
    }
   ],
   "source": [
    "# Visualize model comparison\n",
    "if len(available_results) > 0:\n",
    "    fig, axes = plt.subplots(1, 3, figsize=(15, 5))\n",
    "    fig.suptitle('Final Model Comparison (Loaded from Saved Models)', fontsize=16, fontweight='bold')\n",
    "\n",
    "    models = [result['model_name'] for result in available_results]\n",
    "    colors = ['lightblue', 'lightgreen', 'darkgreen'][:len(available_results)]\n",
    "\n",
    "    # RMSE comparison\n",
    "    rmse_values = [result['rmse']/1e6 for result in available_results]\n",
    "    bars1 = axes[0].bar(models, rmse_values, color=colors, alpha=0.8)\n",
    "    axes[0].set_title('RMSE ($M)')\n",
    "    axes[0].set_ylabel('RMSE ($M)')\n",
    "    for bar, val in zip(bars1, rmse_values):\n",
    "        axes[0].text(bar.get_x() + bar.get_width()/2., bar.get_height() + 0.5,\n",
    "                    f'{val:.1f}M', ha='center', va='bottom')\n",
    "\n",
    "    # R² comparison\n",
    "    r2_values = [result['r2'] for result in available_results]\n",
    "    bars2 = axes[1].bar(models, r2_values, color=colors, alpha=0.8)\n",
    "    axes[1].set_title('R² Score')\n",
    "    axes[1].set_ylabel('R² Score')\n",
    "    for bar, val in zip(bars2, r2_values):\n",
    "        axes[1].text(bar.get_x() + bar.get_width()/2., bar.get_height() + 0.01,\n",
    "                    f'{val:.3f}', ha='center', va='bottom')\n",
    "\n",
    "    # MAPE comparison\n",
    "    mape_values = [result['mape'] for result in available_results]\n",
    "    bars3 = axes[2].bar(models, mape_values, color=colors, alpha=0.8)\n",
    "    axes[2].set_title('MAPE (%)')\n",
    "    axes[2].set_ylabel('MAPE (%)')\n",
    "    for bar, val in zip(bars3, mape_values):\n",
    "        axes[2].text(bar.get_x() + bar.get_width()/2., bar.get_height() + 2,\n",
    "                    f'{val:.1f}%', ha='center', va='bottom')\n",
    "\n",
    "    plt.tight_layout()\n",
    "    plt.show()\n",
    "\n",
    "    print(\"📊 Model comparison visualization complete\")\n",
    "else:\n",
    "    print(\"❌ No models available for visualization\")"
   ]
  },
  {
   "cell_type": "markdown",
   "metadata": {},
   "source": [
    "## 2024 Validation: Top 10 Predictions vs Actual"
   ]
  },
  {
   "cell_type": "code",
   "execution_count": 23,
   "metadata": {},
   "outputs": [
    {
     "name": "stdout",
     "output_type": "stream",
     "text": [
      "🎯 2024 Validation: Top 10 Predictions vs Actual\n",
      "============================================================\n",
      "Top 10 Predicted vs Actual for 2024 (Ridge Regression):\n",
      "                   title predicted_revenue actual_revenue prediction_error_pct  is_marvel  is_dc  is_star_wars  is_superhero  is_sequel  is_live_action_remake  is_major_studio  is_disney\n",
      "0  Mufasa: The Lion King      $474,064,807   $254,567,693               -86.2%          0      0             0             0          1                      1                1          1\n",
      "1                Moana 2      $306,543,921   $460,405,297               +33.4%          0      0             0             0          1                      1                1          1\n",
      "2        Despicable Me 4      $281,135,676   $361,004,205               +22.1%          0      0             0             0          1                      0                1          0\n",
      "3   Sonic the Hedgehog 3      $254,503,231   $236,115,100                -7.8%          0      0             0             0          1                      0                1          0\n",
      "4   Deadpool & Wolverine      $231,354,193   $636,745,858               +63.7%          1      0             0             1          1                      0                1          1\n",
      "5  Venom: The Last Dance      $143,012,486   $139,755,882                -2.3%          0      0             0             1          1                      0                1          0\n",
      "6           Inside Out 2      $132,109,711   $652,980,194               +79.8%          0      0             0             0          1                      0                1          1\n",
      "7        Kung Fu Panda 4      $125,322,794   $193,590,620               +35.3%          0      0             0             0          1                      0                1          0\n",
      "8    Joker: Folie à Deux      $120,753,857    $58,300,287              -107.1%          0      1             0             1          1                      0                1          0\n",
      "9     The Garfield Movie      $116,345,922    $91,956,547               -26.5%          0      0             0             0          0                      0                1          0\n",
      "\n",
      "📈 2024 Validation Accuracy:\n",
      "   Movies correctly predicted in top 10: 6/10 (60%)\n",
      "   Average prediction error: 46.4%\n",
      "\n",
      "   ❌ Missed (in actual top 10): ['Twisters', 'Wicked', 'Beetlejuice Beetlejuice', 'Dune: Part Two']\n",
      "   ⚠️  False positives: ['Joker: Folie à Deux', 'Venom: The Last Dance', 'The Garfield Movie', 'Kung Fu Panda 4']\n"
     ]
    }
   ],
   "source": [
    "# Test best model on 2024 validation data\n",
    "if len(available_results) > 0:\n",
    "    print(\"🎯 2024 Validation: Top 10 Predictions vs Actual\")\n",
    "    print(\"=\" * 60)\n",
    "\n",
    "    # Get top 10 predictions for 2024\n",
    "    top10_2024 = get_top10_predictions(best_model, df, 2024, feature_cols)\n",
    "\n",
    "    if top10_2024 is not None:\n",
    "        # Format for display\n",
    "        display_df = top10_2024.copy()\n",
    "        display_df['predicted_revenue'] = display_df['predicted_revenue'].apply(lambda x: f\"${x:,.0f}\")\n",
    "        if 'actual_revenue' in display_df.columns:\n",
    "            display_df['actual_revenue'] = display_df['actual_revenue'].apply(lambda x: f\"${x:,.0f}\")\n",
    "            display_df['prediction_error_pct'] = display_df['prediction_error_pct'].apply(lambda x: f\"{x:+.1f}%\")\n",
    "        \n",
    "        print(f\"Top 10 Predicted vs Actual for 2024 ({best_model_result['model_name']}):\")\n",
    "        print(display_df.to_string(index=True))\n",
    "        \n",
    "        # Calculate ranking accuracy\n",
    "        if 'actual_revenue' in top10_2024.columns:\n",
    "            actual_top10 = df[df['release_year'] == 2024].nlargest(10, 'revenue_domestic')['title'].tolist()\n",
    "            predicted_top10 = top10_2024['title'].tolist()\n",
    "            overlap = len(set(actual_top10) & set(predicted_top10))\n",
    "            \n",
    "            print(f\"\\n📈 2024 Validation Accuracy:\")\n",
    "            print(f\"   Movies correctly predicted in top 10: {overlap}/10 ({overlap*10}%)\")\n",
    "            \n",
    "            if 'prediction_error_pct' in top10_2024.columns:\n",
    "                avg_error = top10_2024['prediction_error_pct'].abs().mean()\n",
    "                print(f\"   Average prediction error: {avg_error:.1f}%\")\n",
    "            \n",
    "            # Show missed and false positives\n",
    "            missed = set(actual_top10) - set(predicted_top10)\n",
    "            false_positives = set(predicted_top10) - set(actual_top10)\n",
    "            \n",
    "            if missed:\n",
    "                print(f\"\\n   ❌ Missed (in actual top 10): {list(missed)}\")\n",
    "            if false_positives:\n",
    "                print(f\"   ⚠️  False positives: {list(false_positives)}\")\n",
    "    else:\n",
    "        print(\"No 2024 validation data available\")\n",
    "else:\n",
    "    print(\"❌ No models available for validation testing\")"
   ]
  },
  {
   "cell_type": "markdown",
   "metadata": {},
   "source": [
    "## Feature Importance Analysis"
   ]
  },
  {
   "cell_type": "code",
   "execution_count": 24,
   "metadata": {},
   "outputs": [
    {
     "name": "stdout",
     "output_type": "stream",
     "text": [
      "Feature importance not available for Ridge Regression\n",
      "Ridge coefficients provide different interpretability\n"
     ]
    }
   ],
   "source": [
    "# Analyze feature importance (for tree-based models)\n",
    "if hasattr(best_model.named_steps, 'rf') or hasattr(best_model.named_steps, 'dt'):\n",
    "    print(\"🔍 Feature Importance Analysis\")\n",
    "    print(\"=\" * 50)\n",
    "    \n",
    "    # Get the model step\n",
    "    if hasattr(best_model.named_steps, 'rf'):\n",
    "        model_step = best_model.named_steps['rf']\n",
    "    else:\n",
    "        model_step = best_model.named_steps['dt']\n",
    "    \n",
    "    # Create feature importance dataframe\n",
    "    feature_importance = pd.DataFrame({\n",
    "        'feature': feature_cols,\n",
    "        'importance': model_step.feature_importances_\n",
    "    }).sort_values('importance', ascending=False)\n",
    "    \n",
    "    # Show top 15 features\n",
    "    top_features = feature_importance.head(15)\n",
    "    print(\"Top 15 Most Important Features:\")\n",
    "    print(top_features.to_string(index=False))\n",
    "    \n",
    "    # Visualize top 10 features\n",
    "    plt.figure(figsize=(12, 6))\n",
    "    top10_features = feature_importance.head(10)\n",
    "    plt.barh(top10_features['feature'][::-1], top10_features['importance'][::-1], \n",
    "             color='darkgreen', alpha=0.7)\n",
    "    plt.title(f'Top 10 Feature Importances ({best_model_result[\"model_name\"]})')\n",
    "    plt.xlabel('Importance')\n",
    "    plt.tight_layout()\n",
    "    plt.show()\n",
    "    \n",
    "    # Analyze alternative time features importance\n",
    "    time_features = ['years_since_baseline', 'is_pre_streaming_era', 'is_streaming_transition', \n",
    "                    'is_pandemic_year', 'is_post_pandemic_era']\n",
    "    \n",
    "    print(f\"\\n🕒 Alternative Time Features Importance:\")\n",
    "    for feature in time_features:\n",
    "        if feature in feature_importance['feature'].values:\n",
    "            importance = feature_importance[feature_importance['feature'] == feature]['importance'].iloc[0]\n",
    "            rank = list(feature_importance['feature']).index(feature) + 1\n",
    "            print(f\"   {feature}: {importance:.3f} (rank {rank})\")\n",
    "    \n",
    "    total_time_importance = feature_importance[\n",
    "        feature_importance['feature'].isin(time_features)\n",
    "    ]['importance'].sum()\n",
    "    print(f\"\\n   Total time features importance: {total_time_importance:.3f} ({total_time_importance*100:.1f}%)\")\n",
    "    \n",
    "else:\n",
    "    print(\"Feature importance not available for Ridge Regression\")\n",
    "    print(\"Ridge coefficients provide different interpretability\")"
   ]
  },
  {
   "cell_type": "markdown",
   "metadata": {},
   "source": [
    "## 2026 Predictions Ready!"
   ]
  },
  {
   "cell_type": "code",
   "execution_count": 25,
   "metadata": {},
   "outputs": [
    {
     "name": "stdout",
     "output_type": "stream",
     "text": [
      "🚀 READY FOR 2026 BOX OFFICE PREDICTIONS\n",
      "============================================================\n",
      "✅ Best Model Selected: Ridge Regression\n",
      "   • Validation RMSE: $118,715,744\n",
      "   • Validation R²: 0.287\n",
      "   • Validation MAPE: 122.9%\n",
      "\n",
      "✅ Safe for 2026 Predictions:\n",
      "   • Uses alternative time features (no data leakage)\n",
      "   • Focused on major studio films\n",
      "   • Weighted training handles pandemic impact\n",
      "   • Temporal validation on 2024 data\n",
      "\n",
      "🎯 2026 Feature Values:\n",
      "   • years_since_baseline: 11 (safe extrapolation)\n",
      "   • is_post_pandemic_era: 1 (reasonable assumption)\n",
      "   • All other era flags: 0\n",
      "\n",
      "📊 Model Performance Summary:\n",
      "   1. Ridge Regression: RMSE $118,715,744, R² 0.287\n",
      "   2. Decision Tree: RMSE $122,056,155, R² 0.246\n",
      "   3. Random Forest: RMSE $121,712,521, R² 0.250\n",
      "\n",
      "🎬 Next Steps:\n",
      "   1. Apply best model to 2026 movie data\n",
      "   2. Generate top 10 box office predictions\n",
      "   3. Analyze prediction confidence intervals\n",
      "   4. Create final prediction report\n",
      "\n",
      "✨ The model is ready to predict 2026 box office success!\n"
     ]
    }
   ],
   "source": [
    "# Final summary and 2026 readiness\n",
    "print(\"🚀 READY FOR 2026 BOX OFFICE PREDICTIONS\")\n",
    "print(\"=\" * 60)\n",
    "\n",
    "print(f\"✅ Best Model Selected: {best_model_result['model_name']}\")\n",
    "print(f\"   • Validation RMSE: ${best_model_result['rmse']:,.0f}\")\n",
    "print(f\"   • Validation R²: {best_model_result['r2']:.3f}\")\n",
    "print(f\"   • Validation MAPE: {best_model_result['mape']:.1f}%\")\n",
    "\n",
    "print(f\"\\n✅ Safe for 2026 Predictions:\")\n",
    "print(f\"   • Uses alternative time features (no data leakage)\")\n",
    "print(f\"   • Focused on major studio films\")\n",
    "print(f\"   • Weighted training handles pandemic impact\")\n",
    "print(f\"   • Temporal validation on 2024 data\")\n",
    "\n",
    "print(f\"\\n🎯 2026 Feature Values:\")\n",
    "print(f\"   • years_since_baseline: {2026 - 2015} (safe extrapolation)\")\n",
    "print(f\"   • is_post_pandemic_era: 1 (reasonable assumption)\")\n",
    "print(f\"   • All other era flags: 0\")\n",
    "\n",
    "print(f\"\\n📊 Model Performance Summary:\")\n",
    "for i, result in enumerate(available_results, 1):\n",
    "    print(f\"   {i}. {result['model_name']}: RMSE ${result['rmse']:,.0f}, R² {result['r2']:.3f}\")\n",
    "\n",
    "print(f\"\\n🎬 Next Steps:\")\n",
    "print(f\"   1. Apply best model to 2026 movie data\")\n",
    "print(f\"   2. Generate top 10 box office predictions\")\n",
    "print(f\"   3. Analyze prediction confidence intervals\")\n",
    "print(f\"   4. Create final prediction report\")\n",
    "\n",
    "print(f\"\\n✨ The model is ready to predict 2026 box office success!\")"
   ]
  },
  {
   "cell_type": "code",
   "execution_count": null,
   "metadata": {},
   "outputs": [],
   "source": []
  }
 ],
 "metadata": {
  "kernelspec": {
   "display_name": "box_office",
   "language": "python",
   "name": "python3"
  },
  "language_info": {
   "codemirror_mode": {
    "name": "ipython",
    "version": 3
   },
   "file_extension": ".py",
   "mimetype": "text/x-python",
   "name": "python",
   "nbconvert_exporter": "python",
   "pygments_lexer": "ipython3",
   "version": "3.11.13"
  }
 },
 "nbformat": 4,
 "nbformat_minor": 4
}
