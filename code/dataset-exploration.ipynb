{
 "cells": [
  {
   "cell_type": "markdown",
   "metadata": {},
   "source": [
    "# Box Office Dataset Exploration"
   ]
  },
  {
   "cell_type": "code",
   "execution_count": null,
   "metadata": {},
   "outputs": [],
   "source": [
    "import pandas as pd\n",
    "import numpy as np\n",
    "import warnings\n",
    "warnings.filterwarnings('ignore')\n",
    "\n",
    "pd.set_option('display.max_columns', None)"
   ]
  },
  {
   "cell_type": "markdown",
   "metadata": {},
   "source": [
    "## Load All Datasets"
   ]
  },
  {
   "cell_type": "code",
   "execution_count": null,
   "metadata": {},
   "outputs": [],
   "source": [
    "# Box Office Data\n",
    "box_office_df = pd.read_csv(\"../data/boxoffice_data_2024.csv\")\n",
    "box_office_df = box_office_df[box_office_df['Year'] >= 2015]\n",
    "\n",
    "# TMDB All Movies\n",
    "tmdb_all_df = pd.read_csv(\"../data/TMDB_all_movies.csv\")\n",
    "tmdb_all_df['release_date'] = pd.to_datetime(tmdb_all_df['release_date'], errors='coerce')\n",
    "tmdb_all_df = tmdb_all_df[(tmdb_all_df['release_date'].dt.year >= 2015) & (tmdb_all_df['release_date'].notna())]\n",
    "\n",
    "# TMDB v11 Dataset\n",
    "tmdb_930k_df = pd.read_csv(\"../data/TMDB_movie_dataset_v11.csv\")\n",
    "tmdb_930k_df['release_date'] = pd.to_datetime(tmdb_930k_df['release_date'], errors='coerce')\n",
    "tmdb_930k_df = tmdb_930k_df[(tmdb_930k_df['release_date'].dt.year >= 2015) & (tmdb_930k_df['release_date'].notna())]\n",
    "\n",
    "# IMDB Data\n",
    "imdb_movies_df = pd.read_csv(\"../data/title.basics.tsv\", sep='\\t', low_memory=False)\n",
    "imdb_movies_df['startYear'] = pd.to_numeric(imdb_movies_df['startYear'], errors='coerce')\n",
    "imdb_movies_df = imdb_movies_df[(imdb_movies_df['startYear'] >= 2015) & (imdb_movies_df['startYear'].notna())]\n",
    "\n",
    "imdb_ratings_df = pd.read_csv(\"../data/title.ratings.tsv\", sep='\\t', low_memory=False)\n",
    "valid_movie_ids = set(imdb_movies_df['tconst'])\n",
    "imdb_ratings_df = imdb_ratings_df[imdb_ratings_df['tconst'].isin(valid_movie_ids)]\n",
    "\n",
    "print(f\"Box Office: {box_office_df.shape}\")\n",
    "print(f\"TMDB All: {tmdb_all_df.shape}\")\n",
    "print(f\"TMDB v11: {tmdb_930k_df.shape}\")\n",
    "print(f\"IMDB Movies: {imdb_movies_df.shape}\")\n",
    "print(f\"IMDB Ratings: {imdb_ratings_df.shape}\")"
   ]
  },
  {
   "cell_type": "markdown",
   "metadata": {},
   "source": [
    "## Box Office Dataset"
   ]
  },
  {
   "cell_type": "code",
   "execution_count": null,
   "metadata": {},
   "outputs": [],
   "source": [
    "print(\"Box Office Dataset Overview:\")\n",
    "print(f\"Shape: {box_office_df.shape}\")\n",
    "print(f\"Columns: {list(box_office_df.columns)}\")\n",
    "print(f\"Year range: {box_office_df['Year'].min()} - {box_office_df['Year'].max()}\")\n",
    "box_office_df.head()"
   ]
  },
  {
   "cell_type": "markdown",
   "metadata": {},
   "source": [
    "## TMDB All Movies Dataset"
   ]
  },
  {
   "cell_type": "code",
   "execution_count": null,
   "metadata": {},
   "outputs": [],
   "source": [
    "print(\"TMDB All Movies Dataset Overview:\")\n",
    "print(f\"Shape: {tmdb_all_df.shape}\")\n",
    "print(f\"Columns: {list(tmdb_all_df.columns)}\")\n",
    "print(f\"Year range: {tmdb_all_df['release_date'].dt.year.min()} - {tmdb_all_df['release_date'].dt.year.max()}\")\n",
    "tmdb_all_df.head()"
   ]
  },
  {
   "cell_type": "markdown",
   "metadata": {},
   "source": [
    "## TMDB v11 Dataset (Main Dataset)"
   ]
  },
  {
   "cell_type": "code",
   "execution_count": null,
   "metadata": {},
   "outputs": [],
   "source": [
    "print(\"TMDB v11 Dataset Overview:\")\n",
    "print(f\"Shape: {tmdb_930k_df.shape}\")\n",
    "print(f\"Columns: {list(tmdb_930k_df.columns)}\")\n",
    "print(f\"Year range: {tmdb_930k_df['release_date'].dt.year.min()} - {tmdb_930k_df['release_date'].dt.year.max()}\")\n",
    "tmdb_930k_df.head()"
   ]
  },
  {
   "cell_type": "code",
   "execution_count": null,
   "metadata": {},
   "outputs": [],
   "source": [
    "tmdb_930k_df.info()"
   ]
  },
  {
   "cell_type": "code",
   "execution_count": null,
   "metadata": {},
   "outputs": [],
   "source": [
    "tmdb_930k_df.describe()"
   ]
  },
  {
   "cell_type": "markdown",
   "metadata": {},
   "source": [
    "## IMDB Movies Dataset"
   ]
  },
  {
   "cell_type": "code",
   "execution_count": null,
   "metadata": {},
   "outputs": [],
   "source": [
    "print(\"IMDB Movies Dataset Overview:\")\n",
    "print(f\"Shape: {imdb_movies_df.shape}\")\n",
    "print(f\"Columns: {list(imdb_movies_df.columns)}\")\n",
    "print(f\"Year range: {imdb_movies_df['startYear'].min()} - {imdb_movies_df['startYear'].max()}\")\n",
    "print(f\"Title types: {imdb_movies_df['titleType'].value_counts().head()}\")\n",
    "imdb_movies_df.head()"
   ]
  },
  {
   "cell_type": "markdown",
   "metadata": {},
   "source": [
    "## IMDB Ratings Dataset"
   ]
  },
  {
   "cell_type": "code",
   "execution_count": null,
   "metadata": {},
   "outputs": [],
   "source": [
    "print(\"IMDB Ratings Dataset Overview:\")\n",
    "print(f\"Shape: {imdb_ratings_df.shape}\")\n",
    "print(f\"Columns: {list(imdb_ratings_df.columns)}\")\n",
    "print(f\"Average rating: {imdb_ratings_df['averageRating'].mean():.2f}\")\n",
    "print(f\"Rating range: {imdb_ratings_df['averageRating'].min()} - {imdb_ratings_df['averageRating'].max()}\")\n",
    "imdb_ratings_df.head()"
   ]
  },
  {
   "cell_type": "markdown",
   "metadata": {},
   "source": [
    "## Revenue and Budget Analysis"
   ]
  },
  {
   "cell_type": "code",
   "execution_count": null,
   "metadata": {},
   "outputs": [],
   "source": [
    "movies_with_revenue = tmdb_930k_df[(tmdb_930k_df['revenue'] > 0) & (tmdb_930k_df['budget'] > 0)]\n",
    "print(f\"Movies with revenue and budget data: {len(movies_with_revenue)}\")\n",
    "\n",
    "movies_with_revenue['roi'] = movies_with_revenue['revenue'] / movies_with_revenue['budget']\n",
    "print(f\"Average ROI: {movies_with_revenue['roi'].mean():.2f}\")\n",
    "print(f\"Median ROI: {movies_with_revenue['roi'].median():.2f}\")"
   ]
  },
  {
   "cell_type": "code",
   "execution_count": null,
   "metadata": {},
   "outputs": [],
   "source": [
    "print(\"Top 10 highest grossing movies:\")\n",
    "top_movies = movies_with_revenue.nlargest(10, 'revenue')[['title', 'revenue', 'budget', 'roi']]\n",
    "display(top_movies)"
   ]
  },
  {
   "cell_type": "markdown",
   "metadata": {},
   "source": [
    "## Missing Data Analysis"
   ]
  },
  {
   "cell_type": "code",
   "execution_count": null,
   "metadata": {},
   "outputs": [],
   "source": [
    "missing_data = tmdb_930k_df.isnull().sum()\n",
    "missing_pct = (missing_data / len(tmdb_930k_df)) * 100\n",
    "missing_df = pd.DataFrame({'Missing': missing_data, 'Percentage': missing_pct})\n",
    "missing_df = missing_df[missing_df['Missing'] > 0].sort_values('Missing', ascending=False)\n",
    "display(missing_df)"
   ]
  },
  {
   "cell_type": "markdown",
   "metadata": {},
   "source": [
    "## Export Clean Dataset"
   ]
  },
  {
   "cell_type": "code",
   "execution_count": null,
   "metadata": {},
   "outputs": [],
   "source": [
    "df = tmdb_930k_df[['id', 'imdb_id', 'title', 'release_date', 'runtime', 'budget', 'revenue', \n",
    "                   'adult', 'spoken_languages', 'genres', 'production_companies', \n",
    "                   'production_countries', 'keywords']].copy()\n",
    "\n",
    "df['release_year'] = pd.to_datetime(df['release_date']).dt.year\n",
    "df.to_csv(\"../data/dataset.csv\", index=False)\n",
    "\n",
    "print(f\"Exported dataset: {df.shape}\")\n",
    "print(f\"Columns: {list(df.columns)}\")"
   ]
  }
 ],
 "metadata": {
  "kernelspec": {
   "display_name": "Python 3",
   "language": "python",
   "name": "python3"
  },
  "language_info": {
   "codemirror_mode": {
    "name": "ipython",
    "version": 3
   },
   "file_extension": ".py",
   "mimetype": "text/x-python",
   "name": "python",
   "nbconvert_exporter": "python",
   "pygments_lexer": "ipython3",
   "version": "3.8.5"
  }
 },
 "nbformat": 4,
 "nbformat_minor": 4
}