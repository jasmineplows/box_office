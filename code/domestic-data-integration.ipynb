{
 "cells": [
  {
   "cell_type": "markdown",
   "metadata": {},
   "source": [
    "# Domestic Box Office Data Integration\n",
    "\n",
    "This notebook processes the downloaded domestic box office datasets and integrates them with existing TMDB data."
   ]
  },
  {
   "cell_type": "markdown",
   "source": "## Step 0: Download Data via Kaggle API\\n\\nThis cell uses the Kaggle API to automatically download domestic box office datasets. \\n\\n**Prerequisites:**\\n1. Kaggle account with API token\\n2. `kaggle.json` file in `~/.kaggle/` directory\\n3. Proper permissions: `chmod 600 ~/.kaggle/kaggle.json`\\n\\n**Downloaded Datasets:**\\n- `enhanced_box_office_data(2000-2024)u.csv` - Main source with domestic + worldwide revenue\\n- `boxoffice.csv` - Box Office Mojo all-time domestic data\\n- Additional Box Office Mojo TSV files for reference\"",
   "metadata": {}
  },
  {
   "cell_type": "code",
   "source": "# Step 0: Download domestic box office datasets via Kaggle API\\nimport subprocess\\nimport os\\nimport zipfile\\nimport glob\\n\\n# Check if Kaggle API is working\\ntry:\\n    result = subprocess.run(['kaggle', '--version'], capture_output=True, text=True, check=True)\\n    print(f\\\"✅ Kaggle API working: {result.stdout.strip()}\\\")\\nexcept subprocess.CalledProcessError:\\n    print(\\\"❌ Kaggle API not set up. Please:\\\")\\n    print(\\\"1. Get API token from https://www.kaggle.com/account\\\")\\n    print(\\\"2. Place kaggle.json in ~/.kaggle/\\\")\\n    print(\\\"3. Run: chmod 600 ~/.kaggle/kaggle.json\\\")\\n    raise\\n\\n# Create data directory\\ndata_dir = '../data/'\\nos.makedirs(data_dir, exist_ok=True)\\n\\n# Download domestic box office datasets\\ndatasets_to_download = [\\n    'kalilurrahman/top-box-office-revenue-data-english-movies',\\n    'eliasdabbas/boxofficemojo-alltime-domestic-data', \\n    'aditya126/movies-box-office-dataset-2000-2024'\\n]\\n\\nfor dataset in datasets_to_download:\\n    print(f\\\"\\\\nDownloading {dataset}...\\\")\\n    try:\\n        # Check if dataset files already exist\\n        if dataset == 'aditya126/movies-box-office-dataset-2000-2024':\\n            target_file = f\\\"{data_dir}enhanced_box_office_data(2000-2024)u.csv\\\"\\n        elif dataset == 'eliasdabbas/boxofficemojo-alltime-domestic-data':\\n            target_file = f\\\"{data_dir}boxoffice.csv\\\"\\n        else:\\n            target_file = f\\\"{data_dir}boxofficemojoustop1000.tsv\\\"\\n            \\n        if os.path.exists(target_file):\\n            print(f\\\"✅ {dataset} already downloaded\\\")\\n            continue\\n            \\n        # Download the dataset\\n        subprocess.run(['kaggle', 'datasets', 'download', '-d', dataset, '-p', data_dir], \\n                      check=True, capture_output=True)\\n        print(f\\\"✅ Downloaded {dataset}\\\")\\n        \\n        # Extract zip files\\n        zip_files = glob.glob(f'{data_dir}*.zip')\\n        for zip_file in zip_files:\\n            print(f\\\"Extracting {zip_file}...\\\")\\n            with zipfile.ZipFile(zip_file, 'r') as zip_ref:\\n                zip_ref.extractall(data_dir)\\n            os.remove(zip_file)  # Clean up zip file\\n            \\n    except subprocess.CalledProcessError as e:\\n        print(f\\\"❌ Failed to download {dataset}: {e}\\\")\\n        \\nprint(f\\\"\\\\n✅ All domestic datasets ready!\\\")\\nprint(f\\\"Key file: enhanced_box_office_data(2000-2024)u.csv\\\")\"",
   "metadata": {},
   "execution_count": null,
   "outputs": []
  },
  {
   "cell_type": "code",
   "execution_count": null,
   "metadata": {},
   "outputs": [],
   "source": [
    "import pandas as pd\n",
    "import numpy as np\n",
    "import warnings\n",
    "warnings.filterwarnings('ignore')\n",
    "\n",
    "pd.set_option('display.max_columns', None)"
   ]
  },
  {
   "cell_type": "markdown",
   "metadata": {},
   "source": [
    "## Step 1: Load Enhanced Box Office Dataset"
   ]
  },
  {
   "cell_type": "code",
   "execution_count": null,
   "metadata": {},
   "outputs": [],
   "source": [
    "# Load enhanced box office dataset with domestic AND worldwide revenue\n",
    "domestic_df = pd.read_csv(\"../data/enhanced_box_office_data(2000-2024)u.csv\")\n",
    "\n",
    "print(f\"Enhanced Box Office Dataset:\")\n",
    "print(f\"Shape: {domestic_df.shape}\")\n",
    "print(f\"Columns: {list(domestic_df.columns)}\")\n",
    "print(f\"Year range: {domestic_df['Year'].min()} - {domestic_df['Year'].max()}\")\n",
    "\n",
    "domestic_df.head()"
   ]
  },
  {
   "cell_type": "code",
   "execution_count": null,
   "metadata": {},
   "outputs": [],
   "source": [
    "# Verify this is domestic data by checking Star Wars Force Awakens\n",
    "star_wars = domestic_df[domestic_df['Release Group'].str.contains('Force Awakens', case=False, na=False)]\n",
    "print(\"Star Wars Force Awakens verification:\")\n",
    "print(f\"Domestic: ${star_wars['$Domestic'].iloc[0]:,.0f}\")\n",
    "print(f\"Worldwide: ${star_wars['$Worldwide'].iloc[0]:,.0f}\")\n",
    "print(f\"✅ Domestic ($936M) matches expected US box office!\")\n",
    "\n",
    "display(star_wars[['Release Group', '$Worldwide', '$Domestic', 'Domestic %', 'Year']])"
   ]
  },
  {
   "cell_type": "markdown",
   "metadata": {},
   "source": [
    "## Step 2: Clean and Process Domestic Data"
   ]
  },
  {
   "cell_type": "code",
   "execution_count": null,
   "metadata": {},
   "outputs": [],
   "source": [
    "# Clean and standardize the domestic dataset\n",
    "df_clean = domestic_df.copy()\n",
    "\n",
    "# Rename columns for consistency\n",
    "df_clean = df_clean.rename(columns={\n",
    "    'Release Group': 'title',\n",
    "    '$Domestic': 'domestic_revenue',\n",
    "    '$Worldwide': 'worldwide_revenue', \n",
    "    'Year': 'release_year',\n",
    "    'Genres': 'genres',\n",
    "    'Rating': 'rating',\n",
    "    'Vote_Count': 'vote_count',\n",
    "    'Original_Language': 'original_language',\n",
    "    'Production_Countries': 'production_countries'\n",
    "})\n",
    "\n",
    "# Filter to 2015 onwards (matching our existing analysis)\n",
    "df_clean = df_clean[df_clean['release_year'] >= 2015]\n",
    "\n",
    "# Remove rows with missing domestic revenue\n",
    "df_clean = df_clean[df_clean['domestic_revenue'].notna() & (df_clean['domestic_revenue'] > 0)]\n",
    "\n",
    "# Clean title formatting\n",
    "df_clean['title'] = df_clean['title'].str.strip()\n",
    "\n",
    "print(f\"Cleaned domestic dataset:\")\n",
    "print(f\"Shape: {df_clean.shape}\")\n",
    "print(f\"Year range: {df_clean['release_year'].min()} - {df_clean['release_year'].max()}\")\n",
    "print(f\"Movies with domestic revenue: {len(df_clean)}\")\n",
    "\n",
    "df_clean.head()"
   ]
  },
  {
   "cell_type": "markdown",
   "metadata": {},
   "source": [
    "## Step 3: Load Existing TMDB Dataset"
   ]
  },
  {
   "cell_type": "code",
   "execution_count": null,
   "metadata": {},
   "outputs": [],
   "source": [
    "# Load existing TMDB dataset for production companies, cast, etc.\n",
    "tmdb_df = pd.read_csv(\"../data/TMDB_movie_dataset_v11.csv\")\n",
    "\n",
    "# Convert release_date to datetime and extract year\n",
    "tmdb_df['release_date'] = pd.to_datetime(tmdb_df['release_date'], errors='coerce')\n",
    "tmdb_df['release_year'] = tmdb_df['release_date'].dt.year\n",
    "\n",
    "# Filter to 2015 onwards\n",
    "tmdb_df = tmdb_df[(tmdb_df['release_year'] >= 2015) & (tmdb_df['release_year'].notna())]\n",
    "\n",
    "print(f\"TMDB dataset (2015+):\")\n",
    "print(f\"Shape: {tmdb_df.shape}\")\n",
    "print(f\"Key columns: {[col for col in tmdb_df.columns if col in ['title', 'production_companies', 'genres', 'budget', 'revenue']]}\")\n",
    "\n",
    "tmdb_df.head(3)"
   ]
  },
  {
   "cell_type": "markdown",
   "metadata": {},
   "source": [
    "## Step 4: Merge Domestic Data with TMDB"
   ]
  },
  {
   "cell_type": "code",
   "execution_count": null,
   "metadata": {},
   "outputs": [],
   "source": [
    "# Merge domestic box office data with TMDB metadata\n",
    "# Primary matching: title + release_year\n",
    "\n",
    "merged_df = pd.merge(\n",
    "    tmdb_df,\n",
    "    df_clean[['title', 'release_year', 'domestic_revenue', 'worldwide_revenue', 'rating', 'vote_count']],\n",
    "    on=['title', 'release_year'],\n",
    "    how='inner'\n",
    ")\n",
    "\n",
    "print(f\"Merged dataset:\")\n",
    "print(f\"Shape: {merged_df.shape}\")\n",
    "print(f\"Successful matches: {len(merged_df)} movies\")\n",
    "print(f\"Match rate: {len(merged_df)/len(df_clean)*100:.1f}% of domestic data\")\n",
    "\n",
    "# Show comparison of revenue sources\n",
    "print(f\"\\nRevenue comparison (first 5 movies):\")\n",
    "revenue_comparison = merged_df[['title', 'revenue', 'worldwide_revenue', 'domestic_revenue']].head()\n",
    "revenue_comparison.columns = ['Title', 'TMDB_Revenue', 'New_Worldwide', 'New_Domestic']\n",
    "display(revenue_comparison)"
   ]
  },
  {
   "cell_type": "markdown",
   "metadata": {},
   "source": [
    "## Step 5: Replace Revenue Data with Domestic"
   ]
  },
  {
   "cell_type": "code",
   "execution_count": null,
   "metadata": {},
   "outputs": [],
   "source": [
    "# Create final dataset with domestic revenue replacing worldwide\n",
    "final_df = merged_df.copy()\n",
    "\n",
    "# Replace the 'revenue' column with domestic revenue\n",
    "final_df['revenue'] = final_df['domestic_revenue']\n",
    "\n",
    "# Keep both for comparison\n",
    "final_df['revenue_worldwide'] = final_df['worldwide_revenue']\n",
    "final_df['revenue_domestic'] = final_df['domestic_revenue']\n",
    "\n",
    "# Drop the temporary columns\n",
    "final_df = final_df.drop(['domestic_revenue', 'worldwide_revenue'], axis=1)\n",
    "\n",
    "# Show the transformation\n",
    "print(\"Revenue transformation successful!\")\n",
    "print(f\"Final dataset shape: {final_df.shape}\")\n",
    "\n",
    "# Verify with Star Wars\n",
    "star_wars_final = final_df[final_df['title'].str.contains('Force Awakens', case=False, na=False)]\n",
    "if len(star_wars_final) > 0:\n",
    "    print(f\"\\nStar Wars Force Awakens verification:\")\n",
    "    print(f\"New 'revenue' (domestic): ${star_wars_final['revenue'].iloc[0]:,.0f}\")\n",
    "    print(f\"Old 'revenue_worldwide': ${star_wars_final['revenue_worldwide'].iloc[0]:,.0f}\")\n",
    "    print(f\"✅ Successfully switched to domestic revenue!\")\n",
    "\n",
    "final_df.head(3)"
   ]
  },
  {
   "cell_type": "markdown",
   "metadata": {},
   "source": [
    "## Step 6: Export New Domestic Dataset"
   ]
  },
  {
   "cell_type": "code",
   "execution_count": null,
   "metadata": {},
   "outputs": [],
   "source": [
    "# Export to new dataset file\n",
    "final_df.to_csv(\"../data/dataset_domestic.csv\", index=False)\n",
    "\n",
    "print(f\"✅ Exported domestic dataset: {final_df.shape}\")\n",
    "print(f\"File: dataset_domestic.csv\")\n",
    "\n",
    "# Show top 10 domestic performers\n",
    "print(f\"\\nTop 10 domestic box office (US) since 2015:\")\n",
    "top_domestic = final_df.nlargest(10, 'revenue')[['title', 'revenue', 'revenue_worldwide', 'release_year']]\n",
    "display(top_domestic)"
   ]
  }
 ],
 "metadata": {
  "kernelspec": {
   "display_name": "Python 3",
   "language": "python",
   "name": "python3"
  },
  "language_info": {
   "codemirror_mode": {
    "name": "ipython",
    "version": 3
   },
   "file_extension": ".py",
   "mimetype": "text/x-python",
   "name": "python",
   "nbconvert_exporter": "python",
   "pygments_lexer": "ipython3",
   "version": "3.8.0"
  }
 },
 "nbformat": 4,
 "nbformat_minor": 4
}